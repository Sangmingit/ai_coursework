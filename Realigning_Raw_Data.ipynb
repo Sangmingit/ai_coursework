{
 "cells": [
  {
   "cell_type": "code",
   "execution_count": 1,
   "id": "641c814c",
   "metadata": {},
   "outputs": [],
   "source": [
    "#Realign Data\n",
    "import pandas as pd\n",
    "import numpy as np\n",
    "\n",
    "dataURL = \"hungarian.data\"\n",
    "\n",
    "data = []\n",
    "with open(\"hungarian.data\",\"r\") as rawFile:\n",
    "    data = rawFile.readlines() \n",
    "\n",
    "newData=[]\n",
    "count = 1\n",
    "while count <= 294:\n",
    "    newData.append([data[0]+data[1]+data[2]+data[3]+data[4]+data[5]+data[6]+data[7]+data[8]+data[9]])\n",
    "    data = data[10:]\n",
    "    count += 1  \n",
    "for i in range(0,len(newData)):\n",
    "    newData[i][0] = newData[i][0].replace(\"\\n\",\" \")\n",
    "    newData[i][0] = newData[i][0][0:-1]+\"\\n\"\n",
    "with open(\"hungarian_aligned.txt\",\"w\") as f:\n",
    "    for i in range(0,len(newData)):\n",
    "        f.write(newData[i][0])\n"
   ]
  }
 ],
 "metadata": {
  "kernelspec": {
   "display_name": "Python 3 (ipykernel)",
   "language": "python",
   "name": "python3"
  },
  "language_info": {
   "codemirror_mode": {
    "name": "ipython",
    "version": 3
   },
   "file_extension": ".py",
   "mimetype": "text/x-python",
   "name": "python",
   "nbconvert_exporter": "python",
   "pygments_lexer": "ipython3",
   "version": "3.9.7"
  }
 },
 "nbformat": 4,
 "nbformat_minor": 5
}
