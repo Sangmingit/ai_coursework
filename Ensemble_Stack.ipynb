{
 "cells": [
  {
   "cell_type": "code",
   "execution_count": 1,
   "id": "29b287ad",
   "metadata": {},
   "outputs": [],
   "source": [
    "#Imports\n",
    "import math\n",
    "import numpy as np\n",
    "import pandas as pd\n",
    "from collections import Counter\n",
    "from sklearn.neighbors import KNeighborsClassifier\n",
    "from sklearn.linear_model import LogisticRegression\n",
    "from sklearn.ensemble import RandomForestClassifier\n",
    "from sklearn.ensemble import StackingClassifier\n",
    "from sklearn.model_selection import RepeatedStratifiedKFold\n",
    "from sklearn.model_selection import cross_val_score\n",
    "from sklearn.metrics import classification_report\n",
    "from numpy import mean\n",
    "from numpy import std\n",
    "from matplotlib import pyplot\n",
    "\n",
    "from sklearn.metrics import accuracy_score\n",
    "from sklearn.metrics import confusion_matrix\n",
    "from sklearn.metrics import precision_recall_fscore_support\n",
    "from sklearn.metrics import recall_score\n",
    "from sklearn.metrics import precision_recall_curve\n",
    "from sklearn.metrics import plot_roc_curve, auc, roc_curve, roc_auc_score\n",
    "from sklearn.model_selection import GridSearchCV\n",
    "from sklearn.model_selection import RandomizedSearchCV\n",
    "import seaborn as sns\n",
    "from sklearn.preprocessing import StandardScaler\n",
    "from sklearn.decomposition import PCA"
   ]
  },
  {
   "cell_type": "code",
   "execution_count": 2,
   "id": "73038c1d",
   "metadata": {},
   "outputs": [
    {
     "name": "stdout",
     "output_type": "stream",
     "text": [
      "Training set: \n",
      "(173, 25)\n",
      "(173, 1)\n",
      "Counter({0: 110, 1: 63}) \n",
      "\n",
      "Validation set: \n",
      "(43, 25)\n",
      "(43, 1)\n",
      "Counter({0: 27, 1: 16}) \n",
      "\n",
      "Test set: \n",
      "(73, 25)\n",
      "(73, 1)\n",
      "Counter({0: 47, 1: 26}) \n",
      "\n"
     ]
    }
   ],
   "source": [
    "#Import the data after preprocessing\n",
    "training = pd.read_csv(\"training.csv\").iloc[:,1:]\n",
    "validation = pd.read_csv(\"validation.csv\").iloc[:,1:]\n",
    "test = pd.read_csv(\"test.csv\").iloc[:,1:]\n",
    "\n",
    "#Split the data into X and y, input and output features\n",
    "x_train = training.iloc[:,:-1]\n",
    "y_train = training.iloc[:,-1:]\n",
    "\n",
    "x_valid = validation.iloc[:,:-1]\n",
    "y_valid = validation.iloc[:,-1:]\n",
    "\n",
    "x_test = test.iloc[:,:-1]\n",
    "y_test = test.iloc[:,-1:]\n",
    "\n",
    "print(\"Training set: \")\n",
    "print(x_train.shape)\n",
    "print(y_train.shape)\n",
    "print(Counter(y_train.iloc[:,0]),\"\\n\")\n",
    "\n",
    "print(\"Validation set: \")\n",
    "print(x_valid.shape)\n",
    "print(y_valid.shape)\n",
    "print(Counter(y_valid.iloc[:,0]),\"\\n\")\n",
    "\n",
    "print(\"Test set: \")\n",
    "print(x_test.shape)\n",
    "print(y_test.shape)\n",
    "print(Counter(y_test.iloc[:,0]),\"\\n\")"
   ]
  },
  {
   "cell_type": "code",
   "execution_count": 3,
   "id": "082a0ac2",
   "metadata": {},
   "outputs": [],
   "source": [
    "#Evaluation Function for classification\n",
    "def evaluation(x_valid, y_valid, y_pred, model):\n",
    "\n",
    "    #Confusion Matrix\n",
    "    conf = confusion_matrix(y_valid, y_pred)\n",
    "    print(\"Confusion Matrix:\\n\",conf,\"\\n\")\n",
    "    \n",
    "    #report\n",
    "    target_names = ['0', '1']\n",
    "    print(classification_report(y_valid, y_pred, target_names=target_names))\n",
    "\n",
    "    #ROC curve and AUC\n",
    "    plot_roc_curve(model, x_valid, y_valid, color=\"purple\") \n",
    "    pyplot.show()"
   ]
  },
  {
   "cell_type": "code",
   "execution_count": 4,
   "id": "5af673f6",
   "metadata": {},
   "outputs": [
    {
     "name": "stdout",
     "output_type": "stream",
     "text": [
      "Confusion Matrix:\n",
      " [[25  2]\n",
      " [ 8  8]] \n",
      "\n",
      "              precision    recall  f1-score   support\n",
      "\n",
      "           0       0.76      0.93      0.83        27\n",
      "           1       0.80      0.50      0.62        16\n",
      "\n",
      "    accuracy                           0.77        43\n",
      "   macro avg       0.78      0.71      0.72        43\n",
      "weighted avg       0.77      0.77      0.75        43\n",
      "\n"
     ]
    },
    {
     "data": {
      "image/png": "[encoded data removed]",
      "text/plain": [
       "<Figure size 432x288 with 1 Axes>"
      ]
     },
     "metadata": {
      "needs_background": "light"
     },
     "output_type": "display_data"
    }
   ],
   "source": [
    "# Creating base model, no hyperparameter tuning\n",
    "# Level 0 Learners\n",
    "base_learners = {\n",
    "    \"kNN\": KNeighborsClassifier(),\n",
    "    \"logistic\": LogisticRegression(),\n",
    "    \"forest\": RandomForestClassifier(random_state = 21)\n",
    "}\n",
    "\n",
    "\n",
    "#Creating the level0 learners\n",
    "lvl0 = []\n",
    "for i in base_learners.keys():\n",
    "    lvl0.append((i,base_learners[i]))\n",
    "\n",
    "#Creating meta learner (level1 learner), logistic regression common for classification\n",
    "lvl1 = LogisticRegression()\n",
    "\n",
    "#Creating the stack model\n",
    "model = StackingClassifier(estimators = lvl0, final_estimator = lvl1, cv=5)\n",
    "\n",
    "#Fitting our training data to the stack and seeing the score on the validation set\n",
    "fitted = model.fit(x_train, y_train.squeeze())\n",
    "y_pred = model.predict(x_valid)\n",
    "\n",
    "evaluation(x_valid, y_valid, y_pred, model)"
   ]
  },
  {
   "cell_type": "code",
   "execution_count": 5,
   "id": "21a3adf1",
   "metadata": {},
   "outputs": [
    {
     "name": "stdout",
     "output_type": "stream",
     "text": [
      "Eigenvalues:\n",
      "[0.65149483 0.24805544 0.20640829 0.19063383 0.16890327 0.08951725\n",
      " 0.07974257 0.07588332 0.06343155 0.05256591 0.05064338 0.04464355\n",
      " 0.04123154 0.03916141 0.02558104 0.02033744 0.01668298 0.01315169\n",
      " 0.01211054 0.01025763 0.00940552 0.00893804 0.00846828 0.00771342\n",
      " 0.0023193 ] \n",
      "\n",
      "% Variance described: \n",
      "[0.30482399 0.11606117 0.09657513 0.08919451 0.07902713 0.04188369\n",
      " 0.03731027 0.03550459 0.02967861 0.02459475 0.02369523 0.020888\n",
      " 0.01929157 0.018323   0.01196896 0.00951556 0.0078057  0.00615346\n",
      " 0.00566633 0.00479938 0.00440069 0.00418197 0.00396217 0.00360899\n",
      " 0.00108516] \n",
      "\n"
     ]
    },
    {
     "data": {
      "text/plain": [
       "'\\nFrom this plot, we can see that 15-17 principal components explain 95% of the variance of the data (each component orthogonal)\\n'"
      ]
     },
     "execution_count": 5,
     "metadata": {},
     "output_type": "execute_result"
    },
    {
     "data": {
      "image/png": "[encoded data removed]",
      "text/plain": [
       "<Figure size 432x288 with 1 Axes>"
      ]
     },
     "metadata": {
      "needs_background": "light"
     },
     "output_type": "display_data"
    }
   ],
   "source": [
    "#Seeing if PCA helps the base model perform better before we tune our hyperparameters\n",
    "pca = PCA(n_components=None)\n",
    "\"\"\"scaler = StandardScaler()\n",
    "x_train_scaled = scaler.fit_transform(x_train)\n",
    "x_valid_scaled = scaler.fit_transform(x_valid)\n",
    "x_test_scaled = scaler.fit_transform(x_test)\n",
    "pca.fit(x_train_scaled)\"\"\"\n",
    "pca.fit(x_train)\n",
    "\n",
    "print(\"Eigenvalues:\")\n",
    "print(pca.explained_variance_,\"\\n\")\n",
    "\n",
    "print(\"% Variance described: \")\n",
    "print(pca.explained_variance_ratio_,\"\\n\")\n",
    "\n",
    "#Plotting these as a cummulative function to find the optimal n_components\n",
    "pyplot.plot(np.cumsum(pca.explained_variance_ratio_))\n",
    "pyplot.ylabel(\"Cummulative Sum of Variance Explained\")\n",
    "pyplot.xlabel(\"Number of Principal Components\")\n",
    "\n",
    "\"\"\"\n",
    "From this plot, we can see that 15-17 principal components explain 95% of the variance of the data (each component orthogonal)\n",
    "\"\"\""
   ]
  },
  {
   "cell_type": "code",
   "execution_count": 6,
   "id": "615aa9ab",
   "metadata": {},
   "outputs": [
    {
     "name": "stdout",
     "output_type": "stream",
     "text": [
      "           0         1         2         3         4         5         6   \\\n",
      "0    0.235102 -0.483535 -0.448497 -0.136874  0.337335 -0.043185  0.408097   \n",
      "1   -0.657815  0.738105 -0.319322  0.081140  0.288492  0.140724  0.063187   \n",
      "2   -0.786874  0.741927  0.274121 -0.208744 -0.332042 -0.176199 -0.047361   \n",
      "3   -0.872231  0.898117  0.252846 -0.314479 -0.212829  0.102759 -0.088731   \n",
      "4    1.041309  0.653485 -0.576863 -0.210810 -0.073880  0.095348  0.147340   \n",
      "..        ...       ...       ...       ...       ...       ...       ...   \n",
      "168  0.228486  0.805554  0.445586  1.079043  0.383117 -0.366556 -0.483162   \n",
      "169  0.460933 -0.578435 -0.187362  0.472478 -0.689126 -0.070464 -0.214369   \n",
      "170  0.500374  0.546333 -0.519176  0.597548 -0.869685  0.065309 -0.136654   \n",
      "171  1.072223 -0.159328 -0.273825 -0.585501  0.172776  0.293088 -0.160340   \n",
      "172  1.249704 -0.331826  0.668839  0.285577  0.584827 -0.143351 -0.013188   \n",
      "\n",
      "           7         8         9         10        11        12        13  \\\n",
      "0    0.283186 -0.586803  0.045728 -0.358839  0.000512 -0.278592  0.029919   \n",
      "1   -0.440105  0.032196 -0.136059  0.138109  0.002685  0.164524  0.127741   \n",
      "2   -0.013920 -0.209192 -0.219928 -0.073855  0.172380 -0.157181 -0.120727   \n",
      "3   -0.083812 -0.195349 -0.051108 -0.166697 -0.054335 -0.088547 -0.020198   \n",
      "4    0.497118  0.142577  0.168472 -0.056599  0.442101  0.416451 -0.301683   \n",
      "..        ...       ...       ...       ...       ...       ...       ...   \n",
      "168 -0.133401  0.221091  0.292421 -0.060344 -0.333995 -0.318673 -0.507276   \n",
      "169  0.237672 -0.084004 -0.120769 -0.071181 -0.020081  0.025566 -0.004655   \n",
      "170  0.203052 -0.320847  0.206276  0.156447 -0.369090  0.097619 -0.006967   \n",
      "171 -0.162171 -0.045058  0.186262 -0.283941 -0.413257  0.033350  0.096997   \n",
      "172  0.264669 -0.243792 -0.040676  0.076592 -0.208179  0.034835 -0.509467   \n",
      "\n",
      "           14  \n",
      "0    0.025861  \n",
      "1    0.167555  \n",
      "2   -0.171205  \n",
      "3   -0.001298  \n",
      "4   -0.032103  \n",
      "..        ...  \n",
      "168  0.293858  \n",
      "169  0.155676  \n",
      "170 -0.013859  \n",
      "171  0.360020  \n",
      "172  0.242830  \n",
      "\n",
      "[173 rows x 15 columns]\n"
     ]
    }
   ],
   "source": [
    "#Setting n_components to be 15\n",
    "pca = PCA(n_components=15)\n",
    "x_train_transformed = pd.DataFrame(pca.fit_transform(x_train))\n",
    "print(x_train_transformed)\n",
    "\n",
    "\n"
   ]
  },
  {
   "cell_type": "code",
   "execution_count": 7,
   "id": "54d3f180",
   "metadata": {},
   "outputs": [
    {
     "name": "stdout",
     "output_type": "stream",
     "text": [
      "Confusion Matrix:\n",
      " [[21  6]\n",
      " [ 7  9]] \n",
      "\n",
      "              precision    recall  f1-score   support\n",
      "\n",
      "           0       0.75      0.78      0.76        27\n",
      "           1       0.60      0.56      0.58        16\n",
      "\n",
      "    accuracy                           0.70        43\n",
      "   macro avg       0.68      0.67      0.67        43\n",
      "weighted avg       0.69      0.70      0.70        43\n",
      "\n"
     ]
    },
    {
     "data": {
      "image/png": "[encoded data removed]",
      "text/plain": [
       "<Figure size 432x288 with 1 Axes>"
      ]
     },
     "metadata": {
      "needs_background": "light"
     },
     "output_type": "display_data"
    }
   ],
   "source": [
    "#Now test the model on the validation set to see if this improves it\n",
    "\n",
    "# Level 0 Learners\n",
    "base_learners = {\n",
    "    \"kNN\": KNeighborsClassifier(),\n",
    "    \"logistic\": LogisticRegression(),\n",
    "    \"forest\": RandomForestClassifier(random_state = 21)\n",
    "}\n",
    "\n",
    "\n",
    "#Creating the level0 learners\n",
    "lvl0 = []\n",
    "for i in base_learners.keys():\n",
    "    lvl0.append((i,base_learners[i]))\n",
    "\n",
    "#Creating meta learner (level1 learner), logistic regression common for classification\n",
    "lvl1 = LogisticRegression()\n",
    "\n",
    "#Creating the stack model\n",
    "model = StackingClassifier(estimators = lvl0, final_estimator = lvl1, cv=5)\n",
    "\n",
    "model.fit(x_train_transformed, y_train.squeeze())\n",
    "\n",
    "x_valid_transformed = pd.DataFrame(pca.fit_transform(x_valid))\n",
    "y_pred = model.predict(x_valid_transformed)\n",
    "\n",
    "evaluation(x_valid_transformed, y_valid, y_pred, model)"
   ]
  },
  {
   "cell_type": "code",
   "execution_count": null,
   "id": "ef4b9e4c",
   "metadata": {},
   "outputs": [],
   "source": [
    "#So no PCA needed since this doesnt improve our model much"
   ]
  },
  {
   "cell_type": "code",
   "execution_count": null,
   "id": "cdad2411",
   "metadata": {},
   "outputs": [],
   "source": []
  },
  {
   "cell_type": "code",
   "execution_count": null,
   "id": "84e61fef",
   "metadata": {},
   "outputs": [],
   "source": []
  },
  {
   "cell_type": "code",
   "execution_count": null,
   "id": "8754e524",
   "metadata": {},
   "outputs": [],
   "source": []
  },
  {
   "cell_type": "code",
   "execution_count": null,
   "id": "c17bba36",
   "metadata": {},
   "outputs": [],
   "source": []
  },
  {
   "cell_type": "code",
   "execution_count": 8,
   "id": "ee4a3563",
   "metadata": {
    "scrolled": true
   },
   "outputs": [
    {
     "name": "stderr",
     "output_type": "stream",
     "text": [
      "C:\\Users\\alecb\\anaconda3\\lib\\site-packages\\sklearn\\model_selection\\_search.py:922: UserWarning: One or more of the test scores are non-finite: [       nan 0.79210084 0.80369748 0.77512605        nan        nan\n",
      "        nan 0.79243697 0.79815126        nan        nan        nan\n",
      " 0.78067227 0.78084034        nan        nan        nan        nan\n",
      " 0.79798319        nan 0.79815126        nan        nan        nan\n",
      "        nan        nan        nan 0.79210084 0.80352941 0.78621849\n",
      "        nan 0.78067227        nan        nan 0.80369748 0.79798319\n",
      " 0.79798319 0.78638655        nan 0.79798319 0.79243697        nan\n",
      "        nan 0.80352941        nan 0.7805042         nan        nan\n",
      " 0.79798319        nan        nan        nan 0.7692437  0.78621849\n",
      " 0.80403361        nan 0.79781513 0.79798319        nan        nan\n",
      "        nan        nan        nan        nan 0.79210084 0.78638655\n",
      " 0.79815126        nan        nan 0.77512605 0.79226891 0.79798319\n",
      "        nan        nan        nan 0.78638655        nan        nan\n",
      " 0.78067227 0.78084034        nan        nan        nan        nan\n",
      "        nan        nan        nan        nan        nan 0.79226891\n",
      " 0.78655462 0.79798319 0.80352941        nan        nan 0.78638655\n",
      "        nan        nan        nan 0.79815126]\n",
      "  warnings.warn(\n",
      "C:\\Users\\alecb\\anaconda3\\lib\\site-packages\\sklearn\\linear_model\\_logistic.py:1322: UserWarning: Setting penalty='none' will ignore the C and l1_ratio parameters\n",
      "  warnings.warn(\n",
      "C:\\Users\\alecb\\anaconda3\\lib\\site-packages\\sklearn\\linear_model\\_sag.py:328: ConvergenceWarning: The max_iter was reached which means the coef_ did not converge\n",
      "  warnings.warn(\"The max_iter was reached which means \"\n",
      "C:\\Users\\alecb\\anaconda3\\lib\\site-packages\\sklearn\\linear_model\\_logistic.py:1322: UserWarning: Setting penalty='none' will ignore the C and l1_ratio parameters\n",
      "  warnings.warn(\n",
      "C:\\Users\\alecb\\anaconda3\\lib\\site-packages\\sklearn\\linear_model\\_sag.py:328: ConvergenceWarning: The max_iter was reached which means the coef_ did not converge\n",
      "  warnings.warn(\"The max_iter was reached which means \"\n",
      "C:\\Users\\alecb\\anaconda3\\lib\\site-packages\\sklearn\\linear_model\\_logistic.py:1322: UserWarning: Setting penalty='none' will ignore the C and l1_ratio parameters\n",
      "  warnings.warn(\n",
      "C:\\Users\\alecb\\anaconda3\\lib\\site-packages\\sklearn\\linear_model\\_sag.py:328: ConvergenceWarning: The max_iter was reached which means the coef_ did not converge\n",
      "  warnings.warn(\"The max_iter was reached which means \"\n",
      "C:\\Users\\alecb\\anaconda3\\lib\\site-packages\\sklearn\\linear_model\\_logistic.py:1322: UserWarning: Setting penalty='none' will ignore the C and l1_ratio parameters\n",
      "  warnings.warn(\n",
      "C:\\Users\\alecb\\anaconda3\\lib\\site-packages\\sklearn\\linear_model\\_sag.py:328: ConvergenceWarning: The max_iter was reached which means the coef_ did not converge\n",
      "  warnings.warn(\"The max_iter was reached which means \"\n",
      "C:\\Users\\alecb\\anaconda3\\lib\\site-packages\\sklearn\\linear_model\\_logistic.py:1322: UserWarning: Setting penalty='none' will ignore the C and l1_ratio parameters\n",
      "  warnings.warn(\n",
      "C:\\Users\\alecb\\anaconda3\\lib\\site-packages\\sklearn\\linear_model\\_sag.py:328: ConvergenceWarning: The max_iter was reached which means the coef_ did not converge\n",
      "  warnings.warn(\"The max_iter was reached which means \"\n",
      "C:\\Users\\alecb\\anaconda3\\lib\\site-packages\\sklearn\\linear_model\\_logistic.py:1322: UserWarning: Setting penalty='none' will ignore the C and l1_ratio parameters\n",
      "  warnings.warn(\n",
      "C:\\Users\\alecb\\anaconda3\\lib\\site-packages\\sklearn\\linear_model\\_sag.py:328: ConvergenceWarning: The max_iter was reached which means the coef_ did not converge\n",
      "  warnings.warn(\"The max_iter was reached which means \"\n"
     ]
    },
    {
     "name": "stdout",
     "output_type": "stream",
     "text": [
      "{'logistic__solver': 'saga', 'logistic__penalty': 'none', 'logistic__C': 0.01, 'kNN__weights': 'distance', 'kNN__p': 2, 'kNN__n_neighbors': 25, 'kNN__metric': 'euclidean', 'kNN__leaf_size': 20, 'kNN__algorithm': 'ball_tree', 'forest__n_estimators': 250, 'forest__max_features': 'log2', 'forest__criterion': 'gini', 'forest__bootstrap': True}\n",
      "\n",
      "Method 1: Best Score:  0.8040336134453782\n",
      "Confusion Matrix:\n",
      " [[26  1]\n",
      " [ 7  9]] \n",
      "\n",
      "              precision    recall  f1-score   support\n",
      "\n",
      "           0       0.79      0.96      0.87        27\n",
      "           1       0.90      0.56      0.69        16\n",
      "\n",
      "    accuracy                           0.81        43\n",
      "   macro avg       0.84      0.76      0.78        43\n",
      "weighted avg       0.83      0.81      0.80        43\n",
      "\n"
     ]
    },
    {
     "data": {
      "image/png": "[encoded data removed]",
      "text/plain": [
       "<Figure size 432x288 with 1 Axes>"
      ]
     },
     "metadata": {
      "needs_background": "light"
     },
     "output_type": "display_data"
    }
   ],
   "source": [
    "#Begin hyperparameter tuning using validation set\n",
    "#Using a RandomSearch, on the ensemble:\n",
    "base_learners = {\n",
    "    \"kNN\": KNeighborsClassifier(),\n",
    "    \"logistic\": LogisticRegression(),\n",
    "    \"forest\": RandomForestClassifier(random_state = 21)\n",
    "}\n",
    "\n",
    "estimators = []\n",
    "for i in base_learners.keys():\n",
    "    estimators.append((i,base_learners[i]))\n",
    "\n",
    "model = StackingClassifier(estimators = estimators, final_estimator =  LogisticRegression(), cv=5)\n",
    "\n",
    "#Ensemble search space, too complex \n",
    "#Quick Search with random\n",
    "parameters = {\n",
    "    \"kNN__n_neighbors\": range(1,30),\n",
    "    \"kNN__weights\": [\"uniform\", \"distance\"],\n",
    "    \"kNN__algorithm\":[\"auto\",\"ball_tree\",\"kd_tree\",\"brute\"],\n",
    "    \"kNN__leaf_size\":[5,10,20,30,40,50],\n",
    "    \"kNN__metric\": [\"euclidean\", \"manhattan\",\"minkowski\"],\n",
    "    \"kNN__p\":[1,2],\n",
    "    \n",
    "    \"logistic__penalty\":[\"l1\", \"l2\", \"elasticnet\", \"none\"],\n",
    "    \"logistic__C\":[100, 10, 1.0, 0.1, 0.01],\n",
    "    \"logistic__solver\":[\"newton-cg\",\"lbfgs\", \"liblinear\",\n",
    "                        \"sag\", \"saga\"],\n",
    "    \n",
    "    \"forest__n_estimators\":[10,50,100,250,500,1000],\n",
    "    \"forest__criterion\": [\"gini\", \"entropy\", \"log_loss\"],\n",
    "    \"forest__max_features\":[\"sqrt\", \"log2\"],\n",
    "    \"forest__bootstrap\": [True, False]\n",
    "}\n",
    "\n",
    "\n",
    "#Note: this may take 5 minutes\n",
    "#Note that the CV stands for crossvalidation since an internal cross validation is used to calculate score from hyperparams\n",
    "tuned_model = RandomizedSearchCV(estimator = model, param_distributions = parameters, n_iter = 100, n_jobs=-1,\n",
    "                                 scoring=\"accuracy\", random_state=21)\n",
    "tuned_model.fit(x_train, y_train.squeeze())\n",
    "randomParams = tuned_model.best_params_\n",
    "print(randomParams)\n",
    "print(\"\\nMethod 1: Best Score: \", tuned_model.best_score_)\n",
    "\n",
    "y_pred = tuned_model.predict(x_valid)\n",
    "\n",
    "evaluation(x_valid, y_valid, y_pred, tuned_model)\n",
    "\n",
    "#Note: all of the warnings come from incompatible matchups of logistic regression shrinkage terms (l1 or l2) and the differe\n",
    "#algorithms as can be found in the scikitlearn API"
   ]
  },
  {
   "cell_type": "code",
   "execution_count": 9,
   "id": "7cd7bf67",
   "metadata": {},
   "outputs": [
    {
     "name": "stdout",
     "output_type": "stream",
     "text": [
      "{'algorithm': 'auto', 'leaf_size': 5, 'metric': 'manhattan', 'n_neighbors': 5, 'p': 1, 'weights': 'uniform'}\n"
     ]
    },
    {
     "data": {
      "text/plain": [
       "'y_pred = tuned_kNN.predict(x_valid)\\n\\nevaluation(x_valid,y_valid, y_pred, tuned_kNN)'"
      ]
     },
     "execution_count": 9,
     "metadata": {},
     "output_type": "execute_result"
    }
   ],
   "source": [
    "#Tune each base learner separately (isolated tuning) via Grid Search\n",
    "#kNN Tuning\n",
    "kNN_params = {\n",
    "    \"n_neighbors\": [5,10,15,20,25],\n",
    "    \"weights\": [\"uniform\", \"distance\"],\n",
    "    \"algorithm\":[\"auto\",\"ball_tree\",\"kd_tree\",\"brute\"],\n",
    "    \"leaf_size\":[5,10,20,30,40,50],\n",
    "    \"metric\": [\"euclidean\", \"manhattan\",\"minkowski\"],\n",
    "    \"p\":[1,2]\n",
    "}\n",
    "\n",
    "kNN = KNeighborsClassifier()\n",
    "tuned_kNN = GridSearchCV(estimator = kNN, param_grid = kNN_params, n_jobs=-1, scoring=\"accuracy\")\n",
    "tuned_kNN.fit(x_train, y_train.squeeze())\n",
    "kNNParams = tuned_kNN.best_params_\n",
    "print(kNNParams)\n",
    "\n",
    "\"\"\"y_pred = tuned_kNN.predict(x_valid)\n",
    "\n",
    "evaluation(x_valid,y_valid, y_pred, tuned_kNN)\"\"\""
   ]
  },
  {
   "cell_type": "code",
   "execution_count": 10,
   "id": "91125fbd",
   "metadata": {},
   "outputs": [
    {
     "name": "stdout",
     "output_type": "stream",
     "text": [
      "{'C': 0.1, 'penalty': 'l2', 'solver': 'newton-cg'}\n"
     ]
    },
    {
     "name": "stderr",
     "output_type": "stream",
     "text": [
      "C:\\Users\\alecb\\anaconda3\\lib\\site-packages\\sklearn\\model_selection\\_search.py:922: UserWarning: One or more of the test scores are non-finite: [       nan        nan 0.77512605        nan 0.79260504 0.7692437\n",
      " 0.7692437  0.77512605 0.79260504 0.79260504        nan        nan\n",
      "        nan        nan        nan 0.76941176 0.76941176        nan\n",
      " 0.78689076 0.79260504        nan        nan 0.77512605        nan\n",
      " 0.79260504 0.78689076 0.78689076 0.78689076 0.78689076 0.79260504\n",
      "        nan        nan        nan        nan        nan 0.76941176\n",
      " 0.76941176        nan 0.78689076 0.79260504        nan        nan\n",
      " 0.79848739        nan 0.78672269 0.7810084  0.7810084  0.78672269\n",
      " 0.77512605 0.77512605        nan        nan        nan        nan\n",
      "        nan 0.76941176 0.76941176        nan 0.78689076 0.79260504\n",
      "        nan        nan 0.81563025        nan 0.82151261 0.79798319\n",
      " 0.79798319 0.80991597 0.79798319 0.79798319        nan        nan\n",
      "        nan        nan        nan 0.76941176 0.76941176        nan\n",
      " 0.78689076 0.79260504        nan        nan 0.72773109        nan\n",
      " 0.73932773 0.82689076 0.82689076 0.82117647 0.82689076 0.82689076\n",
      "        nan        nan        nan        nan        nan 0.76941176\n",
      " 0.76941176        nan 0.78689076 0.79260504        nan        nan\n",
      " 0.63596639        nan 0.63596639 0.63596639 0.63596639 0.67092437\n",
      " 0.63596639 0.63596639        nan        nan        nan        nan\n",
      "        nan 0.76941176 0.76941176        nan 0.78689076 0.79260504]\n",
      "  warnings.warn(\n"
     ]
    },
    {
     "data": {
      "text/plain": [
       "'y_pred = tuned_logistic.predict(x_valid)\\n\\nevaluation(x_valid,y_valid, y_pred, tuned_logistic)'"
      ]
     },
     "execution_count": 10,
     "metadata": {},
     "output_type": "execute_result"
    }
   ],
   "source": [
    "#Logistic Regression Tuning\n",
    "logistic_params = {\n",
    "    \"penalty\":[\"l1\", \"l2\", \"elasticnet\", \"none\"],\n",
    "    \"C\":[1000,100, 10, 1.0, 0.1, 0.01],\n",
    "    \"solver\":[\"newton-cg\",\"lbfgs\", \"liblinear\", \"sag\", \"saga\"]\n",
    "    \n",
    "}\n",
    "\n",
    "logistic = LogisticRegression()\n",
    "tuned_logistic = GridSearchCV(estimator = logistic, param_grid = logistic_params, n_jobs=-1, scoring=\"accuracy\")\n",
    "tuned_logistic.fit(x_train, y_train.squeeze())\n",
    "logisticParams = tuned_logistic.best_params_\n",
    "print(logisticParams)\n",
    "\n",
    "\"\"\"y_pred = tuned_logistic.predict(x_valid)\n",
    "\n",
    "evaluation(x_valid,y_valid, y_pred, tuned_logistic)\"\"\""
   ]
  },
  {
   "cell_type": "code",
   "execution_count": 11,
   "id": "5fc8007f",
   "metadata": {},
   "outputs": [
    {
     "name": "stdout",
     "output_type": "stream",
     "text": [
      "{'bootstrap': True, 'criterion': 'gini', 'max_features': 'sqrt', 'n_estimators': 10, 'random_state': 21}\n"
     ]
    },
    {
     "name": "stderr",
     "output_type": "stream",
     "text": [
      "C:\\Users\\alecb\\anaconda3\\lib\\site-packages\\sklearn\\model_selection\\_search.py:922: UserWarning: One or more of the test scores are non-finite: [0.82689076 0.80941176 0.79798319 0.77462185 0.80386555 0.79226891\n",
      " 0.78588235 0.79798319 0.79210084 0.78655462 0.78067227 0.79210084\n",
      "        nan        nan        nan        nan        nan        nan\n",
      " 0.79798319 0.79243697 0.80403361 0.77546218 0.78638655 0.78655462\n",
      " 0.78621849 0.79226891 0.79226891 0.77495798 0.78067227 0.78638655\n",
      "        nan        nan        nan        nan        nan        nan]\n",
      "  warnings.warn(\n"
     ]
    },
    {
     "data": {
      "text/plain": [
       "'y_pred = tuned_forest.predict(x_valid)\\n\\nevaluation(x_valid,y_valid, y_pred, tuned_forest)'"
      ]
     },
     "execution_count": 11,
     "metadata": {},
     "output_type": "execute_result"
    }
   ],
   "source": [
    "#Random Forest Tuning\n",
    "forest_params = {\n",
    "    \"n_estimators\":[10,100,1000],\n",
    "    \"criterion\": [\"gini\", \"entropy\", \"log_loss\"],\n",
    "    \"max_features\":[\"sqrt\", \"log2\"],\n",
    "    \"bootstrap\": [True, False],\n",
    "    \"random_state\":[21]\n",
    "}\n",
    "\n",
    "forest = RandomForestClassifier()\n",
    "tuned_forest = GridSearchCV(estimator = forest, param_grid = forest_params, n_jobs=-1, scoring=\"accuracy\")\n",
    "tuned_forest.fit(x_train, y_train.squeeze())\n",
    "forestParams = tuned_forest.best_params_\n",
    "print(forestParams)\n",
    "\n",
    "\"\"\"y_pred = tuned_forest.predict(x_valid)\n",
    "\n",
    "evaluation(x_valid,y_valid, y_pred, tuned_forest)\"\"\""
   ]
  },
  {
   "cell_type": "code",
   "execution_count": 12,
   "id": "9c7e4b9f",
   "metadata": {},
   "outputs": [
    {
     "name": "stdout",
     "output_type": "stream",
     "text": [
      "Confusion Matrix:\n",
      " [[25  2]\n",
      " [ 7  9]] \n",
      "\n",
      "              precision    recall  f1-score   support\n",
      "\n",
      "           0       0.78      0.93      0.85        27\n",
      "           1       0.82      0.56      0.67        16\n",
      "\n",
      "    accuracy                           0.79        43\n",
      "   macro avg       0.80      0.74      0.76        43\n",
      "weighted avg       0.79      0.79      0.78        43\n",
      "\n"
     ]
    },
    {
     "data": {
      "image/png": "[encoded data removed]",
      "text/plain": [
       "<Figure size 432x288 with 1 Axes>"
      ]
     },
     "metadata": {
      "needs_background": "light"
     },
     "output_type": "display_data"
    }
   ],
   "source": [
    "#Compare Isolated tuning with results of Randomised Search \n",
    "# Level 0 Learners\n",
    "base_learners = {\n",
    "    \"kNN\": KNeighborsClassifier(algorithm=\"auto\", leaf_size=5, metric=\"manhattan\",\n",
    "                                n_neighbors=5, p=1, weights=\"uniform\"),\n",
    "    \"logistic\": LogisticRegression(C=0.1, penalty=\"l2\", solver=\"newton-cg\"),\n",
    "    \"forest\": RandomForestClassifier(bootstrap=True, criterion=\"gini\", max_features=\"sqrt\",\n",
    "                                     n_estimators=10, random_state = 21)\n",
    "}\n",
    "\n",
    "\n",
    "#Creating the level0 learners\n",
    "lvl0 = []\n",
    "for i in base_learners.keys():\n",
    "    lvl0.append((i,base_learners[i]))\n",
    "\n",
    "#Creating meta learner (level1 learner), logistic regression common for classification\n",
    "lvl1 = LogisticRegression()\n",
    "\n",
    "#Creating the stack model\n",
    "model = StackingClassifier(estimators = lvl0, final_estimator = lvl1, cv=5)\n",
    "\n",
    "#Fitting our training data to the stack and seeing the score on the validation set\n",
    "fitted = model.fit(x_train, y_train.squeeze())\n",
    "y_pred = model.predict(x_valid)\n",
    "\n",
    "evaluation(x_valid,y_valid, y_pred, model)"
   ]
  },
  {
   "cell_type": "code",
   "execution_count": 13,
   "id": "73a69d9b",
   "metadata": {},
   "outputs": [
    {
     "name": "stdout",
     "output_type": "stream",
     "text": [
      "{'forest__criterion': 'gini', 'forest__n_estimators': 100, 'forest__random_state': 21, 'kNN__metric': 'euclidean', 'kNN__n_neighbors': 5, 'logistic__penalty': 'l2', 'logistic__solver': 'newton-cg'}\n",
      "\n",
      "Method 3: Best Score:  0.8268907563025211\n",
      "Confusion Matrix:\n",
      " [[25  2]\n",
      " [ 8  8]] \n",
      "\n",
      "              precision    recall  f1-score   support\n",
      "\n",
      "           0       0.76      0.93      0.83        27\n",
      "           1       0.80      0.50      0.62        16\n",
      "\n",
      "    accuracy                           0.77        43\n",
      "   macro avg       0.78      0.71      0.72        43\n",
      "weighted avg       0.77      0.77      0.75        43\n",
      "\n"
     ]
    },
    {
     "data": {
      "image/png": "[encoded data removed]",
      "text/plain": [
       "<Figure size 432x288 with 1 Axes>"
      ]
     },
     "metadata": {
      "needs_background": "light"
     },
     "output_type": "display_data"
    }
   ],
   "source": [
    "#Final method, restricted grid search on most important hyperparameters (manual tuning)\n",
    "# Level 0 Learners\n",
    "base_learners = {\n",
    "    \"kNN\": KNeighborsClassifier(),\n",
    "    \"logistic\": LogisticRegression(),\n",
    "    \"forest\": RandomForestClassifier()\n",
    "}\n",
    "\n",
    "\n",
    "#Creating meta learner (level1 learner), logistic regression common for classification\n",
    "lvl1 = LogisticRegression()\n",
    "\n",
    "\n",
    "estimators = []\n",
    "for i in base_learners.keys():\n",
    "    estimators.append((i,base_learners[i]))\n",
    "\n",
    "model = StackingClassifier(estimators = estimators, final_estimator =  lvl1, cv=5)\n",
    "\n",
    "\"\"\"\n",
    "This search space is too complex and can take up to years to complete, so we pick out the most relevant hyperparameters\n",
    "to focus on optimising first\n",
    "\n",
    "\n",
    "parameters = {\n",
    "    \"kNN__n_neighbors\": range(1,30),\n",
    "    \"kNN__weights\": [\"uniform\", \"distance\"],\n",
    "    \"kNN__algorithm\":[\"auto\",\"ball_tree\",\"kd_tree\",\"brute\"],\n",
    "    \"kNN__leaf_size\":[5,10,20,30,40,50],\n",
    "    \"kNN__metric\": [\"euclidean\", \"manhattan\",\"minkowski\"],\n",
    "    \"kNN__p\":[1,2],\n",
    "    \n",
    "    \"logistic__penalty\":[\"l1\", \"l2\", \"elasticnet\", \"none\"],\n",
    "    \"logistic__C\":[100, 10, 1.0, 0.1, 0.01],\n",
    "    \"logistic__solver\":[\"newton-cg\",\"lbfgs\", \"liblinear\", \"sag\", \"saga\"],\n",
    "    \n",
    "    \"forest__n_estimators\":[10,50,100,250,500,1000],\n",
    "    \"forest__criterion\": [\"gini\", \"entropy\", \"log_loss\"],\n",
    "    \"forest__max_features\":[\"sqrt\", \"log2\"],\n",
    "    \"forest__bootstrap\": [True, False]\n",
    "}\n",
    "\"\"\"\n",
    "\n",
    "\"\"\"parameters = {\n",
    "    \"kNN__n_neighbors\":[25],\n",
    "    \"kNN__metric\": [\"euclidean\"],\n",
    "    \n",
    "    \"logistic__penalty\":[\"none\"],\n",
    "    \"logistic__solver\":[\"sag\"],\n",
    "    \n",
    "    \"forest__n_estimators\":[10],\n",
    "    \"forest__criterion\": [\"gini\"],\n",
    "    \"forest__random_state\": [21]\n",
    "}\"\"\"\n",
    "\n",
    "#A more manageable search space for Grid Search\n",
    "#(Running this takes an hour)\n",
    "\"\"\"parameters = {\n",
    "    \"kNN__n_neighbors\":[5,15,25],\n",
    "    \"kNN__metric\": [\"euclidean\", \"manhattan\",\"minkowski\"],\n",
    "    \n",
    "    \"logistic__penalty\":[\"l2\",\"none\"],\n",
    "    \"logistic__solver\":[\"newton-cg\",\"lbfgs\", \"liblinear\", \"sag\", \"saga\"],\n",
    "    \n",
    "    \"forest__n_estimators\":[10,100,1000],\n",
    "    \"forest__criterion\": [\"gini\",\"entropy\",\"log_loss\"],\n",
    "    \"forest__random_state\": [21]\n",
    "}\"\"\"\n",
    "\n",
    "parameters = {\n",
    "    \"kNN__n_neighbors\":[5],\n",
    "    \"kNN__metric\": [\"euclidean\"],\n",
    "    \n",
    "    \"logistic__penalty\":[\"l2\"],\n",
    "    \"logistic__solver\":[\"newton-cg\"],\n",
    "    \n",
    "    \"forest__n_estimators\":[100],\n",
    "    \"forest__criterion\": [\"gini\"],\n",
    "    \"forest__random_state\": [21]\n",
    "}\n",
    "\n",
    "\"\"\"{'forest__criterion': 'gini', 'forest__n_estimators': 100, \n",
    " 'forest__random_state': 21, 'kNN__metric': 'euclidean',\n",
    " 'kNN__n_neighbors': 5, 'logistic__penalty': 'l2', \n",
    " 'logistic__solver': 'newton-cg'}\"\"\"\n",
    "\n",
    "\n",
    "tuned_model = GridSearchCV(estimator = model, param_grid = parameters, n_jobs=-1, scoring=\"accuracy\")\n",
    "tuned_model.fit(x_train, y_train.squeeze())\n",
    "gridParams = tuned_model.best_params_\n",
    "print(gridParams)\n",
    "print(\"\\nMethod 3: Best Score: \", tuned_model.best_score_)\n",
    "\n",
    "y_pred = tuned_model.predict(x_valid)\n",
    "\n",
    "evaluation(x_valid,y_valid, y_pred, tuned_model)"
   ]
  },
  {
   "cell_type": "code",
   "execution_count": 14,
   "id": "522297c3",
   "metadata": {},
   "outputs": [],
   "source": [
    "#Train the best model on the training and validation data\n",
    "#Currently, the best performing model is the one I manually tuned 26,1,6,10 the one above\n",
    "\n",
    "base_learners = {\n",
    "    \"kNN\": KNeighborsClassifier(metric = \"euclidean\",n_neighbors=5),\n",
    "    \"logistic\": LogisticRegression(penalty=\"l2\",solver=\"newton-cg\"),\n",
    "    \"forest\": RandomForestClassifier(criterion=\"gini\", n_estimators=100, random_state=21)\n",
    "}\n",
    "\n",
    "#{'logistic__solver': 'saga', 'logistic__penalty': 'none', 'logistic__C': 0.01, 'kNN__weights': 'distance', 'kNN__p': 2, \n",
    "#'kNN__n_neighbors': 25, 'kNN__metric': 'euclidean',\n",
    "#'kNN__leaf_size': 20, 'kNN__algorithm': 'ball_tree', 'forest__n_estimators': 250, \n",
    "#'forest__max_features': 'log2', 'forest__criterion': 'gini', 'forest__bootstrap': True}\n",
    "\n",
    "\n",
    "#{'forest__criterion': 'gini', 'forest__n_estimators': 10, 'forest__random_state': 21, 'kNN__metric': 'euclidean', 'kNN__n_neighbors': 25, 'logistic__penalty': 'none', 'logistic__solver': 'sag'}\n",
    "\n",
    "lvl1 = LogisticRegression()\n",
    "lvl0 = []\n",
    "for i in base_learners.keys():\n",
    "    lvl0.append((i,base_learners[i]))\n",
    "\n",
    "final_model = StackingClassifier(estimators = lvl0, final_estimator =  lvl1, cv=5)\n",
    "\n",
    "\n",
    "\n",
    "\n"
   ]
  },
  {
   "cell_type": "code",
   "execution_count": null,
   "id": "4c76abca",
   "metadata": {},
   "outputs": [],
   "source": []
  },
  {
   "cell_type": "code",
   "execution_count": 15,
   "id": "5176e6b3",
   "metadata": {},
   "outputs": [
    {
     "name": "stdout",
     "output_type": "stream",
     "text": [
      "Confusion Matrix:\n",
      " [[42  5]\n",
      " [ 3 23]] \n",
      "\n",
      "              precision    recall  f1-score   support\n",
      "\n",
      "           0       0.93      0.89      0.91        47\n",
      "           1       0.82      0.88      0.85        26\n",
      "\n",
      "    accuracy                           0.89        73\n",
      "   macro avg       0.88      0.89      0.88        73\n",
      "weighted avg       0.89      0.89      0.89        73\n",
      "\n"
     ]
    },
    {
     "data": {
      "image/png": "[encoded data removed]",
      "text/plain": [
       "<Figure size 432x288 with 1 Axes>"
      ]
     },
     "metadata": {
      "needs_background": "light"
     },
     "output_type": "display_data"
    }
   ],
   "source": [
    "#Merge training and validation data\n",
    "x_trainingV = pd.concat([x_train, x_valid])\n",
    "y_trainingV = pd.concat([y_train, y_valid])\n",
    "\n",
    "#fit the final model on this data\n",
    "final_model.fit(x_trainingV, y_trainingV.squeeze())\n",
    "\n",
    "#Evaluate the results on the Test Set\n",
    "y_pred = final_model.predict(x_test)\n",
    "evaluation(x_test,y_test,y_pred,final_model)"
   ]
  },
  {
   "cell_type": "code",
   "execution_count": null,
   "id": "dc09c50a",
   "metadata": {},
   "outputs": [],
   "source": [
    "target_names = ['class 0', 'class 1']\n",
    "print(classification_report(y_test, y_pred, target_names=target_names))"
   ]
  },
  {
   "cell_type": "code",
   "execution_count": null,
   "id": "c85a4697",
   "metadata": {},
   "outputs": [],
   "source": [
    "##Multiple ROC Curves:\n",
    "pyplot.figure(0).clf()\n",
    "\n",
    "#logistic regression\n",
    "model = LogisticRegression(C = 0.05963623316594643, penalty=\"l2\", solver=\"lbfgs\")\n",
    "model.fit(x_trainingV, y_trainingV)\n",
    "\n",
    "print(model.coef_, model.intercept_)\n",
    "y_pred = model.predict(x_test)\n",
    "target_names = ['class 0', 'class 1']\n",
    "print(classification_report(y_test, y_pred, target_names=target_names))\n",
    "evaluation(x_test,y_test,y_pred,model)\n",
    "\n",
    "y_pred = model.predict_proba(x_test)[:, 1]\n",
    "fpr, tpr, na = roc_curve(y_test, y_pred)\n",
    "auc = round(roc_auc_score(y_test, y_pred), 2)\n",
    "\n",
    "pyplot.plot(fpr,tpr,label=\"Logistic Regression AUC: \"+str(auc))\n",
    "\n",
    "#kNN\n",
    "model = KNeighborsClassifier(leaf_size=1, metric=\"manhattan\", n_neighbors=15, weights=\"uniform\")\n",
    "model.fit(x_trainingV, y_trainingV)\n",
    "y_pred = model.predict_proba(x_test)[:, 1]\n",
    "fpr, tpr, na = roc_curve(y_test, y_pred)\n",
    "auc = round(roc_auc_score(y_test, y_pred), 2)\n",
    "pyplot.plot(fpr,tpr,label=\"KNN AUC: \"+str(auc))\n",
    "\n",
    "#ensembe stack\n",
    "final_model.fit(x_trainingV, y_trainingV)\n",
    "y_pred = final_model.predict_proba(x_test)[:, 1]\n",
    "fpr, tpr, na = roc_curve(y_test, y_pred)\n",
    "auc = round(roc_auc_score(y_test, y_pred), 2)\n",
    "pyplot.plot(fpr,tpr,label=\"Stack AUC: \"+str(auc))\n",
    "\n",
    "pyplot.ylabel(\"True Positive Rate ->\")\n",
    "pyplot.xlabel(\"False Positive Rate ->\")\n",
    "\n",
    "#add legend\n",
    "pyplot.legend()\n",
    "pyplot.show()\n"
   ]
  },
  {
   "cell_type": "code",
   "execution_count": null,
   "id": "7f7b8dcf",
   "metadata": {},
   "outputs": [],
   "source": [
    "base_learners = {\n",
    "    \"kNN\": KNeighborsClassifier(metric = \"euclidean\",n_neighbors=5),\n",
    "    \"logistic\": LogisticRegression(penalty=\"l2\",solver=\"newton-cg\"),\n",
    "    \"forest\": RandomForestClassifier(criterion=\"gini\", n_estimators=100, random_state=21)\n",
    "}\n",
    "\n",
    "#{'logistic__solver': 'saga', 'logistic__penalty': 'none', 'logistic__C': 0.01, 'kNN__weights': 'distance', 'kNN__p': 2, \n",
    "#'kNN__n_neighbors': 25, 'kNN__metric': 'euclidean',\n",
    "#'kNN__leaf_size': 20, 'kNN__algorithm': 'ball_tree', 'forest__n_estimators': 250, \n",
    "#'forest__max_features': 'log2', 'forest__criterion': 'gini', 'forest__bootstrap': True}\n",
    "\n",
    "\n",
    "#{'forest__criterion': 'gini', 'forest__n_estimators': 10, 'forest__random_state': 21, 'kNN__metric': 'euclidean', 'kNN__n_neighbors': 25, 'logistic__penalty': 'none', 'logistic__solver': 'sag'}\n",
    "\n",
    "lvl1 = LogisticRegression()\n",
    "lvl0 = []\n",
    "for i in base_learners.keys():\n",
    "    lvl0.append((i,base_learners[i]))\n",
    "\n",
    "final_model = StackingClassifier(estimators = lvl0, final_estimator =  lvl1, cv=5)"
   ]
  },
  {
   "cell_type": "code",
   "execution_count": null,
   "id": "fb13964c",
   "metadata": {},
   "outputs": [],
   "source": [
    "##Multiple Precision/Recall Curves:\n",
    "pyplot.figure(1).clf()\n",
    "\n",
    "\n",
    "\n",
    "\n",
    "\n",
    "#logistic regression\n",
    "model = LogisticRegression(C = 0.05963623316594643, penalty=\"l2\", solver=\"lbfgs\")\n",
    "model.fit(x_trainingV, y_trainingV)\n",
    "y_pred = model.predict_proba(x_test)[:, 1]\n",
    "precision, recall, thresholds = precision_recall_curve(y_test, y_pred)\n",
    "\n",
    "pyplot.plot(recall,precision,label=\"Logistic Regression\")\n",
    "\n",
    "#kNN\n",
    "model = KNeighborsClassifier(leaf_size=1, metric=\"manhattan\", n_neighbors=15, weights=\"uniform\")\n",
    "model.fit(x_trainingV, y_trainingV)\n",
    "y_pred = model.predict_proba(x_test)[:, 1]\n",
    "precision, recall, thresholds = precision_recall_curve(y_test, y_pred)\n",
    "pyplot.plot(recall,precision,label=\"KNN\")\n",
    "\n",
    "#ensembe stack\n",
    "final_model.fit(x_trainingV, y_trainingV)\n",
    "y_pred = final_model.predict_proba(x_test)[:, 1]\n",
    "precision, recall, thresholds = precision_recall_curve(y_test, y_pred)\n",
    "pyplot.plot(recall,precision,label=\"Stack\")\n",
    "\n",
    "pyplot.ylabel(\"Precision\")\n",
    "pyplot.xlabel(\"Recall\")\n",
    "\n",
    "\n",
    "\n",
    "#add legend\n",
    "pyplot.legend()\n",
    "pyplot.show()"
   ]
  }
 ],
 "metadata": {
  "kernelspec": {
   "display_name": "Python 3 (ipykernel)",
   "language": "python",
   "name": "python3"
  },
  "language_info": {
   "codemirror_mode": {
    "name": "ipython",
    "version": 3
   },
   "file_extension": ".py",
   "mimetype": "text/x-python",
   "name": "python",
   "nbconvert_exporter": "python",
   "pygments_lexer": "ipython3",
   "version": "3.9.7"
  }
 },
 "nbformat": 4,
 "nbformat_minor": 5
}
