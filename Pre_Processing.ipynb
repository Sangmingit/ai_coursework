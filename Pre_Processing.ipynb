{
 "cells": [
  {
   "cell_type": "code",
   "execution_count": 1,
   "id": "d0b48876",
   "metadata": {},
   "outputs": [],
   "source": [
    "import pandas as pd\n",
    "import numpy as np\n",
    "import re\n",
    "\n",
    "#The following describes each column of the data as can be  found in the heart-disease.names file\n",
    "columns = {\n",
    "    \"id\": \"patient identification number\",\n",
    "    \"ccf\" : \"social security number\",\n",
    "    \"age\" : \"age in years\",\n",
    "    \"sex\" : \"1 = male; 0 = female\",\n",
    "    \"painloc\" : \"chest pain location (1 = substernal; 0 = otherwise)\",\n",
    "    \"painexer\" : \"1 = provoked by exertion; 0 = otherwise\",\n",
    "    \"relrest\" : \"1 = relieved after rest; 0 = otherwise\",\n",
    "    \"pncaden\" : \"sum of painloc, painexer, relrest\",\n",
    "    \"cp\" : \"chest pain type;  1: typical angina, 2: atypical angina, 3: non-anginal pain, 4: asymptomatic\",\n",
    "    \"trestbps\" : \"resting blood pressure (in mm Hg on admission to the hospital)\",\n",
    "    \"htn\" : \"hypertension\",\n",
    "    \"chol\" : \"serum cholestoral in mg/dl\",\n",
    "    \"smoke\" : \"1 = yes; 0 = no (is or is not a smoker)\",\n",
    "    \"cigs\" :  \"cigarettes per day\",\n",
    "    \"years\" : \"number of years as a smoker\",\n",
    "    \"fbs\" : \"fasting blood sugar > 120 mg/dl  (1 = true; 0 = false)\",\n",
    "    \"dm\" : \"1 = history of diabetes; 0 = no such history\",\n",
    "    \"famhist\" : \"family history of coronary artery disease (1 = yes; 0 = no)\",\n",
    "    \"restecg\" : \"\"\"resting electrocardiographic results; 0: normal, 1: having ST-T wave abnormality (T wave inversions and/or ST \n",
    "                    elevation or depression of > 0.05 mV), 2: showing probable or definite left ventricular hypertrophy\n",
    "                    by Estes' criteria \"\"\",\n",
    "    \"ekgmo\" : \"month of exercise ECG reading\",\n",
    "    \"ekgday\" : \"day of exercise ECG reading\",\n",
    "    \"ekgyr\" : \"year of exercise ECG reading\",\n",
    "    \"dig\" : \"digitalis used during exercise ECG: 1 = yes; 0 = no\",\n",
    "    \"prop\" : \"Beta blocker used during exercise ECG: 1 = yes; 0 = no\",\n",
    "    \"nitr\" : \"nitrates used during exercise ECG: 1 = yes; 0 = no\",\n",
    "    \"pro\" : \"calcium channel blocker used during exercise ECG: 1 = yes; 0 = no\",\n",
    "    \"diuretic\" : \"diuretic used used during exercise ECG: 1 = yes; 0 = no\",\n",
    "    \"proto\" : \"\"\"exercise protocol:\n",
    "          1 = Bruce     \n",
    "          2 = Kottus\n",
    "          3 = McHenry\n",
    "          4 = fast Balke\n",
    "          5 = Balke\n",
    "          6 = Noughton \n",
    "          7 = bike 150 kpa min/min \n",
    "          8 = bike 125 kpa min/min  \n",
    "          9 = bike 100 kpa min/min\n",
    "         10 = bike 75 kpa min/min\n",
    "         11 = bike 50 kpa min/min\n",
    "         12 = arm ergometer\"\"\",\n",
    "    \"thaldur\" : \"duration of exercise test in minutes\",\n",
    "    \"thaltime\" : \"time when ST measure depression was noted\",\n",
    "    \"met\" : \"mets achieved, ratio of working metabolic rate relative to your resting metabolic rate\",\n",
    "    \"thalach\" : \"maximum heart rate achieved\",\n",
    "    \"thalrest\" : \"resting heart rate\",\n",
    "    \"tpeakbps\" : \"peak exercise blood pressure (first of 2 parts)\",\n",
    "    \"tpeakbpd\" : \"peak exercise blood pressure (second of 2 parts)\",\n",
    "    \"dummy\" : \"na\",\n",
    "    \"trestbpd\" : \"resting blood pressure\",\n",
    "    \"exang\" : \"exercise induced angina (1 = yes; 0 = no)\",\n",
    "    \"xhypo\" : \"(1 = yes; 0 = no)\",\n",
    "    \"oldpeak\" : \"ST depression induced by exercise relative to rest\",\n",
    "    \"slope\" : \"\"\"the slope of the peak exercise ST segment\n",
    "        -- Value 1: upsloping\n",
    "        -- Value 2: flat\n",
    "        -- Value 3: downsloping\"\"\",\n",
    "    \"rldv5\" : \"height at rest\",\n",
    "    \"rldv5e\" : \"height at peak exercise\",\n",
    "    \"ca\" : \"number of major vessels (0-3) colored by flourosopy\",\n",
    "    \"restckm\" : \"irrelevant\",\n",
    "    \"exerckm\" : \"irrelevant\",\n",
    "    \"restef\" : \"rest raidonuclid (sp?) ejection fraction\",\n",
    "    \"restwm\" : \"\"\"rest wall (sp?) motion abnormality\n",
    "        0 = none\n",
    "        1 = mild or moderate\n",
    "        2 = moderate or severe\n",
    "        3 = akinesis or dyskmem (sp?)\"\"\",\n",
    "    \"exeref\" : \"exercise radinalid (sp?) ejection fraction\",\n",
    "    \"exerwm\" : \"exercise wall (sp?) motion\", \n",
    "    \"thal\" : \"3 = normal; 6 = fixed defect; 7 = reversable defect\",\n",
    "    \"thalsev\" : \"not used\",\n",
    "    \"thalpul\" : \"not used\",\n",
    "    \"earlobe\" : \"not used\",\n",
    "    \"cmo\" : \"month of cardiac cath (sp?)  (perhaps 'call')\",\n",
    "    \"cday\" : \"day of cardiac cath (sp?)\",\n",
    "    \"cyr\" : \"year of cardiac cath (sp?)\",\n",
    "    \"num\" : \"\"\"diagnosis of heart disease (angiographic disease status)\n",
    "        -- Value 0: < 50% diameter narrowing\n",
    "        -- Value 1: > 50% diameter narrowing\n",
    "        (in any major vessel: following 10 attributes)\"\"\",\n",
    "    \"lmt\" : \"left main truck\",\n",
    "    \"ladprox\" : \"left anterior descending (proximal)\",\n",
    "    \"laddist\" : \"left anterior descending (distal)\",\n",
    "    \"diag\" : \"diagonal branches\",\n",
    "    \"cxmain\" : \"circumflex\",\n",
    "    \"ramus\" : \"Ramus intermedius\",\n",
    "    \"om1\" : \"first obtuse marginal branch\",\n",
    "    \"om2\" : \"second obtuse marginal branch\",\n",
    "    \"rcaprox\" : \"proximal right coronary artery\",\n",
    "    \"rcadist\" : \"distal right coronary artery\",\n",
    "    \"lvx1\" : \"not used\",\n",
    "    \"lvx2\" : \"not used\",\n",
    "    \"lvx3\" : \"not used\",\n",
    "    \"lvx4\" : \"not used\",\n",
    "    \"lvf\" : \"not used\",\n",
    "    \"cathef\" : \"not used\",\n",
    "    \"junk\" : \"not used\",\n",
    "    \"name\" : \"last name of patient, not used\" \n",
    "}"
   ]
  },
  {
   "cell_type": "code",
   "execution_count": 2,
   "id": "1b38e489",
   "metadata": {},
   "outputs": [],
   "source": [
    "##Code used in various locations, usefule for keeping track of different rows null attributes\n",
    "def null():\n",
    "    nulls = df.loc[df[col] == -9]\n",
    "    nulls = nulls[\"id\"].values\n",
    "    skip = False\n",
    "    for i in range(0,len(nulls)):\n",
    "        for j in range(0,len(nullData)):\n",
    "            if nullData[j][0] == nulls[i]:\n",
    "                nullData[j][1].append(col)\n",
    "                skip = True\n",
    "                break\n",
    "        if not skip:\n",
    "            nullData.append([nulls[i],[col]])\n",
    "        skip = False\n",
    "    print(nullData)"
   ]
  },
  {
   "cell_type": "code",
   "execution_count": 3,
   "id": "4ee44df9",
   "metadata": {},
   "outputs": [
    {
     "name": "stdout",
     "output_type": "stream",
     "text": [
      "76\n"
     ]
    }
   ],
   "source": [
    "#We now assign the columns' names to the data since this was not formatted initially\n",
    "df = pd.read_csv(\"hungarian_aligned.txt\", sep = \" \", header = None)\n",
    "df.columns = columns.keys()\n",
    "\n",
    "#The number of attributes in our data\n",
    "print(len(df.columns))"
   ]
  },
  {
   "cell_type": "code",
   "execution_count": 4,
   "id": "4b81b95d",
   "metadata": {},
   "outputs": [
    {
     "name": "stdout",
     "output_type": "stream",
     "text": [
      "                id    ccf         age         sex     painloc    painexer  \\\n",
      "count   294.000000  294.0  294.000000  294.000000  294.000000  294.000000   \n",
      "mean   1195.853741    0.0   47.826531    0.724490    0.921769    0.442177   \n",
      "std     397.340367    0.0    7.811812    0.447533    0.268993    0.497492   \n",
      "min    1001.000000    0.0   28.000000    0.000000    0.000000    0.000000   \n",
      "25%    1080.250000    0.0   42.000000    0.000000    1.000000    0.000000   \n",
      "50%    1158.500000    0.0   49.000000    1.000000    1.000000    0.000000   \n",
      "75%    1235.750000    0.0   54.000000    1.000000    1.000000    1.000000   \n",
      "max    5002.000000    0.0   66.000000    1.000000    1.000000    1.000000   \n",
      "\n",
      "          relrest  pncaden          cp    trestbps  ...         om2  \\\n",
      "count  294.000000    294.0  294.000000  294.000000  ...  294.000000   \n",
      "mean     0.520408     -9.0    2.982993  132.102041  ...   -8.812925   \n",
      "std      0.500435      0.0    0.965117   19.437564  ...    1.424686   \n",
      "min      0.000000     -9.0    1.000000   -9.000000  ...   -9.000000   \n",
      "25%      0.000000     -9.0    2.000000  120.000000  ...   -9.000000   \n",
      "50%      1.000000     -9.0    3.000000  130.000000  ...   -9.000000   \n",
      "75%      1.000000     -9.0    4.000000  140.000000  ...   -9.000000   \n",
      "max      1.000000     -9.0    4.000000  200.000000  ...    2.000000   \n",
      "\n",
      "          rcaprox     rcadist   lvx1        lvx2        lvx3        lvx4  \\\n",
      "count  294.000000  294.000000  294.0  294.000000  294.000000  294.000000   \n",
      "mean    -7.163265   -8.074830    1.0    1.006803    1.068027    1.479592   \n",
      "std      4.067755    3.041439    0.0    0.116642    0.454929    1.549389   \n",
      "min     -9.000000   -9.000000    1.0    1.000000    1.000000    1.000000   \n",
      "25%     -9.000000   -9.000000    1.0    1.000000    1.000000    1.000000   \n",
      "50%     -9.000000   -9.000000    1.0    1.000000    1.000000    1.000000   \n",
      "75%     -9.000000   -9.000000    1.0    1.000000    1.000000    1.000000   \n",
      "max      2.000000    2.000000    1.0    3.000000    5.000000    8.000000   \n",
      "\n",
      "              lvf      cathef   junk  \n",
      "count  294.000000  294.000000  294.0  \n",
      "mean     1.102041   -2.374150   -9.0  \n",
      "std      0.364550   20.767595    0.0  \n",
      "min      1.000000   -9.000000   -9.0  \n",
      "25%      1.000000   -9.000000   -9.0  \n",
      "50%      1.000000   -9.000000   -9.0  \n",
      "75%      1.000000   -9.000000   -9.0  \n",
      "max      4.000000   75.000000   -9.0  \n",
      "\n",
      "[8 rows x 75 columns]\n"
     ]
    },
    {
     "data": {
      "text/plain": [
       "'\\nKey Points:\\n    - There are some useless attributes either because they entirely consist of -9.0 (the symbol used for NULL) or because the\\n    data was omitted, eg. social security number (ccf)\\n    - df.dropna(axis=1, how=\"all\") doesn\\'t work well here since there is a different symbol used to represent NULL, -9.0. \\n    We will therefore deal with each column one by one as they come\\n'"
      ]
     },
     "execution_count": 4,
     "metadata": {},
     "output_type": "execute_result"
    }
   ],
   "source": [
    "#Initial description of data\n",
    "print(df.describe())\n",
    "\n",
    "\"\"\"\n",
    "Key Points:\n",
    "    - There are some useless attributes either because they entirely consist of -9.0 (the symbol used for NULL) or because the\n",
    "    data was omitted, eg. social security number (ccf)\n",
    "    - df.dropna(axis=1, how=\"all\") doesn't work well here since there is a different symbol used to represent NULL, -9.0. \n",
    "    We will therefore deal with each column one by one as they come\n",
    "\"\"\""
   ]
  },
  {
   "cell_type": "code",
   "execution_count": 5,
   "id": "fc285254",
   "metadata": {},
   "outputs": [
    {
     "name": "stdout",
     "output_type": "stream",
     "text": [
      "id            int64\n",
      "ccf           int64\n",
      "age           int64\n",
      "sex           int64\n",
      "painloc       int64\n",
      "painexer      int64\n",
      "relrest       int64\n",
      "pncaden       int64\n",
      "cp            int64\n",
      "trestbps      int64\n",
      "htn           int64\n",
      "chol          int64\n",
      "smoke         int64\n",
      "cigs          int64\n",
      "years         int64\n",
      "fbs           int64\n",
      "dm            int64\n",
      "famhist       int64\n",
      "restecg       int64\n",
      "ekgmo         int64\n",
      "ekgday        int64\n",
      "ekgyr         int64\n",
      "dig           int64\n",
      "prop          int64\n",
      "nitr          int64\n",
      "pro           int64\n",
      "diuretic      int64\n",
      "proto         int64\n",
      "thaldur     float64\n",
      "thaltime    float64\n",
      "met         float64\n",
      "thalach       int64\n",
      "thalrest      int64\n",
      "tpeakbps      int64\n",
      "tpeakbpd      int64\n",
      "dummy         int64\n",
      "trestbpd      int64\n",
      "exang         int64\n",
      "xhypo         int64\n",
      "oldpeak     float64\n",
      "slope         int64\n",
      "rldv5         int64\n",
      "rldv5e        int64\n",
      "ca            int64\n",
      "restckm       int64\n",
      "exerckm       int64\n",
      "restef        int64\n",
      "restwm        int64\n",
      "exeref        int64\n",
      "exerwm        int64\n",
      "thal          int64\n",
      "thalsev       int64\n",
      "thalpul       int64\n",
      "earlobe       int64\n",
      "cmo           int64\n",
      "cday          int64\n",
      "cyr           int64\n",
      "num           int64\n",
      "lmt           int64\n",
      "ladprox       int64\n",
      "laddist       int64\n",
      "diag          int64\n",
      "cxmain        int64\n",
      "ramus         int64\n",
      "om1           int64\n",
      "om2           int64\n",
      "rcaprox       int64\n",
      "rcadist       int64\n",
      "lvx1          int64\n",
      "lvx2          int64\n",
      "lvx3          int64\n",
      "lvx4          int64\n",
      "lvf           int64\n",
      "cathef      float64\n",
      "junk        float64\n",
      "name         object\n",
      "dtype: object\n"
     ]
    }
   ],
   "source": [
    "#Analyse data types of each attribute, here we can see we are working with numeric data\n",
    "with pd.option_context(\"display.max_rows\", None): \n",
    "    print(df.dtypes)"
   ]
  },
  {
   "cell_type": "code",
   "execution_count": 6,
   "id": "987138ea",
   "metadata": {},
   "outputs": [
    {
     "name": "stdout",
     "output_type": "stream",
     "text": [
      "patient identification number\n",
      "\n",
      "0      1254\n",
      "1      1255\n",
      "2      1256\n",
      "3      1257\n",
      "4      1258\n",
      "       ... \n",
      "289    1053\n",
      "290    1054\n",
      "291    5001\n",
      "292    5000\n",
      "293    5002\n",
      "Name: id, Length: 294, dtype: int64\n"
     ]
    }
   ],
   "source": [
    "#Analysing column 1: id\n",
    "col = \"id\"\n",
    "print(columns[col]+\"\\n\")\n",
    "print(df[col])\n",
    "\n",
    "\"\"\"\n",
    "    - This field only contains unique 4 digit number for each entry in our dataframe, it does not hold any useful information\n",
    "    that our model can learn from to predict heart disease since heart disease does not depend on this arbitrary id value\n",
    "    - We will therefore exclude this column\n",
    "\"\"\"\n",
    "drop = []\n",
    "drop.append(\"id\")"
   ]
  },
  {
   "cell_type": "code",
   "execution_count": 7,
   "id": "4a9deb9f",
   "metadata": {},
   "outputs": [
    {
     "name": "stdout",
     "output_type": "stream",
     "text": [
      "social security number\n",
      "\n",
      "count    294.0\n",
      "mean       0.0\n",
      "std        0.0\n",
      "min        0.0\n",
      "25%        0.0\n",
      "50%        0.0\n",
      "75%        0.0\n",
      "max        0.0\n",
      "Name: ccf, dtype: float64\n"
     ]
    }
   ],
   "source": [
    "#Analysing column 2: ccf\n",
    "col = \"ccf\"\n",
    "print(columns[col]+\"\\n\")\n",
    "print(df[col].describe())\n",
    "\n",
    "\"\"\"\n",
    "    - This column contains redundant values of 0 for social security for privacy purposes\n",
    "    - Our models can't learn from these arbitrary numbers so we will exclude this column too\n",
    "\"\"\"\n",
    "\n",
    "drop.append(\"ccf\")"
   ]
  },
  {
   "cell_type": "code",
   "execution_count": 8,
   "id": "8fbeee57",
   "metadata": {},
   "outputs": [
    {
     "name": "stdout",
     "output_type": "stream",
     "text": [
      "age in years\n",
      "\n",
      "count    294.000000\n",
      "mean      47.826531\n",
      "std        7.811812\n",
      "min       28.000000\n",
      "25%       42.000000\n",
      "50%       49.000000\n",
      "75%       54.000000\n",
      "max       66.000000\n",
      "Name: age, dtype: float64\n",
      "True\n"
     ]
    }
   ],
   "source": [
    "#Analysing column 3: age\n",
    "col = \"age\"\n",
    "print(columns[col]+\"\\n\")\n",
    "print(df[col].describe())\n",
    "\n",
    "#Check each value is an integer in the appropriate range\n",
    "for i in range(0,len(df[col])):\n",
    "    w = str(df[col][i])\n",
    "    x = re.search(\"[0-6][0-9]\", w)\n",
    "    if not x:\n",
    "        print(False)\n",
    "        break\n",
    "print(True)"
   ]
  },
  {
   "cell_type": "code",
   "execution_count": 9,
   "id": "3585aed9",
   "metadata": {},
   "outputs": [
    {
     "name": "stdout",
     "output_type": "stream",
     "text": [
      "1 = male; 0 = female\n",
      "\n",
      "count    294.000000\n",
      "mean       0.724490\n",
      "std        0.447533\n",
      "min        0.000000\n",
      "25%        0.000000\n",
      "50%        1.000000\n",
      "75%        1.000000\n",
      "max        1.000000\n",
      "Name: sex, dtype: float64 \n",
      "\n",
      "1    213\n",
      "0     81\n",
      "Name: sex, dtype: int64\n"
     ]
    },
    {
     "data": {
      "text/plain": [
       "'\\n    - Note that there are a lot more male subjects than female, this may skew our outcome later on\\n'"
      ]
     },
     "execution_count": 9,
     "metadata": {},
     "output_type": "execute_result"
    }
   ],
   "source": [
    "#Analysing column 4: sex\n",
    "col = \"sex\"\n",
    "print(columns[col]+\"\\n\")\n",
    "print(df[col].describe(),\"\\n\")\n",
    "print(df[col].value_counts())\n",
    "\n",
    "#213 + 81 = 294 as expected\n",
    "\"\"\"\n",
    "    - Note that there are a lot more male subjects than female, this may skew our outcome later on\n",
    "\"\"\""
   ]
  },
  {
   "cell_type": "code",
   "execution_count": 10,
   "id": "d62f976e",
   "metadata": {},
   "outputs": [
    {
     "name": "stdout",
     "output_type": "stream",
     "text": [
      "chest pain location (1 = substernal; 0 = otherwise)\n",
      "\n",
      "count    294.000000\n",
      "mean       0.921769\n",
      "std        0.268993\n",
      "min        0.000000\n",
      "25%        1.000000\n",
      "50%        1.000000\n",
      "75%        1.000000\n",
      "max        1.000000\n",
      "Name: painloc, dtype: float64 \n",
      "\n",
      "1    271\n",
      "0     23\n",
      "Name: painloc, dtype: int64\n"
     ]
    },
    {
     "data": {
      "text/plain": [
       "'\\n    - Note there are a lot more subjects with substernal pain\\n'"
      ]
     },
     "execution_count": 10,
     "metadata": {},
     "output_type": "execute_result"
    }
   ],
   "source": [
    "#Analysing column 5: painloc\n",
    "col = \"painloc\"\n",
    "print(columns[col]+\"\\n\")\n",
    "print(df[col].describe(),\"\\n\")\n",
    "print(df[col].value_counts())\n",
    "\n",
    "#271 + 23 = 294 as expected\n",
    "\"\"\"\n",
    "    - Note there are a lot more subjects with substernal pain\n",
    "\"\"\""
   ]
  },
  {
   "cell_type": "code",
   "execution_count": 11,
   "id": "f48707c5",
   "metadata": {},
   "outputs": [
    {
     "name": "stdout",
     "output_type": "stream",
     "text": [
      "1 = provoked by exertion; 0 = otherwise\n",
      "\n",
      "count    294.000000\n",
      "mean       0.442177\n",
      "std        0.497492\n",
      "min        0.000000\n",
      "25%        0.000000\n",
      "50%        0.000000\n",
      "75%        1.000000\n",
      "max        1.000000\n",
      "Name: painexer, dtype: float64 \n",
      "\n",
      "0    164\n",
      "1    130\n",
      "Name: painexer, dtype: int64\n"
     ]
    }
   ],
   "source": [
    "#Analysing column 6: painexer\n",
    "col = \"painexer\"\n",
    "print(columns[col]+\"\\n\")\n",
    "print(df[col].describe(),\"\\n\")\n",
    "print(df[col].value_counts())\n",
    "\n",
    "#164 + 130 = 294 as expected"
   ]
  },
  {
   "cell_type": "code",
   "execution_count": 12,
   "id": "b3363e8c",
   "metadata": {},
   "outputs": [
    {
     "name": "stdout",
     "output_type": "stream",
     "text": [
      "1 = relieved after rest; 0 = otherwise\n",
      "\n",
      "count    294.000000\n",
      "mean       0.520408\n",
      "std        0.500435\n",
      "min        0.000000\n",
      "25%        0.000000\n",
      "50%        1.000000\n",
      "75%        1.000000\n",
      "max        1.000000\n",
      "Name: relrest, dtype: float64 \n",
      "\n",
      "1    153\n",
      "0    141\n",
      "Name: relrest, dtype: int64\n"
     ]
    }
   ],
   "source": [
    "#Analysing column 7: relrest\n",
    "col = \"relrest\"\n",
    "print(columns[col]+\"\\n\")\n",
    "print(df[col].describe(),\"\\n\")\n",
    "print(df[col].value_counts())\n",
    "\n",
    "#153 + 141 = 294 as expected"
   ]
  },
  {
   "cell_type": "code",
   "execution_count": 13,
   "id": "5b07ab14",
   "metadata": {},
   "outputs": [
    {
     "name": "stdout",
     "output_type": "stream",
     "text": [
      "sum of painloc, painexer, relrest\n",
      "\n",
      "count    294.0\n",
      "mean      -9.0\n",
      "std        0.0\n",
      "min       -9.0\n",
      "25%       -9.0\n",
      "50%       -9.0\n",
      "75%       -9.0\n",
      "max       -9.0\n",
      "Name: pncaden, dtype: float64 \n",
      "\n",
      "-9    294\n",
      "Name: pncaden, dtype: int64\n"
     ]
    }
   ],
   "source": [
    "#Analysing column 8: pncaden\n",
    "col = \"pncaden\"\n",
    "print(columns[col]+\"\\n\")\n",
    "print(df[col].describe(),\"\\n\")\n",
    "print(df[col].value_counts())\n",
    "\n",
    "\"\"\"\n",
    "    - We can see this column is unused (recall -9.0 = NULL), and it in fact is unlikely to be useful since it is just the \n",
    "    sum of the previous features which we have already included\n",
    "    - We will also drop this column\n",
    "\"\"\"\n",
    "drop.append(\"pncaden\")"
   ]
  },
  {
   "cell_type": "code",
   "execution_count": 14,
   "id": "6ed86dae",
   "metadata": {},
   "outputs": [
    {
     "name": "stdout",
     "output_type": "stream",
     "text": [
      "chest pain type;  1: typical angina, 2: atypical angina, 3: non-anginal pain, 4: asymptomatic\n",
      "\n",
      "count    294.000000\n",
      "mean       2.982993\n",
      "std        0.965117\n",
      "min        1.000000\n",
      "25%        2.000000\n",
      "50%        3.000000\n",
      "75%        4.000000\n",
      "max        4.000000\n",
      "Name: cp, dtype: float64 \n",
      "\n",
      "4    123\n",
      "2    106\n",
      "3     54\n",
      "1     11\n",
      "Name: cp, dtype: int64\n"
     ]
    }
   ],
   "source": [
    "#Analysing column 9: cp\n",
    "col = \"cp\"\n",
    "print(columns[col]+\"\\n\")\n",
    "print(df[col].describe(),\"\\n\")\n",
    "print(df[col].value_counts())\n",
    "\n",
    "#123 + 106 + 54 + 11 = 294 as expected"
   ]
  },
  {
   "cell_type": "code",
   "execution_count": 15,
   "id": "5b99ee74",
   "metadata": {},
   "outputs": [
    {
     "name": "stdout",
     "output_type": "stream",
     "text": [
      "resting blood pressure (in mm Hg on admission to the hospital)\n",
      "\n",
      "count    294.000000\n",
      "mean     132.102041\n",
      "std       19.437564\n",
      "min       -9.000000\n",
      "25%      120.000000\n",
      "50%      130.000000\n",
      "75%      140.000000\n",
      "max      200.000000\n",
      "Name: trestbps, dtype: float64 \n",
      "\n",
      " 120    65\n",
      " 130    54\n",
      " 140    50\n",
      " 150    23\n",
      " 110    21\n",
      " 160    20\n",
      " 125     8\n",
      " 180     6\n",
      " 100     6\n",
      " 135     5\n",
      " 170     5\n",
      " 145     5\n",
      " 112     3\n",
      " 122     2\n",
      " 118     2\n",
      " 124     2\n",
      " 115     2\n",
      " 132     1\n",
      " 106     1\n",
      " 105     1\n",
      " 98      1\n",
      " 138     1\n",
      " 200     1\n",
      " 92      1\n",
      " 155     1\n",
      " 128     1\n",
      " 113     1\n",
      " 108     1\n",
      " 136     1\n",
      " 190     1\n",
      " 142     1\n",
      "-9       1\n",
      "Name: trestbps, dtype: int64 \n",
      "\n",
      "[[1053, ['trestbps']]]\n"
     ]
    }
   ],
   "source": [
    "#Analysing column 10: trestbps\n",
    "col = \"trestbps\"\n",
    "print(columns[col]+\"\\n\")\n",
    "print(df[col].describe(),\"\\n\")\n",
    "print(df[col].value_counts(),\"\\n\")\n",
    "\n",
    "#Since there are some null values, we are going to keep track of these as they come\n",
    "nullData = []\n",
    "null()\n",
    "\n"
   ]
  },
  {
   "cell_type": "code",
   "execution_count": 16,
   "id": "915ddc2f",
   "metadata": {},
   "outputs": [
    {
     "name": "stdout",
     "output_type": "stream",
     "text": [
      "hypertension\n",
      "\n",
      "count    294.000000\n",
      "mean       0.302721\n",
      "std        0.720395\n",
      "min       -9.000000\n",
      "25%        0.000000\n",
      "50%        0.000000\n",
      "75%        1.000000\n",
      "max        1.000000\n",
      "Name: htn, dtype: float64 \n",
      "\n",
      " 0    195\n",
      " 1     98\n",
      "-9      1\n",
      "Name: htn, dtype: int64 \n",
      "\n",
      "[[1053, ['trestbps']], [1103, ['htn']]]\n"
     ]
    }
   ],
   "source": [
    "#Analysing column 11: htn\n",
    "col = \"htn\"\n",
    "print(columns[col]+\"\\n\")\n",
    "print(df[col].describe(),\"\\n\")\n",
    "print(df[col].value_counts(),\"\\n\")\n",
    "\n",
    "null()"
   ]
  },
  {
   "cell_type": "code",
   "execution_count": 17,
   "id": "ea4a87ea",
   "metadata": {},
   "outputs": [
    {
     "name": "stdout",
     "output_type": "stream",
     "text": [
      "serum cholestoral in mg/dl\n",
      "\n",
      "count    294.000000\n",
      "mean     230.520408\n",
      "std       95.414336\n",
      "min       -9.000000\n",
      "25%      198.000000\n",
      "50%      237.000000\n",
      "75%      277.000000\n",
      "max      603.000000\n",
      "Name: chol, dtype: float64 \n",
      "\n",
      "-9      23\n",
      " 275     5\n",
      " 246     5\n",
      " 230     5\n",
      " 211     4\n",
      "        ..\n",
      " 156     1\n",
      " 338     1\n",
      " 282     1\n",
      " 259     1\n",
      " 166     1\n",
      "Name: chol, Length: 154, dtype: int64 \n",
      "\n",
      "[[1053, ['trestbps']], [1103, ['htn']], [1258, ['chol']], [1285, ['chol']], [1292, ['chol']], [1187, ['chol']], [1211, ['chol']], [1216, ['chol']], [1131, ['chol']], [1132, ['chol']], [1144, ['chol']], [1145, ['chol']], [1150, ['chol']], [1151, ['chol']], [1157, ['chol']], [1159, ['chol']], [1166, ['chol']], [1068, ['chol']], [1096, ['chol']], [1027, ['chol']], [1033, ['chol']], [1038, ['chol']], [1042, ['chol']], [1051, ['chol']], [1052, ['chol']]]\n"
     ]
    }
   ],
   "source": [
    "#Analysing column 12: chol\n",
    "col = \"chol\"\n",
    "print(columns[col]+\"\\n\")\n",
    "print(df[col].describe(),\"\\n\")\n",
    "print(df[col].value_counts(),\"\\n\")\n",
    "\n",
    "null()"
   ]
  },
  {
   "cell_type": "code",
   "execution_count": 18,
   "id": "7461e937",
   "metadata": {},
   "outputs": [
    {
     "name": "stdout",
     "output_type": "stream",
     "text": [
      "1 = yes; 0 = no (is or is not a smoker)\n",
      "\n",
      "count    294.000000\n",
      "mean      -8.625850\n",
      "std        1.818415\n",
      "min       -9.000000\n",
      "25%       -9.000000\n",
      "50%       -9.000000\n",
      "75%       -9.000000\n",
      "max        1.000000\n",
      "Name: smoke, dtype: float64 \n",
      "\n",
      "-9    282\n",
      " 0     10\n",
      " 1      2\n",
      "Name: smoke, dtype: int64 \n",
      "\n"
     ]
    }
   ],
   "source": [
    "#Analysing column 13: smoke\n",
    "col = \"smoke\"\n",
    "print(columns[col]+\"\\n\")\n",
    "print(df[col].describe(),\"\\n\")\n",
    "print(df[col].value_counts(),\"\\n\")\n"
   ]
  },
  {
   "cell_type": "code",
   "execution_count": 19,
   "id": "854dc42d",
   "metadata": {},
   "outputs": [
    {
     "name": "stdout",
     "output_type": "stream",
     "text": [
      "cigarettes per day\n",
      "\n",
      "count    294.000000\n",
      "mean      -8.765306\n",
      "std        4.024162\n",
      "min       -9.000000\n",
      "25%       -9.000000\n",
      "50%       -9.000000\n",
      "75%       -9.000000\n",
      "max       60.000000\n",
      "Name: cigs, dtype: float64 \n",
      "\n",
      "-9     293\n",
      " 60      1\n",
      "Name: cigs, dtype: int64 \n",
      "\n"
     ]
    }
   ],
   "source": [
    "#Analysing column 14: cigs\n",
    "col = \"cigs\"\n",
    "print(columns[col]+\"\\n\")\n",
    "print(df[col].describe(),\"\\n\")\n",
    "print(df[col].value_counts(),\"\\n\")"
   ]
  },
  {
   "cell_type": "code",
   "execution_count": 20,
   "id": "394c2dd0",
   "metadata": {},
   "outputs": [
    {
     "name": "stdout",
     "output_type": "stream",
     "text": [
      "number of years as a smoker\n",
      "\n",
      "count    294.0\n",
      "mean      -9.0\n",
      "std        0.0\n",
      "min       -9.0\n",
      "25%       -9.0\n",
      "50%       -9.0\n",
      "75%       -9.0\n",
      "max       -9.0\n",
      "Name: years, dtype: float64 \n",
      "\n",
      "-9    294\n",
      "Name: years, dtype: int64 \n",
      "\n"
     ]
    }
   ],
   "source": [
    "#Analysing column 15: years\n",
    "col = \"years\"\n",
    "print(columns[col]+\"\\n\")\n",
    "print(df[col].describe(),\"\\n\")\n",
    "print(df[col].value_counts(),\"\\n\")\n",
    "\n",
    "\"\"\"\n",
    "    - Since this column is all NULL and there were 282 (out of 294) NULL responses for whether or not subjects smoke, \n",
    "    as well as 293 NULL responses for years as a smoker, this data is very underdeveloped and won't help our models learn\n",
    "    - We have decided to exclude these 3 columns as a result\n",
    "\"\"\"\n",
    "drop += [\"smoke\", \"cigs\", \"years\"]"
   ]
  },
  {
   "cell_type": "code",
   "execution_count": 21,
   "id": "8f85d494",
   "metadata": {},
   "outputs": [
    {
     "name": "stdout",
     "output_type": "stream",
     "text": [
      "fasting blood sugar > 120 mg/dl  (1 = true; 0 = false)\n",
      "\n",
      "count    294.000000\n",
      "mean      -0.176871\n",
      "std        1.499491\n",
      "min       -9.000000\n",
      "25%        0.000000\n",
      "50%        0.000000\n",
      "75%        0.000000\n",
      "max        1.000000\n",
      "Name: fbs, dtype: float64 \n",
      "\n",
      " 0    266\n",
      " 1     20\n",
      "-9      8\n",
      "Name: fbs, dtype: int64 \n",
      "\n",
      "[[1053, ['trestbps']], [1103, ['htn']], [1258, ['chol']], [1285, ['chol']], [1292, ['chol']], [1187, ['chol']], [1211, ['chol']], [1216, ['chol']], [1131, ['chol']], [1132, ['chol']], [1144, ['chol']], [1145, ['chol']], [1150, ['chol']], [1151, ['chol']], [1157, ['chol']], [1159, ['chol']], [1166, ['chol']], [1068, ['chol']], [1096, ['chol']], [1027, ['chol']], [1033, ['chol']], [1038, ['chol']], [1042, ['chol']], [1051, ['chol']], [1052, ['chol']], [1282, ['fbs']], [1201, ['fbs']], [1229, ['fbs']], [1062, ['fbs']], [1071, ['fbs']], [1089, ['fbs']], [1109, ['fbs']], [1111, ['fbs']]]\n"
     ]
    }
   ],
   "source": [
    "#Analysing column 16: fbs\n",
    "col = \"fbs\"\n",
    "print(columns[col]+\"\\n\")\n",
    "print(df[col].describe(),\"\\n\")\n",
    "print(df[col].value_counts(),\"\\n\")\n",
    "\n",
    "null()"
   ]
  },
  {
   "cell_type": "code",
   "execution_count": 22,
   "id": "6995eb28",
   "metadata": {},
   "outputs": [
    {
     "name": "stdout",
     "output_type": "stream",
     "text": [
      "1 = history of diabetes; 0 = no such history\n",
      "\n",
      "count    294.000000\n",
      "mean      -8.285714\n",
      "std        2.579785\n",
      "min       -9.000000\n",
      "25%       -9.000000\n",
      "50%       -9.000000\n",
      "75%       -9.000000\n",
      "max        1.000000\n",
      "Name: dm, dtype: float64 \n",
      "\n",
      "-9    273\n",
      " 1     21\n",
      "Name: dm, dtype: int64 \n",
      "\n"
     ]
    }
   ],
   "source": [
    "#Analysing column 17: dm\n",
    "col = \"dm\"\n",
    "print(columns[col]+\"\\n\")\n",
    "print(df[col].describe(),\"\\n\")\n",
    "print(df[col].value_counts(),\"\\n\")\n",
    "\n",
    "\"\"\"\n",
    "    - There are a lot more (273/294) NULL values in this field and we can't assume values of 0 for NULLs\n",
    "    - We've decided to exclude this column\n",
    "    - Note: although we remove it, it could be the case that all of the nulls are meant to mean 0, people didnt bother answering\n",
    "    question that didnt apply to them\n",
    "\"\"\"\n",
    "drop.append(col)\n",
    "\n"
   ]
  },
  {
   "cell_type": "code",
   "execution_count": 23,
   "id": "62ce4f93",
   "metadata": {},
   "outputs": [
    {
     "name": "stdout",
     "output_type": "stream",
     "text": [
      "family history of coronary artery disease (1 = yes; 0 = no)\n",
      "\n",
      "count    294.000000\n",
      "mean      -8.969388\n",
      "std        0.524891\n",
      "min       -9.000000\n",
      "25%       -9.000000\n",
      "50%       -9.000000\n",
      "75%       -9.000000\n",
      "max        0.000000\n",
      "Name: famhist, dtype: float64 \n",
      "\n",
      "-9    293\n",
      " 0      1\n",
      "Name: famhist, dtype: int64 \n",
      "\n"
     ]
    }
   ],
   "source": [
    "#Analysing column 18: famhist\n",
    "col = \"famhist\"\n",
    "print(columns[col]+\"\\n\")\n",
    "print(df[col].describe(),\"\\n\")\n",
    "print(df[col].value_counts(),\"\\n\")\n",
    "\n",
    "\"\"\"\n",
    "    -Again, since this column is mostly NULL, we have decided to exclude it\n",
    "\"\"\"\n",
    "drop.append(col)"
   ]
  },
  {
   "cell_type": "code",
   "execution_count": 24,
   "id": "92de2244",
   "metadata": {},
   "outputs": [
    {
     "name": "stdout",
     "output_type": "stream",
     "text": [
      "resting electrocardiographic results; 0: normal, 1: having ST-T wave abnormality (T wave inversions and/or ST \n",
      "                    elevation or depression of > 0.05 mV), 2: showing probable or definite left ventricular hypertrophy\n",
      "                    by Estes' criteria \n",
      "\n",
      "count    294.000000\n",
      "mean       0.187075\n",
      "std        0.707616\n",
      "min       -9.000000\n",
      "25%        0.000000\n",
      "50%        0.000000\n",
      "75%        0.000000\n",
      "max        2.000000\n",
      "Name: restecg, dtype: float64 \n",
      "\n",
      " 0    235\n",
      " 1     52\n",
      " 2      6\n",
      "-9      1\n",
      "Name: restecg, dtype: int64 \n",
      "\n",
      "[[1053, ['trestbps']], [1103, ['htn']], [1258, ['chol']], [1285, ['chol']], [1292, ['chol']], [1187, ['chol']], [1211, ['chol']], [1216, ['chol']], [1131, ['chol']], [1132, ['chol']], [1144, ['chol']], [1145, ['chol']], [1150, ['chol']], [1151, ['chol']], [1157, ['chol']], [1159, ['chol']], [1166, ['chol']], [1068, ['chol']], [1096, ['chol']], [1027, ['chol']], [1033, ['chol']], [1038, ['chol']], [1042, ['chol']], [1051, ['chol']], [1052, ['chol']], [1282, ['fbs']], [1201, ['fbs']], [1229, ['fbs']], [1062, ['fbs']], [1071, ['fbs']], [1089, ['fbs']], [1109, ['fbs']], [1111, ['fbs']], [1001, ['restecg']]]\n"
     ]
    }
   ],
   "source": [
    "#Analysing column 19: restecg\n",
    "col = \"restecg\"\n",
    "print(columns[col]+\"\\n\")\n",
    "print(df[col].describe(),\"\\n\")\n",
    "print(df[col].value_counts(),\"\\n\")\n",
    "\n",
    "null()"
   ]
  },
  {
   "cell_type": "code",
   "execution_count": 25,
   "id": "ca6857b4",
   "metadata": {},
   "outputs": [
    {
     "name": "stdout",
     "output_type": "stream",
     "text": [
      "month of exercise ECG reading\n",
      "\n",
      "count    294.000000\n",
      "mean       6.061224\n",
      "std        3.203506\n",
      "min        1.000000\n",
      "25%        3.000000\n",
      "50%        5.000000\n",
      "75%        9.000000\n",
      "max       12.000000\n",
      "Name: ekgmo, dtype: float64 \n",
      "\n",
      "3     48\n",
      "5     36\n",
      "4     34\n",
      "7     29\n",
      "11    27\n",
      "6     23\n",
      "10    19\n",
      "9     17\n",
      "2     17\n",
      "12    15\n",
      "1     15\n",
      "8     14\n",
      "Name: ekgmo, dtype: int64 \n",
      "\n"
     ]
    }
   ],
   "source": [
    "#Analysing column 20: ekgmo\n",
    "col = \"ekgmo\"\n",
    "print(columns[col]+\"\\n\")\n",
    "print(df[col].describe(),\"\\n\")\n",
    "print(df[col].value_counts(),\"\\n\")\n",
    "\n",
    "\"\"\"\n",
    "    - Useless data, wont help models learn\n",
    "\"\"\"\n",
    "drop.append(col)"
   ]
  },
  {
   "cell_type": "code",
   "execution_count": 26,
   "id": "940ea730",
   "metadata": {},
   "outputs": [
    {
     "name": "stdout",
     "output_type": "stream",
     "text": [
      "day of exercise ECG reading\n",
      "\n",
      "count    294.000000\n",
      "mean      15.761905\n",
      "std        8.717667\n",
      "min        1.000000\n",
      "25%        9.000000\n",
      "50%       16.000000\n",
      "75%       23.000000\n",
      "max       31.000000\n",
      "Name: ekgday, dtype: float64 \n",
      "\n",
      "16    20\n",
      "2     14\n",
      "3     13\n",
      "9     13\n",
      "30    11\n",
      "21    11\n",
      "22    11\n",
      "12    11\n",
      "25    11\n",
      "26    10\n",
      "7     10\n",
      "8     10\n",
      "10    10\n",
      "24    10\n",
      "20    10\n",
      "13    10\n",
      "28     9\n",
      "11     9\n",
      "18     9\n",
      "29     8\n",
      "19     8\n",
      "27     8\n",
      "15     8\n",
      "14     8\n",
      "6      7\n",
      "1      7\n",
      "5      7\n",
      "23     6\n",
      "17     6\n",
      "31     5\n",
      "4      4\n",
      "Name: ekgday, dtype: int64 \n",
      "\n"
     ]
    }
   ],
   "source": [
    "#Analysing column 21: ekgday\n",
    "col = \"ekgday\"\n",
    "print(columns[col]+\"\\n\")\n",
    "print(df[col].describe(),\"\\n\")\n",
    "print(df[col].value_counts(),\"\\n\")\n",
    "\n",
    "\"\"\"\n",
    "    - Useless data, wont help models learn\n",
    "\"\"\"\n",
    "drop.append(col)"
   ]
  },
  {
   "cell_type": "code",
   "execution_count": 27,
   "id": "f36c294a",
   "metadata": {},
   "outputs": [
    {
     "name": "stdout",
     "output_type": "stream",
     "text": [
      "year of exercise ECG reading\n",
      "\n",
      "count    294.000000\n",
      "mean      85.200680\n",
      "std        1.122467\n",
      "min       83.000000\n",
      "25%       84.000000\n",
      "50%       85.000000\n",
      "75%       86.000000\n",
      "max       87.000000\n",
      "Name: ekgyr, dtype: float64 \n",
      "\n",
      "86    91\n",
      "85    84\n",
      "84    62\n",
      "87    36\n",
      "83    21\n",
      "Name: ekgyr, dtype: int64 \n",
      "\n"
     ]
    }
   ],
   "source": [
    "#Analysing column 22: ekgyr\n",
    "col = \"ekgyr\"\n",
    "print(columns[col]+\"\\n\")\n",
    "print(df[col].describe(),\"\\n\")\n",
    "print(df[col].value_counts(),\"\\n\")\n",
    "\n",
    "\"\"\"\n",
    "    - Useless data, wont help models learn\n",
    "\"\"\"\n",
    "drop.append(col)"
   ]
  },
  {
   "cell_type": "code",
   "execution_count": 28,
   "id": "88f051b0",
   "metadata": {
    "scrolled": true
   },
   "outputs": [
    {
     "name": "stdout",
     "output_type": "stream",
     "text": [
      "digitalis used during exercise ECG: 1 = yes; 0 = no\n",
      "\n",
      "count    294.000000\n",
      "mean      -0.030612\n",
      "std        0.524891\n",
      "min       -9.000000\n",
      "25%        0.000000\n",
      "50%        0.000000\n",
      "75%        0.000000\n",
      "max        0.000000\n",
      "Name: dig, dtype: float64 \n",
      "\n",
      " 0    293\n",
      "-9      1\n",
      "Name: dig, dtype: int64 \n",
      "\n"
     ]
    }
   ],
   "source": [
    "#Analysing column 23: dig\n",
    "col = \"dig\"\n",
    "print(columns[col]+\"\\n\")\n",
    "print(df[col].describe(),\"\\n\")\n",
    "print(df[col].value_counts(),\"\\n\")\n",
    "\n",
    "\"\"\"\n",
    "    - Everyone was 0 except 1 value of null, so useless data, we exclude\n",
    "\"\"\"\n",
    "drop.append(col)"
   ]
  },
  {
   "cell_type": "code",
   "execution_count": 29,
   "id": "25e9aa38",
   "metadata": {},
   "outputs": [
    {
     "name": "stdout",
     "output_type": "stream",
     "text": [
      "Beta blocker used during exercise ECG: 1 = yes; 0 = no\n",
      "\n",
      "count    294.000000\n",
      "mean       0.000000\n",
      "std        0.783795\n",
      "min       -9.000000\n",
      "25%        0.000000\n",
      "50%        0.000000\n",
      "75%        0.000000\n",
      "max        1.000000\n",
      "Name: prop, dtype: float64 \n",
      "\n",
      " 0    274\n",
      " 1     18\n",
      "-9      2\n",
      "Name: prop, dtype: int64 \n",
      "\n",
      "[[1053, ['trestbps']], [1103, ['htn']], [1258, ['chol']], [1285, ['chol']], [1292, ['chol']], [1187, ['chol']], [1211, ['chol']], [1216, ['chol']], [1131, ['chol']], [1132, ['chol']], [1144, ['chol']], [1145, ['chol']], [1150, ['chol']], [1151, ['chol']], [1157, ['chol']], [1159, ['chol']], [1166, ['chol']], [1068, ['chol']], [1096, ['chol']], [1027, ['chol']], [1033, ['chol']], [1038, ['chol']], [1042, ['chol']], [1051, ['chol']], [1052, ['chol']], [1282, ['fbs']], [1201, ['fbs']], [1229, ['fbs']], [1062, ['fbs']], [1071, ['fbs']], [1089, ['fbs']], [1109, ['fbs']], [1111, ['fbs']], [1001, ['restecg']], [1284, ['prop']], [1294, ['prop']]]\n"
     ]
    }
   ],
   "source": [
    "#Analysing column 24: prop\n",
    "col = \"prop\"\n",
    "print(columns[col]+\"\\n\")\n",
    "print(df[col].describe(),\"\\n\")\n",
    "print(df[col].value_counts(),\"\\n\")\n",
    "\n",
    "null()"
   ]
  },
  {
   "cell_type": "code",
   "execution_count": 30,
   "id": "7fc6e70b",
   "metadata": {},
   "outputs": [
    {
     "name": "stdout",
     "output_type": "stream",
     "text": [
      "nitrates used during exercise ECG: 1 = yes; 0 = no\n",
      "\n",
      "count    294.000000\n",
      "mean       0.064626\n",
      "std        0.606484\n",
      "min       -9.000000\n",
      "25%        0.000000\n",
      "50%        0.000000\n",
      "75%        0.000000\n",
      "max        1.000000\n",
      "Name: nitr, dtype: float64 \n",
      "\n",
      " 0    265\n",
      " 1     28\n",
      "-9      1\n",
      "Name: nitr, dtype: int64 \n",
      "\n",
      "[[1053, ['trestbps']], [1103, ['htn']], [1258, ['chol']], [1285, ['chol']], [1292, ['chol']], [1187, ['chol']], [1211, ['chol']], [1216, ['chol']], [1131, ['chol']], [1132, ['chol']], [1144, ['chol']], [1145, ['chol']], [1150, ['chol']], [1151, ['chol']], [1157, ['chol']], [1159, ['chol']], [1166, ['chol']], [1068, ['chol']], [1096, ['chol']], [1027, ['chol']], [1033, ['chol']], [1038, ['chol']], [1042, ['chol']], [1051, ['chol']], [1052, ['chol']], [1282, ['fbs']], [1201, ['fbs']], [1229, ['fbs']], [1062, ['fbs']], [1071, ['fbs']], [1089, ['fbs']], [1109, ['fbs']], [1111, ['fbs']], [1001, ['restecg']], [1284, ['prop']], [1294, ['prop', 'nitr']]]\n"
     ]
    }
   ],
   "source": [
    "#Analysing column 25: nitr\n",
    "col = \"nitr\"\n",
    "print(columns[col]+\"\\n\")\n",
    "print(df[col].describe(),\"\\n\")\n",
    "print(df[col].value_counts(),\"\\n\")\n",
    "\n",
    "null()"
   ]
  },
  {
   "cell_type": "code",
   "execution_count": 31,
   "id": "e52bff1f",
   "metadata": {},
   "outputs": [
    {
     "name": "stdout",
     "output_type": "stream",
     "text": [
      "calcium channel blocker used during exercise ECG: 1 = yes; 0 = no\n",
      "\n",
      "count    294.000000\n",
      "mean       0.051020\n",
      "std        0.596448\n",
      "min       -9.000000\n",
      "25%        0.000000\n",
      "50%        0.000000\n",
      "75%        0.000000\n",
      "max        1.000000\n",
      "Name: pro, dtype: float64 \n",
      "\n",
      " 0    269\n",
      " 1     24\n",
      "-9      1\n",
      "Name: pro, dtype: int64 \n",
      "\n",
      "[[1053, ['trestbps']], [1103, ['htn']], [1258, ['chol']], [1285, ['chol']], [1292, ['chol']], [1187, ['chol']], [1211, ['chol']], [1216, ['chol']], [1131, ['chol']], [1132, ['chol']], [1144, ['chol']], [1145, ['chol']], [1150, ['chol']], [1151, ['chol']], [1157, ['chol']], [1159, ['chol']], [1166, ['chol']], [1068, ['chol']], [1096, ['chol']], [1027, ['chol']], [1033, ['chol']], [1038, ['chol']], [1042, ['chol']], [1051, ['chol']], [1052, ['chol']], [1282, ['fbs']], [1201, ['fbs']], [1229, ['fbs']], [1062, ['fbs']], [1071, ['fbs']], [1089, ['fbs']], [1109, ['fbs']], [1111, ['fbs']], [1001, ['restecg']], [1284, ['prop']], [1294, ['prop', 'nitr', 'pro']]]\n"
     ]
    }
   ],
   "source": [
    "#Analysing column 26: pro\n",
    "col = \"pro\"\n",
    "print(columns[col]+\"\\n\")\n",
    "print(df[col].describe(),\"\\n\")\n",
    "print(df[col].value_counts(),\"\\n\")\n",
    "\n",
    "null()"
   ]
  },
  {
   "cell_type": "code",
   "execution_count": 32,
   "id": "4e627b02",
   "metadata": {},
   "outputs": [
    {
     "name": "stdout",
     "output_type": "stream",
     "text": [
      "diuretic used used during exercise ECG: 1 = yes; 0 = no\n",
      "\n",
      "count    294.000000\n",
      "mean      -0.020408\n",
      "std        0.535043\n",
      "min       -9.000000\n",
      "25%        0.000000\n",
      "50%        0.000000\n",
      "75%        0.000000\n",
      "max        1.000000\n",
      "Name: diuretic, dtype: float64 \n",
      "\n",
      " 0    290\n",
      " 1      3\n",
      "-9      1\n",
      "Name: diuretic, dtype: int64 \n",
      "\n"
     ]
    }
   ],
   "source": [
    "#Analysing column 27: diuretic\n",
    "col = \"diuretic\"\n",
    "print(columns[col]+\"\\n\")\n",
    "print(df[col].describe(),\"\\n\")\n",
    "print(df[col].value_counts(),\"\\n\")\n",
    "\n",
    "\"\"\"\n",
    "    - Plenty of previous drug information, majority dont use this so its essentially useless\n",
    "\"\"\"\n",
    "drop.append(col)"
   ]
  },
  {
   "cell_type": "code",
   "execution_count": 33,
   "id": "a0a24198",
   "metadata": {},
   "outputs": [
    {
     "name": "stdout",
     "output_type": "stream",
     "text": [
      "exercise protocol:\n",
      "          1 = Bruce     \n",
      "          2 = Kottus\n",
      "          3 = McHenry\n",
      "          4 = fast Balke\n",
      "          5 = Balke\n",
      "          6 = Noughton \n",
      "          7 = bike 150 kpa min/min \n",
      "          8 = bike 125 kpa min/min  \n",
      "          9 = bike 100 kpa min/min\n",
      "         10 = bike 75 kpa min/min\n",
      "         11 = bike 50 kpa min/min\n",
      "         12 = arm ergometer\n",
      "\n",
      " 75     73\n",
      " 100    70\n",
      " 125    52\n",
      " 50     34\n",
      " 150    25\n",
      " 25     16\n",
      " 175    12\n",
      "-9       9\n",
      " 200     2\n",
      " 130     1\n",
      "Name: proto, dtype: int64 \n",
      "\n"
     ]
    }
   ],
   "source": [
    "#Analysing column 28: proto\n",
    "col = \"proto\"\n",
    "print(columns[col]+\"\\n\")\n",
    "#print(df[col].describe(),\"\\n\")\n",
    "print(df[col].value_counts(),\"\\n\")\n",
    "\n",
    "\"\"\"\n",
    "    - This column is meant to assign caategorical data to each row as described in the instructions; however there are values\n",
    "    which are not in the legend such as 75, 100, 125, 50 150... in fact the numbers given dont make sense with the instructions\n",
    "    given, so we have decided to exclude this column\n",
    "\"\"\"\n",
    "drop.append(col)"
   ]
  },
  {
   "cell_type": "code",
   "execution_count": 34,
   "id": "b30a8efd",
   "metadata": {},
   "outputs": [
    {
     "name": "stdout",
     "output_type": "stream",
     "text": [
      "duration of exercise test in minutes\n",
      "\n",
      "count    294.000000\n",
      "mean      10.493197\n",
      "std        4.901412\n",
      "min       -9.000000\n",
      "25%        7.000000\n",
      "50%       10.000000\n",
      "75%       13.000000\n",
      "max       24.000000\n",
      "Name: thaldur, dtype: float64 \n",
      "\n",
      " 10.0    28\n",
      " 9.0     27\n",
      " 7.0     24\n",
      " 11.0    23\n",
      " 12.0    23\n",
      " 13.0    23\n",
      " 8.0     18\n",
      " 14.0    16\n",
      " 6.0     15\n",
      " 18.0    15\n",
      " 19.0    12\n",
      " 5.0     10\n",
      " 4.0      9\n",
      " 2.0      8\n",
      " 15.0     8\n",
      " 3.0      7\n",
      " 16.0     6\n",
      " 20.0     6\n",
      " 17.0     5\n",
      "-9.0      2\n",
      " 1.5      2\n",
      " 6.5      1\n",
      " 16.5     1\n",
      " 21.0     1\n",
      " 7.5      1\n",
      " 24.0     1\n",
      " 4.5      1\n",
      " 1.0      1\n",
      "Name: thaldur, dtype: int64 \n",
      "\n",
      "[[1053, ['trestbps']], [1103, ['htn']], [1258, ['chol']], [1285, ['chol']], [1292, ['chol']], [1187, ['chol']], [1211, ['chol']], [1216, ['chol']], [1131, ['chol']], [1132, ['chol']], [1144, ['chol']], [1145, ['chol']], [1150, ['chol']], [1151, ['chol']], [1157, ['chol']], [1159, ['chol']], [1166, ['chol']], [1068, ['chol']], [1096, ['chol']], [1027, ['chol']], [1033, ['chol']], [1038, ['chol']], [1042, ['chol']], [1051, ['chol']], [1052, ['chol']], [1282, ['fbs']], [1201, ['fbs']], [1229, ['fbs']], [1062, ['fbs']], [1071, ['fbs']], [1089, ['fbs']], [1109, ['fbs']], [1111, ['fbs']], [1001, ['restecg']], [1284, ['prop']], [1294, ['prop', 'nitr', 'pro', 'thaldur']], [1029, ['thaldur']]]\n"
     ]
    }
   ],
   "source": [
    "#Analysing column 29: thaldur\n",
    "col = \"thaldur\"\n",
    "print(columns[col]+\"\\n\")\n",
    "print(df[col].describe(),\"\\n\")\n",
    "print(df[col].value_counts(),\"\\n\")\n",
    "\n",
    "null()"
   ]
  },
  {
   "cell_type": "code",
   "execution_count": 35,
   "id": "355b18bf",
   "metadata": {},
   "outputs": [
    {
     "name": "stdout",
     "output_type": "stream",
     "text": [
      "time when ST measure depression was noted\n",
      "\n",
      "count    294.000000\n",
      "mean      -3.136054\n",
      "std        8.311051\n",
      "min       -9.000000\n",
      "25%       -9.000000\n",
      "50%       -9.000000\n",
      "75%        5.000000\n",
      "max       20.000000\n",
      "Name: thaltime, dtype: float64 \n",
      "\n",
      "-9.0     190\n",
      " 10.0     12\n",
      " 8.0      11\n",
      " 4.0       8\n",
      " 12.0      8\n",
      " 6.0       8\n",
      " 3.0       6\n",
      " 5.5       6\n",
      " 5.0       4\n",
      " 2.0       4\n",
      " 11.0      3\n",
      " 7.0       3\n",
      " 1.0       3\n",
      " 9.0       3\n",
      " 6.5       3\n",
      " 7.5       3\n",
      " 3.5       2\n",
      " 4.5       2\n",
      " 13.0      2\n",
      " 19.0      2\n",
      " 15.0      2\n",
      " 14.5      1\n",
      " 17.5      1\n",
      " 20.0      1\n",
      " 0.5       1\n",
      " 8.5       1\n",
      " 2.5       1\n",
      " 1.5       1\n",
      " 13.5      1\n",
      " 10.5      1\n",
      "Name: thaltime, dtype: int64 \n",
      "\n"
     ]
    }
   ],
   "source": [
    "#Analysing column 30: thaltime\n",
    "col = \"thaltime\"\n",
    "print(columns[col]+\"\\n\")\n",
    "print(df[col].describe(),\"\\n\")\n",
    "print(df[col].value_counts(),\"\\n\")\n",
    "\n",
    "\"\"\"\n",
    "    - This column is also mostly NULL so we are going to exclude it\n",
    "\"\"\"\n",
    "drop.append(col)"
   ]
  },
  {
   "cell_type": "code",
   "execution_count": 36,
   "id": "efdae95e",
   "metadata": {},
   "outputs": [
    {
     "name": "stdout",
     "output_type": "stream",
     "text": [
      "mets achieved, ratio of working metabolic rate relative to your resting metabolic rate\n",
      "\n",
      "count    294.000000\n",
      "mean       5.600340\n",
      "std        2.217546\n",
      "min       -9.000000\n",
      "25%        5.000000\n",
      "50%        6.000000\n",
      "75%        7.000000\n",
      "max       11.000000\n",
      "Name: met, dtype: float64 \n",
      "\n",
      " 5.0     68\n",
      " 6.0     58\n",
      " 7.0     56\n",
      " 4.0     34\n",
      " 9.0     27\n",
      " 3.0     23\n",
      " 2.0     13\n",
      " 10.0     5\n",
      " 8.0      3\n",
      "-9.0      2\n",
      " 6.3      2\n",
      " 11.0     1\n",
      " 7.5      1\n",
      " 5.4      1\n",
      "Name: met, dtype: int64 \n",
      "\n",
      "[[1053, ['trestbps']], [1103, ['htn']], [1258, ['chol']], [1285, ['chol']], [1292, ['chol']], [1187, ['chol']], [1211, ['chol']], [1216, ['chol']], [1131, ['chol']], [1132, ['chol']], [1144, ['chol']], [1145, ['chol']], [1150, ['chol']], [1151, ['chol']], [1157, ['chol']], [1159, ['chol']], [1166, ['chol']], [1068, ['chol']], [1096, ['chol']], [1027, ['chol']], [1033, ['chol']], [1038, ['chol']], [1042, ['chol']], [1051, ['chol']], [1052, ['chol']], [1282, ['fbs']], [1201, ['fbs']], [1229, ['fbs']], [1062, ['fbs']], [1071, ['fbs']], [1089, ['fbs']], [1109, ['fbs']], [1111, ['fbs']], [1001, ['restecg']], [1284, ['prop']], [1294, ['prop', 'nitr', 'pro', 'thaldur']], [1029, ['thaldur']], [1172, ['met']], [5001, ['met']]]\n"
     ]
    }
   ],
   "source": [
    "#Analysing column 31: met\n",
    "col = \"met\"\n",
    "print(columns[col]+\"\\n\")\n",
    "print(df[col].describe(),\"\\n\")\n",
    "print(df[col].value_counts(),\"\\n\")\n",
    "\n",
    "null()"
   ]
  },
  {
   "cell_type": "code",
   "execution_count": 37,
   "id": "554443ca",
   "metadata": {},
   "outputs": [
    {
     "name": "stdout",
     "output_type": "stream",
     "text": [
      "maximum heart rate achieved\n",
      "\n",
      "count    294.00000\n",
      "mean     138.62585\n",
      "std       25.08408\n",
      "min       -9.00000\n",
      "25%      122.00000\n",
      "50%      140.00000\n",
      "75%      155.00000\n",
      "max      190.00000\n",
      "Name: thalach, dtype: float64 \n",
      "\n",
      " 150    29\n",
      " 140    21\n",
      " 130    17\n",
      " 170    14\n",
      " 160    13\n",
      "        ..\n",
      " 114     1\n",
      " 87      1\n",
      " 121     1\n",
      " 153     1\n",
      "-9       1\n",
      "Name: thalach, Length: 72, dtype: int64 \n",
      "\n",
      "[[1053, ['trestbps', 'thalach']], [1103, ['htn']], [1258, ['chol']], [1285, ['chol']], [1292, ['chol']], [1187, ['chol']], [1211, ['chol']], [1216, ['chol']], [1131, ['chol']], [1132, ['chol']], [1144, ['chol']], [1145, ['chol']], [1150, ['chol']], [1151, ['chol']], [1157, ['chol']], [1159, ['chol']], [1166, ['chol']], [1068, ['chol']], [1096, ['chol']], [1027, ['chol']], [1033, ['chol']], [1038, ['chol']], [1042, ['chol']], [1051, ['chol']], [1052, ['chol']], [1282, ['fbs']], [1201, ['fbs']], [1229, ['fbs']], [1062, ['fbs']], [1071, ['fbs']], [1089, ['fbs']], [1109, ['fbs']], [1111, ['fbs']], [1001, ['restecg']], [1284, ['prop']], [1294, ['prop', 'nitr', 'pro', 'thaldur']], [1029, ['thaldur']], [1172, ['met']], [5001, ['met']]]\n"
     ]
    }
   ],
   "source": [
    "#Analysing column 32: thalach\n",
    "col = \"thalach\"\n",
    "print(columns[col]+\"\\n\")\n",
    "print(df[col].describe(),\"\\n\")\n",
    "print(df[col].value_counts(),\"\\n\")\n",
    "\n",
    "null()"
   ]
  },
  {
   "cell_type": "code",
   "execution_count": 38,
   "id": "e3e4795c",
   "metadata": {},
   "outputs": [
    {
     "name": "stdout",
     "output_type": "stream",
     "text": [
      "resting heart rate\n",
      "\n",
      "count    294.000000\n",
      "mean      80.727891\n",
      "std       16.373231\n",
      "min       -9.000000\n",
      "25%       70.000000\n",
      "50%       80.000000\n",
      "75%       92.000000\n",
      "max      134.000000\n",
      "Name: thalrest, dtype: float64 \n",
      "\n",
      " 100    16\n",
      " 68     15\n",
      " 98     15\n",
      " 80     13\n",
      " 90     13\n",
      " 72     12\n",
      " 70     12\n",
      " 84     12\n",
      " 74     11\n",
      " 73     11\n",
      " 92     11\n",
      " 78     10\n",
      " 75     10\n",
      " 64      8\n",
      " 76      7\n",
      " 67      7\n",
      " 86      7\n",
      " 82      7\n",
      " 85      7\n",
      " 88      6\n",
      " 58      6\n",
      " 83      5\n",
      " 56      5\n",
      " 54      4\n",
      " 110     4\n",
      " 62      4\n",
      " 65      4\n",
      " 60      4\n",
      " 96      4\n",
      " 105     3\n",
      " 120     3\n",
      " 125     3\n",
      " 95      2\n",
      " 97      2\n",
      " 94      2\n",
      " 93      2\n",
      " 102     2\n",
      " 66      2\n",
      " 77      2\n",
      " 81      2\n",
      " 71      2\n",
      " 57      2\n",
      " 63      2\n",
      " 112     1\n",
      " 124     1\n",
      " 108     1\n",
      " 115     1\n",
      " 134     1\n",
      " 55      1\n",
      " 46      1\n",
      " 61      1\n",
      " 116     1\n",
      " 50      1\n",
      " 79      1\n",
      " 87      1\n",
      "-9       1\n",
      "Name: thalrest, dtype: int64 \n",
      "\n",
      "[[1053, ['trestbps', 'thalach', 'thalrest']], [1103, ['htn']], [1258, ['chol']], [1285, ['chol']], [1292, ['chol']], [1187, ['chol']], [1211, ['chol']], [1216, ['chol']], [1131, ['chol']], [1132, ['chol']], [1144, ['chol']], [1145, ['chol']], [1150, ['chol']], [1151, ['chol']], [1157, ['chol']], [1159, ['chol']], [1166, ['chol']], [1068, ['chol']], [1096, ['chol']], [1027, ['chol']], [1033, ['chol']], [1038, ['chol']], [1042, ['chol']], [1051, ['chol']], [1052, ['chol']], [1282, ['fbs']], [1201, ['fbs']], [1229, ['fbs']], [1062, ['fbs']], [1071, ['fbs']], [1089, ['fbs']], [1109, ['fbs']], [1111, ['fbs']], [1001, ['restecg']], [1284, ['prop']], [1294, ['prop', 'nitr', 'pro', 'thaldur']], [1029, ['thaldur']], [1172, ['met']], [5001, ['met']]]\n"
     ]
    }
   ],
   "source": [
    "#Analysing column 33: thalrest\n",
    "col = \"thalrest\"\n",
    "print(columns[col]+\"\\n\")\n",
    "print(df[col].describe(),\"\\n\")\n",
    "print(df[col].value_counts(),\"\\n\")\n",
    "\n",
    "null()"
   ]
  },
  {
   "cell_type": "code",
   "execution_count": 39,
   "id": "3ac4e15a",
   "metadata": {},
   "outputs": [
    {
     "name": "stdout",
     "output_type": "stream",
     "text": [
      "peak exercise blood pressure (first of 2 parts)\n",
      "\n",
      "count    294.000000\n",
      "mean     180.632653\n",
      "std       27.876148\n",
      "min       -9.000000\n",
      "25%      160.000000\n",
      "50%      180.000000\n",
      "75%      200.000000\n",
      "max      240.000000\n",
      "Name: tpeakbps, dtype: float64 \n",
      "\n",
      " 180    43\n",
      " 170    39\n",
      " 160    37\n",
      " 200    33\n",
      " 190    31\n",
      " 220    19\n",
      " 150    15\n",
      " 230    11\n",
      " 210    10\n",
      " 140    10\n",
      " 130     6\n",
      " 145     5\n",
      " 240     5\n",
      " 176     2\n",
      " 182     2\n",
      " 158     2\n",
      " 174     2\n",
      " 175     2\n",
      " 120     2\n",
      " 196     2\n",
      " 216     1\n",
      " 146     1\n",
      " 165     1\n",
      " 188     1\n",
      " 215     1\n",
      " 172     1\n",
      " 185     1\n",
      " 194     1\n",
      " 135     1\n",
      " 155     1\n",
      " 235     1\n",
      " 228     1\n",
      " 184     1\n",
      " 198     1\n",
      " 192     1\n",
      "-9       1\n",
      "Name: tpeakbps, dtype: int64 \n",
      "\n",
      "[[1053, ['trestbps', 'thalach', 'thalrest', 'tpeakbps']], [1103, ['htn']], [1258, ['chol']], [1285, ['chol']], [1292, ['chol']], [1187, ['chol']], [1211, ['chol']], [1216, ['chol']], [1131, ['chol']], [1132, ['chol']], [1144, ['chol']], [1145, ['chol']], [1150, ['chol']], [1151, ['chol']], [1157, ['chol']], [1159, ['chol']], [1166, ['chol']], [1068, ['chol']], [1096, ['chol']], [1027, ['chol']], [1033, ['chol']], [1038, ['chol']], [1042, ['chol']], [1051, ['chol']], [1052, ['chol']], [1282, ['fbs']], [1201, ['fbs']], [1229, ['fbs']], [1062, ['fbs']], [1071, ['fbs']], [1089, ['fbs']], [1109, ['fbs']], [1111, ['fbs']], [1001, ['restecg']], [1284, ['prop']], [1294, ['prop', 'nitr', 'pro', 'thaldur']], [1029, ['thaldur']], [1172, ['met']], [5001, ['met']]]\n"
     ]
    }
   ],
   "source": [
    "#Analysing column 34: tpeakbps\n",
    "col = \"tpeakbps\"\n",
    "print(columns[col]+\"\\n\")\n",
    "print(df[col].describe(),\"\\n\")\n",
    "print(df[col].value_counts(),\"\\n\")\n",
    "\n",
    "null()\n"
   ]
  },
  {
   "cell_type": "code",
   "execution_count": 40,
   "id": "1a9b5f47",
   "metadata": {},
   "outputs": [
    {
     "name": "stdout",
     "output_type": "stream",
     "text": [
      "peak exercise blood pressure (second of 2 parts)\n",
      "\n",
      "count    294.000000\n",
      "mean      95.357143\n",
      "std       13.776309\n",
      "min       -9.000000\n",
      "25%       90.000000\n",
      "50%       95.000000\n",
      "75%      100.000000\n",
      "max      134.000000\n",
      "Name: tpeakbpd, dtype: float64 \n",
      "\n",
      " 100    67\n",
      " 90     64\n",
      " 80     45\n",
      " 110    28\n",
      " 95     13\n",
      " 120    12\n",
      " 105     9\n",
      " 115     7\n",
      " 70      6\n",
      " 82      5\n",
      " 98      5\n",
      " 104     4\n",
      " 96      3\n",
      " 85      3\n",
      " 106     3\n",
      " 84      3\n",
      " 92      2\n",
      " 108     2\n",
      " 118     2\n",
      " 130     2\n",
      " 94      2\n",
      " 60      1\n",
      " 116     1\n",
      " 86      1\n",
      " 134     1\n",
      " 74      1\n",
      " 76      1\n",
      "-9       1\n",
      "Name: tpeakbpd, dtype: int64 \n",
      "\n",
      "[[1053, ['trestbps', 'thalach', 'thalrest', 'tpeakbps', 'tpeakbpd']], [1103, ['htn']], [1258, ['chol']], [1285, ['chol']], [1292, ['chol']], [1187, ['chol']], [1211, ['chol']], [1216, ['chol']], [1131, ['chol']], [1132, ['chol']], [1144, ['chol']], [1145, ['chol']], [1150, ['chol']], [1151, ['chol']], [1157, ['chol']], [1159, ['chol']], [1166, ['chol']], [1068, ['chol']], [1096, ['chol']], [1027, ['chol']], [1033, ['chol']], [1038, ['chol']], [1042, ['chol']], [1051, ['chol']], [1052, ['chol']], [1282, ['fbs']], [1201, ['fbs']], [1229, ['fbs']], [1062, ['fbs']], [1071, ['fbs']], [1089, ['fbs']], [1109, ['fbs']], [1111, ['fbs']], [1001, ['restecg']], [1284, ['prop']], [1294, ['prop', 'nitr', 'pro', 'thaldur']], [1029, ['thaldur']], [1172, ['met']], [5001, ['met']]]\n"
     ]
    }
   ],
   "source": [
    "#Analysing column 35: tpeakbpd\n",
    "col = \"tpeakbpd\"\n",
    "print(columns[col]+\"\\n\")\n",
    "print(df[col].describe(),\"\\n\")\n",
    "print(df[col].value_counts(),\"\\n\")\n",
    "\n",
    "null()"
   ]
  },
  {
   "cell_type": "code",
   "execution_count": 41,
   "id": "528366a1",
   "metadata": {},
   "outputs": [
    {
     "name": "stdout",
     "output_type": "stream",
     "text": [
      "na\n",
      "\n",
      "count    294.000000\n",
      "mean     132.102041\n",
      "std       19.437564\n",
      "min       -9.000000\n",
      "25%      120.000000\n",
      "50%      130.000000\n",
      "75%      140.000000\n",
      "max      200.000000\n",
      "Name: dummy, dtype: float64 \n",
      "\n",
      " 120    65\n",
      " 130    54\n",
      " 140    50\n",
      " 150    23\n",
      " 110    21\n",
      " 160    20\n",
      " 125     8\n",
      " 180     6\n",
      " 100     6\n",
      " 135     5\n",
      " 170     5\n",
      " 145     5\n",
      " 112     3\n",
      " 122     2\n",
      " 118     2\n",
      " 124     2\n",
      " 115     2\n",
      " 132     1\n",
      " 106     1\n",
      " 105     1\n",
      " 98      1\n",
      " 138     1\n",
      " 200     1\n",
      " 92      1\n",
      " 155     1\n",
      " 128     1\n",
      " 113     1\n",
      " 108     1\n",
      " 136     1\n",
      " 190     1\n",
      " 142     1\n",
      "-9       1\n",
      "Name: dummy, dtype: int64 \n",
      "\n"
     ]
    }
   ],
   "source": [
    "#Analysing column 36: dummy\n",
    "col = \"dummy\"\n",
    "print(columns[col]+\"\\n\")\n",
    "print(df[col].describe(),\"\\n\")\n",
    "print(df[col].value_counts(),\"\\n\")\n",
    "\n",
    "\"\"\"\n",
    "    - There is no description about this column available, so we have decided to exclude it\n",
    "\"\"\"\n",
    "drop.append(col)"
   ]
  },
  {
   "cell_type": "code",
   "execution_count": 42,
   "id": "42103432",
   "metadata": {},
   "outputs": [
    {
     "name": "stdout",
     "output_type": "stream",
     "text": [
      "resting blood pressure\n",
      "\n",
      "count    294.000000\n",
      "mean      84.078231\n",
      "std       10.736242\n",
      "min       -9.000000\n",
      "25%       80.000000\n",
      "50%       80.000000\n",
      "75%       90.000000\n",
      "max      110.000000\n",
      "Name: trestbpd, dtype: float64 \n",
      "\n",
      " 80     119\n",
      " 90      68\n",
      " 70      30\n",
      " 100     28\n",
      " 95       6\n",
      " 86       5\n",
      " 96       5\n",
      " 85       4\n",
      " 82       4\n",
      " 78       3\n",
      " 98       3\n",
      " 75       3\n",
      " 84       3\n",
      " 60       2\n",
      " 74       2\n",
      " 110      2\n",
      " 94       1\n",
      " 50       1\n",
      " 106      1\n",
      " 88       1\n",
      " 104      1\n",
      " 105      1\n",
      "-9        1\n",
      "Name: trestbpd, dtype: int64 \n",
      "\n",
      "[[1053, ['trestbps', 'thalach', 'thalrest', 'tpeakbps', 'tpeakbpd', 'trestbpd']], [1103, ['htn']], [1258, ['chol']], [1285, ['chol']], [1292, ['chol']], [1187, ['chol']], [1211, ['chol']], [1216, ['chol']], [1131, ['chol']], [1132, ['chol']], [1144, ['chol']], [1145, ['chol']], [1150, ['chol']], [1151, ['chol']], [1157, ['chol']], [1159, ['chol']], [1166, ['chol']], [1068, ['chol']], [1096, ['chol']], [1027, ['chol']], [1033, ['chol']], [1038, ['chol']], [1042, ['chol']], [1051, ['chol']], [1052, ['chol']], [1282, ['fbs']], [1201, ['fbs']], [1229, ['fbs']], [1062, ['fbs']], [1071, ['fbs']], [1089, ['fbs']], [1109, ['fbs']], [1111, ['fbs']], [1001, ['restecg']], [1284, ['prop']], [1294, ['prop', 'nitr', 'pro', 'thaldur']], [1029, ['thaldur']], [1172, ['met']], [5001, ['met']]]\n"
     ]
    }
   ],
   "source": [
    "#Analysing column 37: trestbpd\n",
    "col = \"trestbpd\"\n",
    "print(columns[col]+\"\\n\")\n",
    "print(df[col].describe(),\"\\n\")\n",
    "print(df[col].value_counts(),\"\\n\")\n",
    "\n",
    "null()"
   ]
  },
  {
   "cell_type": "code",
   "execution_count": 43,
   "id": "55fb4655",
   "metadata": {},
   "outputs": [
    {
     "name": "stdout",
     "output_type": "stream",
     "text": [
      "exercise induced angina (1 = yes; 0 = no)\n",
      "\n",
      "count    294.000000\n",
      "mean       0.272109\n",
      "std        0.711273\n",
      "min       -9.000000\n",
      "25%        0.000000\n",
      "50%        0.000000\n",
      "75%        1.000000\n",
      "max        1.000000\n",
      "Name: exang, dtype: float64 \n",
      "\n",
      " 0    204\n",
      " 1     89\n",
      "-9      1\n",
      "Name: exang, dtype: int64 \n",
      "\n",
      "[[1053, ['trestbps', 'thalach', 'thalrest', 'tpeakbps', 'tpeakbpd', 'trestbpd', 'exang']], [1103, ['htn']], [1258, ['chol']], [1285, ['chol']], [1292, ['chol']], [1187, ['chol']], [1211, ['chol']], [1216, ['chol']], [1131, ['chol']], [1132, ['chol']], [1144, ['chol']], [1145, ['chol']], [1150, ['chol']], [1151, ['chol']], [1157, ['chol']], [1159, ['chol']], [1166, ['chol']], [1068, ['chol']], [1096, ['chol']], [1027, ['chol']], [1033, ['chol']], [1038, ['chol']], [1042, ['chol']], [1051, ['chol']], [1052, ['chol']], [1282, ['fbs']], [1201, ['fbs']], [1229, ['fbs']], [1062, ['fbs']], [1071, ['fbs']], [1089, ['fbs']], [1109, ['fbs']], [1111, ['fbs']], [1001, ['restecg']], [1284, ['prop']], [1294, ['prop', 'nitr', 'pro', 'thaldur']], [1029, ['thaldur']], [1172, ['met']], [5001, ['met']]]\n"
     ]
    }
   ],
   "source": [
    "#Analysing column 38: exang\n",
    "col = \"exang\"\n",
    "print(columns[col]+\"\\n\")\n",
    "print(df[col].describe(),\"\\n\")\n",
    "print(df[col].value_counts(),\"\\n\")\n",
    "\n",
    "null()"
   ]
  },
  {
   "cell_type": "code",
   "execution_count": 44,
   "id": "ba0681d7",
   "metadata": {},
   "outputs": [
    {
     "name": "stdout",
     "output_type": "stream",
     "text": [
      "(1 = yes; 0 = no)\n",
      "\n",
      "count    294.000000\n",
      "mean      -0.057823\n",
      "std        0.743612\n",
      "min       -9.000000\n",
      "25%        0.000000\n",
      "50%        0.000000\n",
      "75%        0.000000\n",
      "max        1.000000\n",
      "Name: xhypo, dtype: float64 \n",
      "\n",
      " 0    291\n",
      "-9      2\n",
      " 1      1\n",
      "Name: xhypo, dtype: int64 \n",
      "\n"
     ]
    }
   ],
   "source": [
    "#Analysing column 39: xhypo\n",
    "col = \"xhypo\"\n",
    "print(columns[col]+\"\\n\")\n",
    "print(df[col].describe(),\"\\n\")\n",
    "print(df[col].value_counts(),\"\\n\")\n",
    "\n",
    "\"\"\"\n",
    "    - This column likely refers to exercise induced hypertension, though there is no description\n",
    "    - Only one participant seems to have experienced this, the rest haven't\n",
    "    - Our models will likely not learn anything from this column so we have decided to exclude it\n",
    "\"\"\"\n",
    "drop.append(col)"
   ]
  },
  {
   "cell_type": "code",
   "execution_count": 45,
   "id": "9db0de1f",
   "metadata": {},
   "outputs": [
    {
     "name": "stdout",
     "output_type": "stream",
     "text": [
      "ST depression induced by exercise relative to rest\n",
      "\n",
      "count    294.000000\n",
      "mean       0.586054\n",
      "std        0.908648\n",
      "min        0.000000\n",
      "25%        0.000000\n",
      "50%        0.000000\n",
      "75%        1.000000\n",
      "max        5.000000\n",
      "Name: oldpeak, dtype: float64 \n",
      "\n",
      "0.0    189\n",
      "1.0     41\n",
      "2.0     31\n",
      "1.5     16\n",
      "3.0      9\n",
      "2.5      3\n",
      "0.5      2\n",
      "4.0      1\n",
      "5.0      1\n",
      "0.8      1\n",
      "Name: oldpeak, dtype: int64 \n",
      "\n"
     ]
    }
   ],
   "source": [
    "#Analysing column 40: oldpeak\n",
    "col = \"oldpeak\"\n",
    "print(columns[col]+\"\\n\")\n",
    "print(df[col].describe(),\"\\n\")\n",
    "print(df[col].value_counts(),\"\\n\")"
   ]
  },
  {
   "cell_type": "code",
   "execution_count": 46,
   "id": "79f2a983",
   "metadata": {},
   "outputs": [
    {
     "name": "stdout",
     "output_type": "stream",
     "text": [
      "the slope of the peak exercise ST segment\n",
      "        -- Value 1: upsloping\n",
      "        -- Value 2: flat\n",
      "        -- Value 3: downsloping\n",
      "\n",
      "count    294.000000\n",
      "mean      -5.146259\n",
      "std        5.221611\n",
      "min       -9.000000\n",
      "25%       -9.000000\n",
      "50%       -9.000000\n",
      "75%        2.000000\n",
      "max        3.000000\n",
      "Name: slope, dtype: float64 \n",
      "\n",
      "-9    190\n",
      " 2     91\n",
      " 1     12\n",
      " 3      1\n",
      "Name: slope, dtype: int64 \n",
      "\n",
      "Empty DataFrame\n",
      "Columns: [id, ccf, age, sex, painloc, painexer, relrest, pncaden, cp, trestbps, htn, chol, smoke, cigs, years, fbs, dm, famhist, restecg, ekgmo, ekgday, ekgyr, dig, prop, nitr, pro, diuretic, proto, thaldur, thaltime, met, thalach, thalrest, tpeakbps, tpeakbpd, dummy, trestbpd, exang, xhypo, oldpeak, slope, rldv5, rldv5e, ca, restckm, exerckm, restef, restwm, exeref, exerwm, thal, thalsev, thalpul, earlobe, cmo, cday, cyr, num, lmt, ladprox, laddist, diag, cxmain, ramus, om1, om2, rcaprox, rcadist, lvx1, lvx2, lvx3, lvx4, lvf, cathef, junk, name]\n",
      "Index: []\n",
      "\n",
      "[0 rows x 76 columns]\n"
     ]
    }
   ],
   "source": [
    "#Analysing column 41: slope\n",
    "col = \"slope\"\n",
    "print(columns[col]+\"\\n\")\n",
    "print(df[col].describe(),\"\\n\")\n",
    "print(df[col].value_counts(),\"\\n\")\n",
    "\n",
    "\"\"\"\n",
    "    - There are a lot of missing values, however previous research has shown this feauture to be an effective estimator of\n",
    "    heart disease\n",
    "    - We are considering two options:\n",
    "    \n",
    "        1. amplify the distribution of existing values to assign proportionaly equivalent values\n",
    "        randomly to the 190 missing values\n",
    "        \n",
    "        2. The normal slope of an ST segment is upward. Flat or downwards may indicate coronary ischemia, so perhaps defaulting\n",
    "        to this value of 1\n",
    "            Note: This is further emphasised by the fact that no subject with a value of 1 is diagnosed with heart disease\n",
    "            \n",
    "    - But we decided it is best if we remove it and don't artificially alter the data too much, as well as the fact that we cant\n",
    "    assume default values\n",
    "\"\"\"\n",
    "\n",
    "print(df.loc[(df[col] == 1) & (df[\"num\"] >0)])\n",
    "\n",
    "drop.append(col)"
   ]
  },
  {
   "cell_type": "code",
   "execution_count": 47,
   "id": "c31eafe1",
   "metadata": {},
   "outputs": [
    {
     "name": "stdout",
     "output_type": "stream",
     "text": [
      "height at rest\n",
      "\n",
      "count    294.000000\n",
      "mean      13.605442\n",
      "std        5.727078\n",
      "min       -9.000000\n",
      "25%       10.000000\n",
      "50%       13.000000\n",
      "75%       17.000000\n",
      "max       31.000000\n",
      "Name: rldv5, dtype: float64 \n",
      "\n",
      " 10    27\n",
      " 14    23\n",
      " 13    22\n",
      " 12    21\n",
      " 15    19\n",
      " 11    17\n",
      " 17    15\n",
      " 9     15\n",
      " 18    15\n",
      " 8     14\n",
      " 20    12\n",
      " 16    11\n",
      " 7     10\n",
      " 6      9\n",
      " 4      9\n",
      " 5      9\n",
      " 22     7\n",
      " 24     7\n",
      " 19     7\n",
      " 21     6\n",
      " 23     6\n",
      " 25     5\n",
      " 27     2\n",
      " 28     2\n",
      "-9      1\n",
      " 26     1\n",
      " 31     1\n",
      " 3      1\n",
      "Name: rldv5, dtype: int64 \n",
      "\n",
      "[[1053, ['trestbps', 'thalach', 'thalrest', 'tpeakbps', 'tpeakbpd', 'trestbpd', 'exang']], [1103, ['htn']], [1258, ['chol']], [1285, ['chol']], [1292, ['chol']], [1187, ['chol']], [1211, ['chol']], [1216, ['chol']], [1131, ['chol']], [1132, ['chol']], [1144, ['chol']], [1145, ['chol']], [1150, ['chol']], [1151, ['chol']], [1157, ['chol']], [1159, ['chol']], [1166, ['chol']], [1068, ['chol']], [1096, ['chol']], [1027, ['chol']], [1033, ['chol']], [1038, ['chol']], [1042, ['chol']], [1051, ['chol']], [1052, ['chol']], [1282, ['fbs']], [1201, ['fbs']], [1229, ['fbs']], [1062, ['fbs']], [1071, ['fbs']], [1089, ['fbs']], [1109, ['fbs']], [1111, ['fbs']], [1001, ['restecg']], [1284, ['prop']], [1294, ['prop', 'nitr', 'pro', 'thaldur']], [1029, ['thaldur']], [1172, ['met']], [5001, ['met']], [1249, ['rldv5']]]\n"
     ]
    }
   ],
   "source": [
    "#Analysing column 42: rldv5\n",
    "col = \"rldv5\"\n",
    "print(columns[col]+\"\\n\")\n",
    "print(df[col].describe(),\"\\n\")\n",
    "print(df[col].value_counts(),\"\\n\")\n",
    "\n",
    "null()"
   ]
  },
  {
   "cell_type": "code",
   "execution_count": 48,
   "id": "9e85084c",
   "metadata": {},
   "outputs": [
    {
     "name": "stdout",
     "output_type": "stream",
     "text": [
      "height at peak exercise\n",
      "\n",
      "count    294.000000\n",
      "mean      13.295918\n",
      "std        5.345808\n",
      "min        2.000000\n",
      "25%        9.000000\n",
      "50%       13.000000\n",
      "75%       17.000000\n",
      "max       30.000000\n",
      "Name: rldv5e, dtype: float64 \n",
      "\n",
      "10    25\n",
      "15    24\n",
      "13    23\n",
      "20    21\n",
      "9     21\n",
      "11    21\n",
      "12    18\n",
      "14    17\n",
      "7     15\n",
      "18    13\n",
      "16    13\n",
      "6     12\n",
      "17    12\n",
      "8     12\n",
      "19     9\n",
      "5      6\n",
      "4      5\n",
      "25     4\n",
      "21     4\n",
      "22     4\n",
      "3      3\n",
      "23     3\n",
      "28     2\n",
      "27     2\n",
      "24     2\n",
      "26     1\n",
      "30     1\n",
      "2      1\n",
      "Name: rldv5e, dtype: int64 \n",
      "\n"
     ]
    }
   ],
   "source": [
    "#Analysing column 43: rldv5e\n",
    "col = \"rldv5e\"\n",
    "print(columns[col]+\"\\n\")\n",
    "print(df[col].describe(),\"\\n\")\n",
    "print(df[col].value_counts(),\"\\n\")"
   ]
  },
  {
   "cell_type": "code",
   "execution_count": 49,
   "id": "dd807f63",
   "metadata": {},
   "outputs": [
    {
     "name": "stdout",
     "output_type": "stream",
     "text": [
      "number of major vessels (0-3) colored by flourosopy\n",
      "\n",
      "count    294.000000\n",
      "mean      -8.846939\n",
      "std        1.382623\n",
      "min       -9.000000\n",
      "25%       -9.000000\n",
      "50%       -9.000000\n",
      "75%       -9.000000\n",
      "max        9.000000\n",
      "Name: ca, dtype: float64 \n",
      "\n",
      "-9    290\n",
      " 0      3\n",
      " 9      1\n",
      "Name: ca, dtype: int64 \n",
      "\n"
     ]
    }
   ],
   "source": [
    "#Analysing column 44: ca\n",
    "col = \"ca\"\n",
    "print(columns[col]+\"\\n\")\n",
    "print(df[col].describe(),\"\\n\")\n",
    "print(df[col].value_counts(),\"\\n\")\n",
    "\n",
    "\"\"\"\n",
    "    - Most of this data is missing so we will disregard it\n",
    "\"\"\"\n",
    "drop.append(col)"
   ]
  },
  {
   "cell_type": "code",
   "execution_count": 50,
   "id": "2784ae3b",
   "metadata": {},
   "outputs": [
    {
     "name": "stdout",
     "output_type": "stream",
     "text": [
      "irrelevant\n",
      "\n",
      "count    294.0\n",
      "mean      -9.0\n",
      "std        0.0\n",
      "min       -9.0\n",
      "25%       -9.0\n",
      "50%       -9.0\n",
      "75%       -9.0\n",
      "max       -9.0\n",
      "Name: restckm, dtype: float64 \n",
      "\n",
      "-9    294\n",
      "Name: restckm, dtype: int64 \n",
      "\n"
     ]
    }
   ],
   "source": [
    "#Analysing column 45: restckm\n",
    "col = \"restckm\"\n",
    "print(columns[col]+\"\\n\")\n",
    "print(df[col].describe(),\"\\n\")\n",
    "print(df[col].value_counts(),\"\\n\")\n",
    "\n",
    "drop.append(col)"
   ]
  },
  {
   "cell_type": "code",
   "execution_count": 51,
   "id": "aad08bda",
   "metadata": {},
   "outputs": [
    {
     "name": "stdout",
     "output_type": "stream",
     "text": [
      "irrelevant\n",
      "\n",
      "count    294.0\n",
      "mean      -9.0\n",
      "std        0.0\n",
      "min       -9.0\n",
      "25%       -9.0\n",
      "50%       -9.0\n",
      "75%       -9.0\n",
      "max       -9.0\n",
      "Name: exerckm, dtype: float64 \n",
      "\n",
      "-9    294\n",
      "Name: exerckm, dtype: int64 \n",
      "\n"
     ]
    }
   ],
   "source": [
    "#Analysing column 46: exerckm\n",
    "col = \"exerckm\"\n",
    "print(columns[col]+\"\\n\")\n",
    "print(df[col].describe(),\"\\n\")\n",
    "print(df[col].value_counts(),\"\\n\")\n",
    "\n",
    "drop.append(col)"
   ]
  },
  {
   "cell_type": "code",
   "execution_count": 52,
   "id": "a7f6ead7",
   "metadata": {},
   "outputs": [
    {
     "name": "stdout",
     "output_type": "stream",
     "text": [
      "rest raidonuclid (sp?) ejection fraction\n",
      "\n",
      "count    294.0\n",
      "mean      -9.0\n",
      "std        0.0\n",
      "min       -9.0\n",
      "25%       -9.0\n",
      "50%       -9.0\n",
      "75%       -9.0\n",
      "max       -9.0\n",
      "Name: restef, dtype: float64 \n",
      "\n",
      "-9    294\n",
      "Name: restef, dtype: int64 \n",
      "\n"
     ]
    }
   ],
   "source": [
    "#Analysing column 47: restef\n",
    "col = \"restef\"\n",
    "print(columns[col]+\"\\n\")\n",
    "print(df[col].describe(),\"\\n\")\n",
    "print(df[col].value_counts(),\"\\n\")\n",
    "\n",
    "drop.append(col)"
   ]
  },
  {
   "cell_type": "code",
   "execution_count": 53,
   "id": "2f6f658b",
   "metadata": {},
   "outputs": [
    {
     "name": "stdout",
     "output_type": "stream",
     "text": [
      "rest wall (sp?) motion abnormality\n",
      "        0 = none\n",
      "        1 = mild or moderate\n",
      "        2 = moderate or severe\n",
      "        3 = akinesis or dyskmem (sp?)\n",
      "\n",
      "count    294.000000\n",
      "mean      -8.908163\n",
      "std        0.906029\n",
      "min       -9.000000\n",
      "25%       -9.000000\n",
      "50%       -9.000000\n",
      "75%       -9.000000\n",
      "max        0.000000\n",
      "Name: restwm, dtype: float64 \n",
      "\n",
      "-9    291\n",
      " 0      3\n",
      "Name: restwm, dtype: int64 \n",
      "\n"
     ]
    }
   ],
   "source": [
    "#Analysing column 48: restwm\n",
    "col = \"restwm\"\n",
    "print(columns[col]+\"\\n\")\n",
    "print(df[col].describe(),\"\\n\")\n",
    "print(df[col].value_counts(),\"\\n\")\n",
    "\n",
    "drop.append(col)"
   ]
  },
  {
   "cell_type": "code",
   "execution_count": 54,
   "id": "260ff187",
   "metadata": {},
   "outputs": [
    {
     "name": "stdout",
     "output_type": "stream",
     "text": [
      "exercise radinalid (sp?) ejection fraction\n",
      "\n",
      "count    294.0\n",
      "mean      -9.0\n",
      "std        0.0\n",
      "min       -9.0\n",
      "25%       -9.0\n",
      "50%       -9.0\n",
      "75%       -9.0\n",
      "max       -9.0\n",
      "Name: exeref, dtype: float64 \n",
      "\n",
      "-9    294\n",
      "Name: exeref, dtype: int64 \n",
      "\n"
     ]
    }
   ],
   "source": [
    "#Analysing column 49: exeref\n",
    "col = \"exeref\"\n",
    "print(columns[col]+\"\\n\")\n",
    "print(df[col].describe(),\"\\n\")\n",
    "print(df[col].value_counts(),\"\\n\")\n",
    "\n",
    "drop.append(col)"
   ]
  },
  {
   "cell_type": "code",
   "execution_count": 55,
   "id": "15c96586",
   "metadata": {},
   "outputs": [
    {
     "name": "stdout",
     "output_type": "stream",
     "text": [
      "exercise wall (sp?) motion\n",
      "\n",
      "count    294.000000\n",
      "mean      -8.938776\n",
      "std        0.741040\n",
      "min       -9.000000\n",
      "25%       -9.000000\n",
      "50%       -9.000000\n",
      "75%       -9.000000\n",
      "max        0.000000\n",
      "Name: exerwm, dtype: float64 \n",
      "\n",
      "-9    292\n",
      " 0      2\n",
      "Name: exerwm, dtype: int64 \n",
      "\n"
     ]
    }
   ],
   "source": [
    "#Analysing column 50: exerwm\n",
    "col = \"exerwm\"\n",
    "print(columns[col]+\"\\n\")\n",
    "print(df[col].describe(),\"\\n\")\n",
    "print(df[col].value_counts(),\"\\n\")\n",
    "\n",
    "drop.append(col)"
   ]
  },
  {
   "cell_type": "code",
   "execution_count": 56,
   "id": "a47bc1c9",
   "metadata": {},
   "outputs": [
    {
     "name": "stdout",
     "output_type": "stream",
     "text": [
      "3 = normal; 6 = fixed defect; 7 = reversable defect\n",
      "\n",
      "count    294.000000\n",
      "mean      -7.605442\n",
      "std        4.333468\n",
      "min       -9.000000\n",
      "25%       -9.000000\n",
      "50%       -9.000000\n",
      "75%       -9.000000\n",
      "max        7.000000\n",
      "Name: thal, dtype: float64 \n",
      "\n",
      "-9    266\n",
      " 7     11\n",
      " 6     10\n",
      " 3      7\n",
      "Name: thal, dtype: int64 \n",
      "\n"
     ]
    }
   ],
   "source": [
    "#Analysing column 51: thal\n",
    "col = \"thal\"\n",
    "print(columns[col]+\"\\n\")\n",
    "print(df[col].describe(),\"\\n\")\n",
    "print(df[col].value_counts(),\"\\n\")\n",
    "\n",
    "\"\"\"\n",
    "    - Similar to slope, we can decide to maybe even remove these two\n",
    "\"\"\"\n",
    "\n",
    "drop.append(col)"
   ]
  },
  {
   "cell_type": "code",
   "execution_count": 57,
   "id": "45d60df9",
   "metadata": {},
   "outputs": [
    {
     "name": "stdout",
     "output_type": "stream",
     "text": [
      "not used\n",
      "\n",
      "count    294.000000\n",
      "mean      -8.051020\n",
      "std        3.000702\n",
      "min       -9.000000\n",
      "25%       -9.000000\n",
      "50%       -9.000000\n",
      "75%       -9.000000\n",
      "max        3.000000\n",
      "Name: thalsev, dtype: float64 \n",
      "\n",
      "-9    267\n",
      " 2     13\n",
      " 1      7\n",
      " 0      6\n",
      " 3      1\n",
      "Name: thalsev, dtype: int64 \n",
      "\n"
     ]
    }
   ],
   "source": [
    "#Analysing column 52: thalsev \n",
    "col = \"thalsev\"\n",
    "print(columns[col]+\"\\n\")\n",
    "print(df[col].describe(),\"\\n\")\n",
    "print(df[col].value_counts(),\"\\n\")\n",
    "\n",
    "drop.append(col)"
   ]
  },
  {
   "cell_type": "code",
   "execution_count": 58,
   "id": "75978870",
   "metadata": {},
   "outputs": [
    {
     "name": "stdout",
     "output_type": "stream",
     "text": [
      "not used\n",
      "\n",
      "count    294.000000\n",
      "mean      -8.445578\n",
      "std        2.244925\n",
      "min       -9.000000\n",
      "25%       -9.000000\n",
      "50%       -9.000000\n",
      "75%       -9.000000\n",
      "max        1.000000\n",
      "Name: thalpul, dtype: float64 \n",
      "\n",
      "-9    277\n",
      " 1     10\n",
      " 0      7\n",
      "Name: thalpul, dtype: int64 \n",
      "\n"
     ]
    }
   ],
   "source": [
    "#Analysing column 53: thalpul\n",
    "col = \"thalpul\"\n",
    "print(columns[col]+\"\\n\")\n",
    "print(df[col].describe(),\"\\n\")\n",
    "print(df[col].value_counts(),\"\\n\")\n",
    "\n",
    "drop.append(col)"
   ]
  },
  {
   "cell_type": "code",
   "execution_count": 59,
   "id": "6531e334",
   "metadata": {},
   "outputs": [
    {
     "name": "stdout",
     "output_type": "stream",
     "text": [
      "not used\n",
      "\n",
      "count    294.0\n",
      "mean      -9.0\n",
      "std        0.0\n",
      "min       -9.0\n",
      "25%       -9.0\n",
      "50%       -9.0\n",
      "75%       -9.0\n",
      "max       -9.0\n",
      "Name: earlobe, dtype: float64 \n",
      "\n",
      "-9    294\n",
      "Name: earlobe, dtype: int64 \n",
      "\n"
     ]
    }
   ],
   "source": [
    "#Analysing column 54: earlobe\n",
    "col = \"earlobe\"\n",
    "print(columns[col]+\"\\n\")\n",
    "print(df[col].describe(),\"\\n\")\n",
    "print(df[col].value_counts(),\"\\n\")\n",
    "\n",
    "drop.append(col)"
   ]
  },
  {
   "cell_type": "code",
   "execution_count": 60,
   "id": "da548cc4",
   "metadata": {},
   "outputs": [
    {
     "name": "stdout",
     "output_type": "stream",
     "text": [
      "month of cardiac cath (sp?)  (perhaps 'call')\n",
      "\n",
      "count    294.000000\n",
      "mean       6.241497\n",
      "std        3.212525\n",
      "min        1.000000\n",
      "25%        3.000000\n",
      "50%        6.000000\n",
      "75%        9.000000\n",
      "max       12.000000\n",
      "Name: cmo, dtype: float64 \n",
      "\n",
      "3     45\n",
      "5     41\n",
      "7     32\n",
      "4     28\n",
      "11    22\n",
      "6     22\n",
      "12    21\n",
      "9     21\n",
      "10    20\n",
      "2     18\n",
      "1     12\n",
      "8     12\n",
      "Name: cmo, dtype: int64 \n",
      "\n"
     ]
    }
   ],
   "source": [
    "#Analysing column 55: cmo\n",
    "col = \"cmo\"\n",
    "print(columns[col]+\"\\n\")\n",
    "print(df[col].describe(),\"\\n\")\n",
    "print(df[col].value_counts(),\"\\n\")\n",
    "\n",
    "drop.append(col)"
   ]
  },
  {
   "cell_type": "code",
   "execution_count": 61,
   "id": "18da77a6",
   "metadata": {},
   "outputs": [
    {
     "name": "stdout",
     "output_type": "stream",
     "text": [
      "day of cardiac cath (sp?)\n",
      "\n",
      "count    294.000000\n",
      "mean      17.244898\n",
      "std        8.667614\n",
      "min        1.000000\n",
      "25%       10.000000\n",
      "50%       17.000000\n",
      "75%       25.000000\n",
      "max       31.000000\n",
      "Name: cday, dtype: float64 \n",
      "\n",
      "20    33\n",
      "30    32\n",
      "10    25\n",
      "25    16\n",
      "16    16\n",
      "15    15\n",
      "26    15\n",
      "28    12\n",
      "12    12\n",
      "22    10\n",
      "14    10\n",
      "6     10\n",
      "8     10\n",
      "5      8\n",
      "2      7\n",
      "1      7\n",
      "17     7\n",
      "4      6\n",
      "11     5\n",
      "29     5\n",
      "3      5\n",
      "27     4\n",
      "9      4\n",
      "19     4\n",
      "23     4\n",
      "18     3\n",
      "21     3\n",
      "13     3\n",
      "7      1\n",
      "31     1\n",
      "24     1\n",
      "Name: cday, dtype: int64 \n",
      "\n"
     ]
    }
   ],
   "source": [
    "#Analysing column 56: cday\n",
    "col = \"cday\"\n",
    "print(columns[col]+\"\\n\")\n",
    "print(df[col].describe(),\"\\n\")\n",
    "print(df[col].value_counts(),\"\\n\")\n",
    "\n",
    "drop.append(col)"
   ]
  },
  {
   "cell_type": "code",
   "execution_count": 62,
   "id": "46ee779b",
   "metadata": {},
   "outputs": [
    {
     "name": "stdout",
     "output_type": "stream",
     "text": [
      "year of cardiac cath (sp?)\n",
      "\n",
      "count    294.000000\n",
      "mean      85.204082\n",
      "std        1.117278\n",
      "min       83.000000\n",
      "25%       84.000000\n",
      "50%       85.000000\n",
      "75%       86.000000\n",
      "max       87.000000\n",
      "Name: cyr, dtype: float64 \n",
      "\n",
      "86    93\n",
      "85    84\n",
      "84    61\n",
      "87    35\n",
      "83    21\n",
      "Name: cyr, dtype: int64 \n",
      "\n"
     ]
    }
   ],
   "source": [
    "#Analysing column 57: cyr\n",
    "col = \"cyr\"\n",
    "print(columns[col]+\"\\n\")\n",
    "print(df[col].describe(),\"\\n\")\n",
    "print(df[col].value_counts(),\"\\n\")\n",
    "\n",
    "drop.append(col)"
   ]
  },
  {
   "cell_type": "code",
   "execution_count": 63,
   "id": "50ffd1a3",
   "metadata": {},
   "outputs": [
    {
     "name": "stdout",
     "output_type": "stream",
     "text": [
      "diagnosis of heart disease (angiographic disease status)\n",
      "        -- Value 0: < 50% diameter narrowing\n",
      "        -- Value 1: > 50% diameter narrowing\n",
      "        (in any major vessel: following 10 attributes)\n",
      "\n",
      "count    294.000000\n",
      "mean       0.792517\n",
      "std        1.237006\n",
      "min        0.000000\n",
      "25%        0.000000\n",
      "50%        0.000000\n",
      "75%        1.000000\n",
      "max        4.000000\n",
      "Name: num, dtype: float64 \n",
      "\n",
      "0    188\n",
      "1     37\n",
      "3     28\n",
      "2     26\n",
      "4     15\n",
      "Name: num, dtype: int64 \n",
      "\n"
     ]
    },
    {
     "data": {
      "text/plain": [
       "'\\n    Note: The source does not specify the meaning behind the numbers 1-4, but it likely represents the severity/likelihood\\n    and they have instructed that a 0 means there is no heart disease and any other value should be considered as there is\\n    heart disease\\n'"
      ]
     },
     "execution_count": 63,
     "metadata": {},
     "output_type": "execute_result"
    }
   ],
   "source": [
    "#Analysing column 58: num, this is the target\n",
    "col = \"num\"\n",
    "print(columns[col]+\"\\n\")\n",
    "print(df[col].describe(),\"\\n\")\n",
    "print(df[col].value_counts(),\"\\n\")\n",
    "\n",
    "\"\"\"\n",
    "    Note: The source does not specify the meaning behind the numbers 1-4, but it likely represents the severity/likelihood\n",
    "    and they have instructed that a 0 means there is no heart disease and any other value should be considered as there is\n",
    "    heart disease\n",
    "\"\"\""
   ]
  },
  {
   "cell_type": "code",
   "execution_count": 64,
   "id": "bcf9211d",
   "metadata": {},
   "outputs": [
    {
     "data": {
      "text/plain": [
       "'\\n    Note: the following attributes are boolean values of whether there is > 50% narrowing in the arteries as explained \\n    above or not.\\n    They therefore are an extension to the target field and are to be excluded from the training set since they explicitly \\n    give the answer of whether or not there is heart disease by the defintion presented above\\n'"
      ]
     },
     "execution_count": 64,
     "metadata": {},
     "output_type": "execute_result"
    }
   ],
   "source": [
    "\"\"\"\n",
    "    Note: the following attributes are boolean values of whether there is > 50% narrowing in the arteries as explained \n",
    "    above or not.\n",
    "    They therefore are an extension to the target field and are to be excluded from the training set since they explicitly \n",
    "    give the answer of whether or not there is heart disease by the defintion presented above\n",
    "\"\"\""
   ]
  },
  {
   "cell_type": "code",
   "execution_count": 65,
   "id": "5183564a",
   "metadata": {},
   "outputs": [],
   "source": [
    "#Drop columns 59 - 68\n",
    "drop += [\"lmt\",\"ladprox\",\"laddist\",\"diag\",\"cxmain\",\"ramus\",\"om1\",\"om2\",\"rcaprox\",\"rcadist\"]"
   ]
  },
  {
   "cell_type": "code",
   "execution_count": 66,
   "id": "f78c3a6d",
   "metadata": {},
   "outputs": [],
   "source": [
    "#The remaining attributes are not used as explained in the names file of the dataset\n",
    "drop += [\"lvx1\",\"lvx2\",\"lvx3\",\"lvx4\",\"lvf\",\"cathef\",\"junk\",\"name\"]"
   ]
  },
  {
   "cell_type": "code",
   "execution_count": 67,
   "id": "3804b1a9",
   "metadata": {},
   "outputs": [
    {
     "data": {
      "text/plain": [
       "'Some plots for the report'"
      ]
     },
     "execution_count": 67,
     "metadata": {},
     "output_type": "execute_result"
    }
   ],
   "source": [
    "\"\"\"Some plots for the report\"\"\""
   ]
  },
  {
   "cell_type": "code",
   "execution_count": 68,
   "id": "67ffb5d3",
   "metadata": {},
   "outputs": [],
   "source": [
    "import matplotlib.pyplot as plt"
   ]
  },
  {
   "cell_type": "code",
   "execution_count": 69,
   "id": "f82856aa",
   "metadata": {},
   "outputs": [
    {
     "data": {
      "image/png": "[encoded data removed]",
      "text/plain": [
       "<Figure size 432x288 with 1 Axes>"
      ]
     },
     "metadata": {
      "needs_background": "light"
     },
     "output_type": "display_data"
    }
   ],
   "source": [
    "barDF = df[[\"dm\",\"dig\",\"slope\",\"smoke\",\"ca\",\"diuretic\"]]\n",
    "#print(barDF)\n",
    "melt = barDF.melt()\n",
    "crosstab = pd.crosstab(melt[\"variable\"], melt[\"value\"])\n",
    "\n",
    "ax = crosstab.plot(kind=\"bar\", stacked=True, xlabel = \"Feature\", ylabel=\"Count\", rot=0)\n",
    "ax.legend(bbox_to_anchor=(1.2, 1))\n",
    "plt.title(\"Fig 3. - Value counts of example columns that were dropped\")\n",
    "plt.tight_layout()\n",
    "plt.show()"
   ]
  },
  {
   "cell_type": "code",
   "execution_count": null,
   "id": "6532dc62",
   "metadata": {},
   "outputs": [],
   "source": []
  },
  {
   "cell_type": "code",
   "execution_count": 70,
   "id": "4331e8da",
   "metadata": {},
   "outputs": [
    {
     "data": {
      "text/plain": [
       "[[1053,\n",
       "  ['trestbps',\n",
       "   'thalach',\n",
       "   'thalrest',\n",
       "   'tpeakbps',\n",
       "   'tpeakbpd',\n",
       "   'trestbpd',\n",
       "   'exang']],\n",
       " [1103, ['htn']],\n",
       " [1258, ['chol']],\n",
       " [1285, ['chol']],\n",
       " [1292, ['chol']],\n",
       " [1187, ['chol']],\n",
       " [1211, ['chol']],\n",
       " [1216, ['chol']],\n",
       " [1131, ['chol']],\n",
       " [1132, ['chol']],\n",
       " [1144, ['chol']],\n",
       " [1145, ['chol']],\n",
       " [1150, ['chol']],\n",
       " [1151, ['chol']],\n",
       " [1157, ['chol']],\n",
       " [1159, ['chol']],\n",
       " [1166, ['chol']],\n",
       " [1068, ['chol']],\n",
       " [1096, ['chol']],\n",
       " [1027, ['chol']],\n",
       " [1033, ['chol']],\n",
       " [1038, ['chol']],\n",
       " [1042, ['chol']],\n",
       " [1051, ['chol']],\n",
       " [1052, ['chol']],\n",
       " [1282, ['fbs']],\n",
       " [1201, ['fbs']],\n",
       " [1229, ['fbs']],\n",
       " [1062, ['fbs']],\n",
       " [1071, ['fbs']],\n",
       " [1089, ['fbs']],\n",
       " [1109, ['fbs']],\n",
       " [1111, ['fbs']],\n",
       " [1001, ['restecg']],\n",
       " [1284, ['prop']],\n",
       " [1294, ['prop', 'nitr', 'pro', 'thaldur']],\n",
       " [1029, ['thaldur']],\n",
       " [1172, ['met']],\n",
       " [5001, ['met']],\n",
       " [1249, ['rldv5']]]"
      ]
     },
     "execution_count": 70,
     "metadata": {},
     "output_type": "execute_result"
    }
   ],
   "source": [
    "#Now lets analyse our entries which have nulls\n",
    "nullData\n",
    "\n"
   ]
  },
  {
   "cell_type": "code",
   "execution_count": 71,
   "id": "6c8917ae",
   "metadata": {},
   "outputs": [
    {
     "data": {
      "text/plain": [
       "'\\n    Key Takeaways: \\n        - 1053 and 1294 are missing quite a few values, is this grounds for exclusion?\\n        - Many missing values for:\\n            - chol\\n            - fbs\\n            for these values maybe we should do a mean/median of some sort, perhaps with some random noise added?\\n'"
      ]
     },
     "execution_count": 71,
     "metadata": {},
     "output_type": "execute_result"
    }
   ],
   "source": [
    "\"\"\"\n",
    "    Key Takeaways: \n",
    "        - 1053 and 1294 are missing quite a few values, is this grounds for exclusion?\n",
    "        - Many missing values for:\n",
    "            - chol\n",
    "            - fbs\n",
    "            for these values maybe we should do a mean/median of some sort, perhaps with some random noise added?\n",
    "\"\"\"\n"
   ]
  },
  {
   "cell_type": "code",
   "execution_count": 72,
   "id": "d05c4464",
   "metadata": {},
   "outputs": [
    {
     "data": {
      "text/plain": [
       "[[1053,\n",
       "  ['trestbps',\n",
       "   'thalach',\n",
       "   'thalrest',\n",
       "   'tpeakbps',\n",
       "   'tpeakbpd',\n",
       "   'trestbpd',\n",
       "   'exang']],\n",
       " [1103, ['htn']],\n",
       " [1258, ['chol']],\n",
       " [1285, ['chol']],\n",
       " [1292, ['chol']],\n",
       " [1187, ['chol']],\n",
       " [1211, ['chol']],\n",
       " [1216, ['chol']],\n",
       " [1131, ['chol']],\n",
       " [1132, ['chol']],\n",
       " [1144, ['chol']],\n",
       " [1145, ['chol']],\n",
       " [1150, ['chol']],\n",
       " [1151, ['chol']],\n",
       " [1157, ['chol']],\n",
       " [1159, ['chol']],\n",
       " [1166, ['chol']],\n",
       " [1068, ['chol']],\n",
       " [1096, ['chol']],\n",
       " [1027, ['chol']],\n",
       " [1033, ['chol']],\n",
       " [1038, ['chol']],\n",
       " [1042, ['chol']],\n",
       " [1051, ['chol']],\n",
       " [1052, ['chol']],\n",
       " [1282, ['fbs']],\n",
       " [1201, ['fbs']],\n",
       " [1229, ['fbs']],\n",
       " [1062, ['fbs']],\n",
       " [1071, ['fbs']],\n",
       " [1089, ['fbs']],\n",
       " [1109, ['fbs']],\n",
       " [1111, ['fbs']],\n",
       " [1001, ['restecg']],\n",
       " [1284, ['prop']],\n",
       " [1294, ['prop', 'nitr', 'pro', 'thaldur']],\n",
       " [1029, ['thaldur']],\n",
       " [1172, ['met']],\n",
       " [5001, ['met']],\n",
       " [1249, ['rldv5']]]"
      ]
     },
     "execution_count": 72,
     "metadata": {},
     "output_type": "execute_result"
    }
   ],
   "source": [
    "nullData"
   ]
  },
  {
   "cell_type": "code",
   "execution_count": 73,
   "id": "de6c3000",
   "metadata": {},
   "outputs": [
    {
     "data": {
      "text/plain": [
       "50"
      ]
     },
     "execution_count": 73,
     "metadata": {},
     "output_type": "execute_result"
    }
   ],
   "source": [
    "len(drop)"
   ]
  },
  {
   "cell_type": "code",
   "execution_count": 74,
   "id": "6cae62e3",
   "metadata": {},
   "outputs": [],
   "source": [
    "#Dealing with cholesterol missing values\n",
    "\n",
    "#Assign random integer values between 230 (the mean) and 237 (the median)\n",
    "import random\n",
    "\n",
    "toRemove = []\n",
    "tag = False\n",
    "for i in range(0,len(nullData)):\n",
    "    for j in range(0,len(nullData[i][1])):\n",
    "        if nullData[i][1][j] == \"chol\":\n",
    "            row = df.loc[df[\"id\"] == nullData[i][0]].index.values\n",
    "            df.iloc[row[0],11] = random.randint(230,237)\n",
    "            if len(nullData[i][1]) == 1:\n",
    "                toRemove.append(i)\n",
    "            else:\n",
    "                tag = True\n",
    "    if tag:\n",
    "        nullData[i][1].remove(\"chol\")\n",
    "        tag = False\n",
    "new = []\n",
    "for i in range(0,len(nullData)):\n",
    "    if i not in toRemove:\n",
    "        new.append(nullData[i])\n",
    "nullData = new\n",
    "\n",
    "\n"
   ]
  },
  {
   "cell_type": "code",
   "execution_count": 75,
   "id": "f8f649d2",
   "metadata": {},
   "outputs": [
    {
     "name": "stdout",
     "output_type": "stream",
     "text": [
      "count    294.000000\n",
      "mean     249.503401\n",
      "std       65.115951\n",
      "min       85.000000\n",
      "25%      211.250000\n",
      "50%      237.000000\n",
      "75%      277.000000\n",
      "max      603.000000\n",
      "Name: chol, dtype: float64 \n",
      "\n",
      "237    9\n",
      "230    7\n",
      "231    5\n",
      "246    5\n",
      "232    5\n",
      "      ..\n",
      "85     1\n",
      "329    1\n",
      "210    1\n",
      "307    1\n",
      "166    1\n",
      "Name: chol, Length: 156, dtype: int64 \n",
      "\n"
     ]
    }
   ],
   "source": [
    "#Check \"chol\" column\n",
    "col = \"chol\"\n",
    "print(df[col].describe(),\"\\n\")\n",
    "print(df[col].value_counts(),\"\\n\")"
   ]
  },
  {
   "cell_type": "code",
   "execution_count": 76,
   "id": "f8a3c9e5",
   "metadata": {},
   "outputs": [
    {
     "data": {
      "text/plain": [
       "[[1053,\n",
       "  ['trestbps',\n",
       "   'thalach',\n",
       "   'thalrest',\n",
       "   'tpeakbps',\n",
       "   'tpeakbpd',\n",
       "   'trestbpd',\n",
       "   'exang']],\n",
       " [1103, ['htn']],\n",
       " [1282, ['fbs']],\n",
       " [1201, ['fbs']],\n",
       " [1229, ['fbs']],\n",
       " [1062, ['fbs']],\n",
       " [1071, ['fbs']],\n",
       " [1089, ['fbs']],\n",
       " [1109, ['fbs']],\n",
       " [1111, ['fbs']],\n",
       " [1001, ['restecg']],\n",
       " [1284, ['prop']],\n",
       " [1294, ['prop', 'nitr', 'pro', 'thaldur']],\n",
       " [1029, ['thaldur']],\n",
       " [1172, ['met']],\n",
       " [5001, ['met']],\n",
       " [1249, ['rldv5']]]"
      ]
     },
     "execution_count": 76,
     "metadata": {},
     "output_type": "execute_result"
    }
   ],
   "source": [
    "nullData"
   ]
  },
  {
   "cell_type": "code",
   "execution_count": 77,
   "id": "8f91610a",
   "metadata": {},
   "outputs": [
    {
     "name": "stdout",
     "output_type": "stream",
     "text": [
      "6 \n",
      "\n"
     ]
    }
   ],
   "source": [
    "#Dealing with fasting blood sugar missing values\n",
    "\"\"\"\n",
    "\n",
    " 0    266\n",
    " 1     20\n",
    "-9      8\n",
    "\n",
    "P(column = 1) = 20/286\n",
    "\n",
    "X ~ B(8, 20/286)\n",
    "E(X) = 8 x 20/286 ~= 0.56\n",
    "\n",
    "So we expect 0.56 of the 8 missing values to have a value of 1, so we have decided to assign one random missing value to 1\n",
    "\n",
    "\"\"\" \n",
    "\n",
    "\n",
    "#Assign random row a value of 1, and all of the other a value of 0\n",
    "v1 = random.randint(1,8)\n",
    "print(v1,\"\\n\")\n",
    "\n",
    "toRemove = []\n",
    "tag = False\n",
    "count = 0\n",
    "for i in range(0,len(nullData)):\n",
    "    for j in range(0,len(nullData[i][1])):\n",
    "        if nullData[i][1][j] == \"fbs\":\n",
    "            count += 1\n",
    "            row = df.loc[df[\"id\"] == nullData[i][0]].index.values\n",
    "            if count == v1:\n",
    "                #Set to value 1\n",
    "                df.iloc[row[0],15] = 1\n",
    "            else:\n",
    "                #Set to value 0\n",
    "                df.iloc[row[0],15] = 0\n",
    "            if len(nullData[i][1]) == 1:\n",
    "                toRemove.append(i)\n",
    "            else:\n",
    "                tag = True\n",
    "    if tag:\n",
    "        nullData[i][1].remove(\"fbs\")\n",
    "        tag = False\n",
    "new = []\n",
    "for i in range(0,len(nullData)):\n",
    "    if i not in toRemove:\n",
    "        new.append(nullData[i])\n",
    "nullData = new"
   ]
  },
  {
   "cell_type": "code",
   "execution_count": 78,
   "id": "574cc8ff",
   "metadata": {},
   "outputs": [
    {
     "name": "stdout",
     "output_type": "stream",
     "text": [
      "count    294.000000\n",
      "mean       0.071429\n",
      "std        0.257978\n",
      "min        0.000000\n",
      "25%        0.000000\n",
      "50%        0.000000\n",
      "75%        0.000000\n",
      "max        1.000000\n",
      "Name: fbs, dtype: float64 \n",
      "\n",
      "0    273\n",
      "1     21\n",
      "Name: fbs, dtype: int64 \n",
      "\n"
     ]
    }
   ],
   "source": [
    "#Check \"fbs\" column\n",
    "col = \"fbs\"\n",
    "print(df[col].describe(),\"\\n\")\n",
    "print(df[col].value_counts(),\"\\n\")"
   ]
  },
  {
   "cell_type": "code",
   "execution_count": 79,
   "id": "5f31c30e",
   "metadata": {},
   "outputs": [
    {
     "data": {
      "text/plain": [
       "[[1053,\n",
       "  ['trestbps',\n",
       "   'thalach',\n",
       "   'thalrest',\n",
       "   'tpeakbps',\n",
       "   'tpeakbpd',\n",
       "   'trestbpd',\n",
       "   'exang']],\n",
       " [1103, ['htn']],\n",
       " [1001, ['restecg']],\n",
       " [1284, ['prop']],\n",
       " [1294, ['prop', 'nitr', 'pro', 'thaldur']],\n",
       " [1029, ['thaldur']],\n",
       " [1172, ['met']],\n",
       " [5001, ['met']],\n",
       " [1249, ['rldv5']]]"
      ]
     },
     "execution_count": 79,
     "metadata": {},
     "output_type": "execute_result"
    }
   ],
   "source": [
    "nullData"
   ]
  },
  {
   "cell_type": "code",
   "execution_count": 80,
   "id": "1a80a425",
   "metadata": {},
   "outputs": [],
   "source": [
    "#Dealing with 1103's htn missing value\n",
    "\"\"\"\n",
    "We have decided to use the mode, 0, especially because there's only one value\n",
    "\"\"\"\n",
    "\n",
    "toRemove = []\n",
    "tag = False\n",
    "for i in range(0,len(nullData)):\n",
    "    for j in range(0,len(nullData[i][1])):\n",
    "        if nullData[i][1][j] == \"htn\":\n",
    "            row = df.loc[df[\"id\"] == nullData[i][0]].index.values\n",
    "            df.iloc[row[0],10] = 0\n",
    "            if len(nullData[i][1]) == 1:\n",
    "                toRemove.append(i)\n",
    "            else:\n",
    "                tag = True\n",
    "    if tag:\n",
    "        nullData[i][1].remove(\"htn\")\n",
    "        tag = False\n",
    "new = []\n",
    "for i in range(0,len(nullData)):\n",
    "    if i not in toRemove:\n",
    "        new.append(nullData[i])\n",
    "nullData = new"
   ]
  },
  {
   "cell_type": "code",
   "execution_count": 81,
   "id": "0597d2af",
   "metadata": {},
   "outputs": [
    {
     "name": "stdout",
     "output_type": "stream",
     "text": [
      "count    294.000000\n",
      "mean       0.333333\n",
      "std        0.472208\n",
      "min        0.000000\n",
      "25%        0.000000\n",
      "50%        0.000000\n",
      "75%        1.000000\n",
      "max        1.000000\n",
      "Name: htn, dtype: float64 \n",
      "\n",
      "0    196\n",
      "1     98\n",
      "Name: htn, dtype: int64 \n",
      "\n"
     ]
    }
   ],
   "source": [
    "#Check \"htn\" column\n",
    "col = \"htn\"\n",
    "print(df[col].describe(),\"\\n\")\n",
    "print(df[col].value_counts(),\"\\n\")"
   ]
  },
  {
   "cell_type": "code",
   "execution_count": 82,
   "id": "33dfead4",
   "metadata": {},
   "outputs": [
    {
     "data": {
      "text/plain": [
       "[[1053,\n",
       "  ['trestbps',\n",
       "   'thalach',\n",
       "   'thalrest',\n",
       "   'tpeakbps',\n",
       "   'tpeakbpd',\n",
       "   'trestbpd',\n",
       "   'exang']],\n",
       " [1001, ['restecg']],\n",
       " [1284, ['prop']],\n",
       " [1294, ['prop', 'nitr', 'pro', 'thaldur']],\n",
       " [1029, ['thaldur']],\n",
       " [1172, ['met']],\n",
       " [5001, ['met']],\n",
       " [1249, ['rldv5']]]"
      ]
     },
     "execution_count": 82,
     "metadata": {},
     "output_type": "execute_result"
    }
   ],
   "source": [
    "nullData"
   ]
  },
  {
   "cell_type": "code",
   "execution_count": 83,
   "id": "5a3fc715",
   "metadata": {},
   "outputs": [],
   "source": [
    "#Dealing with 1001's restecg missing value\n",
    "\"\"\"\n",
    "We have decided to use the mode, 0, especially because there's only one value\n",
    "\"\"\"\n",
    "\n",
    "toRemove = []\n",
    "tag = False\n",
    "for i in range(0,len(nullData)):\n",
    "    for j in range(0,len(nullData[i][1])):\n",
    "        if nullData[i][1][j] == \"restecg\":\n",
    "            row = df.loc[df[\"id\"] == nullData[i][0]].index.values\n",
    "            df.iloc[row[0],18] = 0\n",
    "            if len(nullData[i][1]) == 1:\n",
    "                toRemove.append(i)\n",
    "            else:\n",
    "                tag = True\n",
    "    if tag:\n",
    "        nullData[i][1].remove(\"restecg\")\n",
    "        tag = False\n",
    "new = []\n",
    "for i in range(0,len(nullData)):\n",
    "    if i not in toRemove:\n",
    "        new.append(nullData[i])\n",
    "nullData = new"
   ]
  },
  {
   "cell_type": "code",
   "execution_count": 84,
   "id": "0cb1b3a2",
   "metadata": {},
   "outputs": [
    {
     "name": "stdout",
     "output_type": "stream",
     "text": [
      "count    294.000000\n",
      "mean       0.217687\n",
      "std        0.460257\n",
      "min        0.000000\n",
      "25%        0.000000\n",
      "50%        0.000000\n",
      "75%        0.000000\n",
      "max        2.000000\n",
      "Name: restecg, dtype: float64 \n",
      "\n",
      "0    236\n",
      "1     52\n",
      "2      6\n",
      "Name: restecg, dtype: int64 \n",
      "\n"
     ]
    }
   ],
   "source": [
    "#Check \"restecg\" column\n",
    "col = \"restecg\"\n",
    "print(df[col].describe(),\"\\n\")\n",
    "print(df[col].value_counts(),\"\\n\")"
   ]
  },
  {
   "cell_type": "code",
   "execution_count": 85,
   "id": "48763a06",
   "metadata": {},
   "outputs": [
    {
     "data": {
      "text/plain": [
       "[[1053,\n",
       "  ['trestbps',\n",
       "   'thalach',\n",
       "   'thalrest',\n",
       "   'tpeakbps',\n",
       "   'tpeakbpd',\n",
       "   'trestbpd',\n",
       "   'exang']],\n",
       " [1284, ['prop']],\n",
       " [1294, ['prop', 'nitr', 'pro', 'thaldur']],\n",
       " [1029, ['thaldur']],\n",
       " [1172, ['met']],\n",
       " [5001, ['met']],\n",
       " [1249, ['rldv5']]]"
      ]
     },
     "execution_count": 85,
     "metadata": {},
     "output_type": "execute_result"
    }
   ],
   "source": [
    "nullData"
   ]
  },
  {
   "cell_type": "code",
   "execution_count": 86,
   "id": "03dae043",
   "metadata": {},
   "outputs": [],
   "source": [
    "#Dealing with prop missing value\n",
    "\"\"\"\n",
    "We have decided to use the mode, 0, especially because we can't assume people used beta blockers\n",
    "\"\"\"\n",
    "\n",
    "toRemove = []\n",
    "tag = False\n",
    "for i in range(0,len(nullData)):\n",
    "    for j in range(0,len(nullData[i][1])):\n",
    "        if nullData[i][1][j] == \"prop\":\n",
    "            row = df.loc[df[\"id\"] == nullData[i][0]].index.values\n",
    "            df.iloc[row[0],23] = 0\n",
    "            if len(nullData[i][1]) == 1:\n",
    "                toRemove.append(i)\n",
    "            else:\n",
    "                tag = True\n",
    "    if tag:\n",
    "        nullData[i][1].remove(\"prop\")\n",
    "        tag = False\n",
    "new = []\n",
    "for i in range(0,len(nullData)):\n",
    "    if i not in toRemove:\n",
    "        new.append(nullData[i])\n",
    "nullData = new"
   ]
  },
  {
   "cell_type": "code",
   "execution_count": 87,
   "id": "c1e854b9",
   "metadata": {},
   "outputs": [
    {
     "name": "stdout",
     "output_type": "stream",
     "text": [
      "count    294.000000\n",
      "mean       0.061224\n",
      "std        0.240150\n",
      "min        0.000000\n",
      "25%        0.000000\n",
      "50%        0.000000\n",
      "75%        0.000000\n",
      "max        1.000000\n",
      "Name: prop, dtype: float64 \n",
      "\n",
      "0    276\n",
      "1     18\n",
      "Name: prop, dtype: int64 \n",
      "\n"
     ]
    }
   ],
   "source": [
    "#Check \"prop\" column\n",
    "col = \"prop\"\n",
    "print(df[col].describe(),\"\\n\")\n",
    "print(df[col].value_counts(),\"\\n\")"
   ]
  },
  {
   "cell_type": "code",
   "execution_count": 88,
   "id": "8ba22a06",
   "metadata": {},
   "outputs": [
    {
     "data": {
      "text/plain": [
       "[[1053,\n",
       "  ['trestbps',\n",
       "   'thalach',\n",
       "   'thalrest',\n",
       "   'tpeakbps',\n",
       "   'tpeakbpd',\n",
       "   'trestbpd',\n",
       "   'exang']],\n",
       " [1294, ['nitr', 'pro', 'thaldur']],\n",
       " [1029, ['thaldur']],\n",
       " [1172, ['met']],\n",
       " [5001, ['met']],\n",
       " [1249, ['rldv5']]]"
      ]
     },
     "execution_count": 88,
     "metadata": {},
     "output_type": "execute_result"
    }
   ],
   "source": [
    "nullData"
   ]
  },
  {
   "cell_type": "code",
   "execution_count": 89,
   "id": "d7674b2c",
   "metadata": {},
   "outputs": [],
   "source": [
    "#Dealing with thaldur missing value\n",
    "\"\"\"\n",
    "We have decided to use the mean, 10.5 minutes, for the missing values\n",
    "\"\"\"\n",
    "\n",
    "toRemove = []\n",
    "tag = False\n",
    "for i in range(0,len(nullData)):\n",
    "    for j in range(0,len(nullData[i][1])):\n",
    "        if nullData[i][1][j] == \"thaldur\":\n",
    "            row = df.loc[df[\"id\"] == nullData[i][0]].index.values\n",
    "            df.iloc[row[0],28] = 10.5\n",
    "            if len(nullData[i][1]) == 1:\n",
    "                toRemove.append(i)\n",
    "            else:\n",
    "                tag = True\n",
    "    if tag:\n",
    "        nullData[i][1].remove(\"thaldur\")\n",
    "        tag = False\n",
    "new = []\n",
    "for i in range(0,len(nullData)):\n",
    "    if i not in toRemove:\n",
    "        new.append(nullData[i])\n",
    "nullData = new"
   ]
  },
  {
   "cell_type": "code",
   "execution_count": 90,
   "id": "8c51ba77",
   "metadata": {},
   "outputs": [
    {
     "name": "stdout",
     "output_type": "stream",
     "text": [
      "count    294.000000\n",
      "mean      10.625850\n",
      "std        4.627357\n",
      "min        1.000000\n",
      "25%        7.000000\n",
      "50%       10.000000\n",
      "75%       13.000000\n",
      "max       24.000000\n",
      "Name: thaldur, dtype: float64 \n",
      "\n",
      "10.0    28\n",
      "9.0     27\n",
      "7.0     24\n",
      "11.0    23\n",
      "12.0    23\n",
      "13.0    23\n",
      "8.0     18\n",
      "14.0    16\n",
      "6.0     15\n",
      "18.0    15\n",
      "19.0    12\n",
      "5.0     10\n",
      "4.0      9\n",
      "2.0      8\n",
      "15.0     8\n",
      "3.0      7\n",
      "16.0     6\n",
      "20.0     6\n",
      "17.0     5\n",
      "10.5     2\n",
      "1.5      2\n",
      "6.5      1\n",
      "16.5     1\n",
      "21.0     1\n",
      "7.5      1\n",
      "24.0     1\n",
      "4.5      1\n",
      "1.0      1\n",
      "Name: thaldur, dtype: int64 \n",
      "\n"
     ]
    }
   ],
   "source": [
    "#Check \"thaldur\" column\n",
    "col = \"thaldur\"\n",
    "print(df[col].describe(),\"\\n\")\n",
    "print(df[col].value_counts(),\"\\n\")"
   ]
  },
  {
   "cell_type": "code",
   "execution_count": 91,
   "id": "1bf9603e",
   "metadata": {},
   "outputs": [
    {
     "data": {
      "text/plain": [
       "[[1053,\n",
       "  ['trestbps',\n",
       "   'thalach',\n",
       "   'thalrest',\n",
       "   'tpeakbps',\n",
       "   'tpeakbpd',\n",
       "   'trestbpd',\n",
       "   'exang']],\n",
       " [1294, ['nitr', 'pro']],\n",
       " [1172, ['met']],\n",
       " [5001, ['met']],\n",
       " [1249, ['rldv5']]]"
      ]
     },
     "execution_count": 91,
     "metadata": {},
     "output_type": "execute_result"
    }
   ],
   "source": [
    "nullData"
   ]
  },
  {
   "cell_type": "code",
   "execution_count": 92,
   "id": "d3def619",
   "metadata": {},
   "outputs": [],
   "source": [
    "#Dealing with met missing value\n",
    "\"\"\"\n",
    "We have decided to use the mean, 5.6, for the missing values\n",
    "\"\"\"\n",
    "\n",
    "toRemove = []\n",
    "tag = False\n",
    "for i in range(0,len(nullData)):\n",
    "    for j in range(0,len(nullData[i][1])):\n",
    "        if nullData[i][1][j] == \"met\":\n",
    "            row = df.loc[df[\"id\"] == nullData[i][0]].index.values\n",
    "            df.iloc[row[0],30] = 5.6\n",
    "            if len(nullData[i][1]) == 1:\n",
    "                toRemove.append(i)\n",
    "            else:\n",
    "                tag = True\n",
    "    if tag:\n",
    "        nullData[i][1].remove(\"met\")\n",
    "        tag = False\n",
    "new = []\n",
    "for i in range(0,len(nullData)):\n",
    "    if i not in toRemove:\n",
    "        new.append(nullData[i])\n",
    "nullData = new"
   ]
  },
  {
   "cell_type": "code",
   "execution_count": 93,
   "id": "b68fe5ec",
   "metadata": {},
   "outputs": [
    {
     "name": "stdout",
     "output_type": "stream",
     "text": [
      "count    294.000000\n",
      "mean       5.699660\n",
      "std        1.858097\n",
      "min        2.000000\n",
      "25%        5.000000\n",
      "50%        6.000000\n",
      "75%        7.000000\n",
      "max       11.000000\n",
      "Name: met, dtype: float64 \n",
      "\n",
      "5.0     68\n",
      "6.0     58\n",
      "7.0     56\n",
      "4.0     34\n",
      "9.0     27\n",
      "3.0     23\n",
      "2.0     13\n",
      "10.0     5\n",
      "8.0      3\n",
      "5.6      2\n",
      "6.3      2\n",
      "11.0     1\n",
      "7.5      1\n",
      "5.4      1\n",
      "Name: met, dtype: int64 \n",
      "\n"
     ]
    }
   ],
   "source": [
    "#Check \"met\" column\n",
    "col = \"met\"\n",
    "print(df[col].describe(),\"\\n\")\n",
    "print(df[col].value_counts(),\"\\n\")"
   ]
  },
  {
   "cell_type": "code",
   "execution_count": 94,
   "id": "8e4369b4",
   "metadata": {},
   "outputs": [
    {
     "data": {
      "text/plain": [
       "[[1053,\n",
       "  ['trestbps',\n",
       "   'thalach',\n",
       "   'thalrest',\n",
       "   'tpeakbps',\n",
       "   'tpeakbpd',\n",
       "   'trestbpd',\n",
       "   'exang']],\n",
       " [1294, ['nitr', 'pro']],\n",
       " [1249, ['rldv5']]]"
      ]
     },
     "execution_count": 94,
     "metadata": {},
     "output_type": "execute_result"
    }
   ],
   "source": [
    "nullData"
   ]
  },
  {
   "cell_type": "code",
   "execution_count": 95,
   "id": "c5e1c5e0",
   "metadata": {},
   "outputs": [],
   "source": [
    "#Dealing with rldv5 missing value\n",
    "\"\"\"\n",
    "We have decided to use the median, 13, for the missing values\n",
    "\"\"\"\n",
    "\n",
    "toRemove = []\n",
    "tag = False\n",
    "for i in range(0,len(nullData)):\n",
    "    for j in range(0,len(nullData[i][1])):\n",
    "        if nullData[i][1][j] == \"rldv5\":\n",
    "            row = df.loc[df[\"id\"] == nullData[i][0]].index.values\n",
    "            df.iloc[row[0],41] = 13\n",
    "            if len(nullData[i][1]) == 1:\n",
    "                toRemove.append(i)\n",
    "            else:\n",
    "                tag = True\n",
    "    if tag:\n",
    "        nullData[i][1].remove(\"rldv5\")\n",
    "        tag = False\n",
    "new = []\n",
    "for i in range(0,len(nullData)):\n",
    "    if i not in toRemove:\n",
    "        new.append(nullData[i])\n",
    "nullData = new"
   ]
  },
  {
   "cell_type": "code",
   "execution_count": 96,
   "id": "981b31a4",
   "metadata": {},
   "outputs": [
    {
     "name": "stdout",
     "output_type": "stream",
     "text": [
      "count    294.000000\n",
      "mean      13.680272\n",
      "std        5.572343\n",
      "min        3.000000\n",
      "25%       10.000000\n",
      "50%       13.000000\n",
      "75%       17.000000\n",
      "max       31.000000\n",
      "Name: rldv5, dtype: float64 \n",
      "\n",
      "10    27\n",
      "13    23\n",
      "14    23\n",
      "12    21\n",
      "15    19\n",
      "11    17\n",
      "17    15\n",
      "18    15\n",
      "9     15\n",
      "8     14\n",
      "20    12\n",
      "16    11\n",
      "7     10\n",
      "5      9\n",
      "4      9\n",
      "6      9\n",
      "22     7\n",
      "19     7\n",
      "24     7\n",
      "23     6\n",
      "21     6\n",
      "25     5\n",
      "28     2\n",
      "27     2\n",
      "26     1\n",
      "31     1\n",
      "3      1\n",
      "Name: rldv5, dtype: int64 \n",
      "\n"
     ]
    }
   ],
   "source": [
    "#Check \"rldv5\" column\n",
    "col = \"rldv5\"\n",
    "print(df[col].describe(),\"\\n\")\n",
    "print(df[col].value_counts(),\"\\n\")"
   ]
  },
  {
   "cell_type": "code",
   "execution_count": 97,
   "id": "53d945ee",
   "metadata": {},
   "outputs": [
    {
     "data": {
      "text/plain": [
       "[[1053,\n",
       "  ['trestbps',\n",
       "   'thalach',\n",
       "   'thalrest',\n",
       "   'tpeakbps',\n",
       "   'tpeakbpd',\n",
       "   'trestbpd',\n",
       "   'exang']],\n",
       " [1294, ['nitr', 'pro']]]"
      ]
     },
     "execution_count": 97,
     "metadata": {},
     "output_type": "execute_result"
    }
   ],
   "source": [
    "nullData"
   ]
  },
  {
   "cell_type": "code",
   "execution_count": 98,
   "id": "6177ddba",
   "metadata": {},
   "outputs": [
    {
     "data": {
      "text/plain": [
       "[1294, ['nitr', 'pro']]"
      ]
     },
     "execution_count": 98,
     "metadata": {},
     "output_type": "execute_result"
    }
   ],
   "source": [
    "#Dealing with nitr and pro missing values for 1294\n",
    "\"\"\"\n",
    "We have selected the mode for both attributes, 0.\n",
    "\"\"\"\n",
    "row = df.loc[df[\"id\"] == 1294].index.values\n",
    "df.iloc[row[0],24] = 0\n",
    "df.iloc[row[0],25] = 0\n",
    "\n",
    "nullData.pop()"
   ]
  },
  {
   "cell_type": "code",
   "execution_count": 99,
   "id": "cf869f9a",
   "metadata": {},
   "outputs": [
    {
     "name": "stdout",
     "output_type": "stream",
     "text": [
      "count    294.000000\n",
      "mean       0.095238\n",
      "std        0.294044\n",
      "min        0.000000\n",
      "25%        0.000000\n",
      "50%        0.000000\n",
      "75%        0.000000\n",
      "max        1.000000\n",
      "Name: nitr, dtype: float64 \n",
      "\n",
      "0    266\n",
      "1     28\n",
      "Name: nitr, dtype: int64 \n",
      "\n",
      "count    294.000000\n",
      "mean       0.081633\n",
      "std        0.274271\n",
      "min        0.000000\n",
      "25%        0.000000\n",
      "50%        0.000000\n",
      "75%        0.000000\n",
      "max        1.000000\n",
      "Name: pro, dtype: float64 \n",
      "\n",
      "0    270\n",
      "1     24\n",
      "Name: pro, dtype: int64 \n",
      "\n"
     ]
    }
   ],
   "source": [
    "#Checking nitr and pro attributes\n",
    "print(df[\"nitr\"].describe(),\"\\n\")\n",
    "print(df[\"nitr\"].value_counts(),\"\\n\")\n",
    "\n",
    "print(df[\"pro\"].describe(),\"\\n\")\n",
    "print(df[\"pro\"].value_counts(),\"\\n\")"
   ]
  },
  {
   "cell_type": "code",
   "execution_count": 100,
   "id": "94dca624",
   "metadata": {},
   "outputs": [
    {
     "data": {
      "text/plain": [
       "[[1053,\n",
       "  ['trestbps',\n",
       "   'thalach',\n",
       "   'thalrest',\n",
       "   'tpeakbps',\n",
       "   'tpeakbpd',\n",
       "   'trestbpd',\n",
       "   'exang']]]"
      ]
     },
     "execution_count": 100,
     "metadata": {},
     "output_type": "execute_result"
    }
   ],
   "source": [
    "nullData"
   ]
  },
  {
   "cell_type": "code",
   "execution_count": 101,
   "id": "7b8679e2",
   "metadata": {},
   "outputs": [
    {
     "name": "stdout",
     "output_type": "stream",
     "text": [
      "293\n"
     ]
    }
   ],
   "source": [
    "#Getting rid of 1053\n",
    "\"\"\"\n",
    "Since we have enough data, losing one instance is unlikely to affect us\n",
    "\"\"\"\n",
    "df = df[df.id != 1053]\n",
    "print(len(df))"
   ]
  },
  {
   "cell_type": "code",
   "execution_count": 102,
   "id": "b24345e9",
   "metadata": {},
   "outputs": [],
   "source": [
    "#Now drop all the columns we have decided to drop\n",
    "df = df.drop(drop, axis=1)"
   ]
  },
  {
   "cell_type": "code",
   "execution_count": 103,
   "id": "44cf2680",
   "metadata": {},
   "outputs": [
    {
     "name": "stdout",
     "output_type": "stream",
     "text": [
      "   age  sex  painloc  painexer  relrest  cp  trestbps  htn  chol  fbs  \\\n",
      "0   40    1        1         0        0   2       140    0   289    0   \n",
      "1   49    0        1         0        0   3       160    1   180    0   \n",
      "2   37    1        1         0        0   2       130    0   283    0   \n",
      "3   48    0        1         1        1   4       138    0   214    0   \n",
      "4   54    1        1         0        1   3       150    0   233    0   \n",
      "\n",
      "   restecg  prop  nitr  pro  thaldur  met  thalach  thalrest  tpeakbps  \\\n",
      "0        0     0     0    0     18.0  7.0      172        86       200   \n",
      "1        0     0     0    0     10.0  7.0      156       100       220   \n",
      "2        1     0     0    0     10.0  5.0       98        58       180   \n",
      "3        0     0     0    0      5.0  4.0      108        54       210   \n",
      "4        0     0     1    1      2.0  3.0      122        74       130   \n",
      "\n",
      "   tpeakbpd  trestbpd  exang  oldpeak  rldv5  rldv5e  num  \n",
      "0       110        86      0      0.0     26      20    0  \n",
      "1       106        90      0      1.0     14      13    1  \n",
      "2       100        80      0      0.0     17      14    0  \n",
      "3       106        86      1      1.5     19      22    3  \n",
      "4       100        90      0      0.0     13       9    0  \n"
     ]
    }
   ],
   "source": [
    "with pd.option_context(\"display.max_columns\", None): \n",
    "    print(df.head())"
   ]
  },
  {
   "cell_type": "code",
   "execution_count": 104,
   "id": "ecbdd6d6",
   "metadata": {},
   "outputs": [],
   "source": [
    "#Change the target column \"num\" to have only 0s or 1s\n",
    "df[\"num\"].replace([0, 1, 2, 3, 4],[0, 1, 1, 1, 1], inplace = True)"
   ]
  },
  {
   "cell_type": "code",
   "execution_count": 105,
   "id": "9640c15a",
   "metadata": {},
   "outputs": [
    {
     "data": {
      "text/html": [
       "<div>\n",
       "<style scoped>\n",
       "    .dataframe tbody tr th:only-of-type {\n",
       "        vertical-align: middle;\n",
       "    }\n",
       "\n",
       "    .dataframe tbody tr th {\n",
       "        vertical-align: top;\n",
       "    }\n",
       "\n",
       "    .dataframe thead th {\n",
       "        text-align: right;\n",
       "    }\n",
       "</style>\n",
       "<table border=\"1\" class=\"dataframe\">\n",
       "  <thead>\n",
       "    <tr style=\"text-align: right;\">\n",
       "      <th></th>\n",
       "      <th>age</th>\n",
       "      <th>sex</th>\n",
       "      <th>painloc</th>\n",
       "      <th>painexer</th>\n",
       "      <th>relrest</th>\n",
       "      <th>cp</th>\n",
       "      <th>trestbps</th>\n",
       "      <th>htn</th>\n",
       "      <th>chol</th>\n",
       "      <th>fbs</th>\n",
       "      <th>...</th>\n",
       "      <th>thalach</th>\n",
       "      <th>thalrest</th>\n",
       "      <th>tpeakbps</th>\n",
       "      <th>tpeakbpd</th>\n",
       "      <th>trestbpd</th>\n",
       "      <th>exang</th>\n",
       "      <th>oldpeak</th>\n",
       "      <th>rldv5</th>\n",
       "      <th>rldv5e</th>\n",
       "      <th>num</th>\n",
       "    </tr>\n",
       "  </thead>\n",
       "  <tbody>\n",
       "    <tr>\n",
       "      <th>0</th>\n",
       "      <td>40</td>\n",
       "      <td>1</td>\n",
       "      <td>1</td>\n",
       "      <td>0</td>\n",
       "      <td>0</td>\n",
       "      <td>2</td>\n",
       "      <td>140</td>\n",
       "      <td>0</td>\n",
       "      <td>289</td>\n",
       "      <td>0</td>\n",
       "      <td>...</td>\n",
       "      <td>172</td>\n",
       "      <td>86</td>\n",
       "      <td>200</td>\n",
       "      <td>110</td>\n",
       "      <td>86</td>\n",
       "      <td>0</td>\n",
       "      <td>0.0</td>\n",
       "      <td>26</td>\n",
       "      <td>20</td>\n",
       "      <td>0</td>\n",
       "    </tr>\n",
       "    <tr>\n",
       "      <th>1</th>\n",
       "      <td>49</td>\n",
       "      <td>0</td>\n",
       "      <td>1</td>\n",
       "      <td>0</td>\n",
       "      <td>0</td>\n",
       "      <td>3</td>\n",
       "      <td>160</td>\n",
       "      <td>1</td>\n",
       "      <td>180</td>\n",
       "      <td>0</td>\n",
       "      <td>...</td>\n",
       "      <td>156</td>\n",
       "      <td>100</td>\n",
       "      <td>220</td>\n",
       "      <td>106</td>\n",
       "      <td>90</td>\n",
       "      <td>0</td>\n",
       "      <td>1.0</td>\n",
       "      <td>14</td>\n",
       "      <td>13</td>\n",
       "      <td>1</td>\n",
       "    </tr>\n",
       "    <tr>\n",
       "      <th>2</th>\n",
       "      <td>37</td>\n",
       "      <td>1</td>\n",
       "      <td>1</td>\n",
       "      <td>0</td>\n",
       "      <td>0</td>\n",
       "      <td>2</td>\n",
       "      <td>130</td>\n",
       "      <td>0</td>\n",
       "      <td>283</td>\n",
       "      <td>0</td>\n",
       "      <td>...</td>\n",
       "      <td>98</td>\n",
       "      <td>58</td>\n",
       "      <td>180</td>\n",
       "      <td>100</td>\n",
       "      <td>80</td>\n",
       "      <td>0</td>\n",
       "      <td>0.0</td>\n",
       "      <td>17</td>\n",
       "      <td>14</td>\n",
       "      <td>0</td>\n",
       "    </tr>\n",
       "    <tr>\n",
       "      <th>3</th>\n",
       "      <td>48</td>\n",
       "      <td>0</td>\n",
       "      <td>1</td>\n",
       "      <td>1</td>\n",
       "      <td>1</td>\n",
       "      <td>4</td>\n",
       "      <td>138</td>\n",
       "      <td>0</td>\n",
       "      <td>214</td>\n",
       "      <td>0</td>\n",
       "      <td>...</td>\n",
       "      <td>108</td>\n",
       "      <td>54</td>\n",
       "      <td>210</td>\n",
       "      <td>106</td>\n",
       "      <td>86</td>\n",
       "      <td>1</td>\n",
       "      <td>1.5</td>\n",
       "      <td>19</td>\n",
       "      <td>22</td>\n",
       "      <td>1</td>\n",
       "    </tr>\n",
       "    <tr>\n",
       "      <th>4</th>\n",
       "      <td>54</td>\n",
       "      <td>1</td>\n",
       "      <td>1</td>\n",
       "      <td>0</td>\n",
       "      <td>1</td>\n",
       "      <td>3</td>\n",
       "      <td>150</td>\n",
       "      <td>0</td>\n",
       "      <td>233</td>\n",
       "      <td>0</td>\n",
       "      <td>...</td>\n",
       "      <td>122</td>\n",
       "      <td>74</td>\n",
       "      <td>130</td>\n",
       "      <td>100</td>\n",
       "      <td>90</td>\n",
       "      <td>0</td>\n",
       "      <td>0.0</td>\n",
       "      <td>13</td>\n",
       "      <td>9</td>\n",
       "      <td>0</td>\n",
       "    </tr>\n",
       "  </tbody>\n",
       "</table>\n",
       "<p>5 rows × 26 columns</p>\n",
       "</div>"
      ],
      "text/plain": [
       "   age  sex  painloc  painexer  relrest  cp  trestbps  htn  chol  fbs  ...  \\\n",
       "0   40    1        1         0        0   2       140    0   289    0  ...   \n",
       "1   49    0        1         0        0   3       160    1   180    0  ...   \n",
       "2   37    1        1         0        0   2       130    0   283    0  ...   \n",
       "3   48    0        1         1        1   4       138    0   214    0  ...   \n",
       "4   54    1        1         0        1   3       150    0   233    0  ...   \n",
       "\n",
       "   thalach  thalrest  tpeakbps  tpeakbpd  trestbpd  exang  oldpeak  rldv5  \\\n",
       "0      172        86       200       110        86      0      0.0     26   \n",
       "1      156       100       220       106        90      0      1.0     14   \n",
       "2       98        58       180       100        80      0      0.0     17   \n",
       "3      108        54       210       106        86      1      1.5     19   \n",
       "4      122        74       130       100        90      0      0.0     13   \n",
       "\n",
       "   rldv5e  num  \n",
       "0      20    0  \n",
       "1      13    1  \n",
       "2      14    0  \n",
       "3      22    1  \n",
       "4       9    0  \n",
       "\n",
       "[5 rows x 26 columns]"
      ]
     },
     "execution_count": 105,
     "metadata": {},
     "output_type": "execute_result"
    }
   ],
   "source": [
    "df.head()"
   ]
  },
  {
   "cell_type": "code",
   "execution_count": 106,
   "id": "89addb12",
   "metadata": {},
   "outputs": [
    {
     "name": "stdout",
     "output_type": "stream",
     "text": [
      "     num  sex  painloc\n",
      "0      0    1        1\n",
      "1      1    0        1\n",
      "2      0    1        1\n",
      "3      1    0        1\n",
      "4      0    1        1\n",
      "..   ...  ...      ...\n",
      "288    0    1        1\n",
      "290    0    1        1\n",
      "291    0    1        0\n",
      "292    0    0        0\n",
      "293    0    1        1\n",
      "\n",
      "[293 rows x 3 columns]\n"
     ]
    },
    {
     "data": {
      "image/png": "[encoded data removed]",
      "text/plain": [
       "<Figure size 432x288 with 1 Axes>"
      ]
     },
     "metadata": {
      "needs_background": "light"
     },
     "output_type": "display_data"
    },
    {
     "data": {
      "text/plain": [
       "<Figure size 288x288 with 0 Axes>"
      ]
     },
     "metadata": {},
     "output_type": "display_data"
    }
   ],
   "source": [
    "barDF = df[[\"num\",\"sex\",\"painloc\"]]\n",
    "print(barDF)\n",
    "melt = barDF.melt()\n",
    "crosstab = pd.crosstab(melt[\"variable\"], melt[\"value\"])\n",
    "\n",
    "ax = crosstab.plot(kind=\"bar\", stacked=False, xlabel = \"Feature\", ylabel=\"Count\", rot=0, color=['black', 'red'])\n",
    "ax.legend(bbox_to_anchor=(1.2, 1))\n",
    "\n",
    "plt.tight_layout()\n",
    "plt.figure(figsize=(4, 4))\n",
    "plt.show()"
   ]
  },
  {
   "cell_type": "code",
   "execution_count": 107,
   "id": "c25c8169",
   "metadata": {},
   "outputs": [
    {
     "name": "stdout",
     "output_type": "stream",
     "text": [
      "count    293.000000\n",
      "mean       0.361775\n",
      "std        0.481336\n",
      "min        0.000000\n",
      "25%        0.000000\n",
      "50%        0.000000\n",
      "75%        1.000000\n",
      "max        1.000000\n",
      "Name: num, dtype: float64 \n",
      "\n",
      "0    187\n",
      "1    106\n",
      "Name: num, dtype: int64 \n",
      "\n"
     ]
    },
    {
     "data": {
      "text/plain": [
       "'\\n0    188\\n1     37\\n3     28\\n2     26\\n4     15\\n'"
      ]
     },
     "execution_count": 107,
     "metadata": {},
     "output_type": "execute_result"
    }
   ],
   "source": [
    "#Check \"num\" column\n",
    "col = \"num\"\n",
    "print(df[col].describe(),\"\\n\")\n",
    "print(df[col].value_counts(),\"\\n\")\n",
    "\n",
    "\"\"\"\n",
    "0    188\n",
    "1     37\n",
    "3     28\n",
    "2     26\n",
    "4     15\n",
    "\"\"\""
   ]
  },
  {
   "cell_type": "code",
   "execution_count": 108,
   "id": "d41ffb14",
   "metadata": {},
   "outputs": [],
   "source": [
    "#Rename Columns"
   ]
  },
  {
   "cell_type": "code",
   "execution_count": 109,
   "id": "824971dd",
   "metadata": {},
   "outputs": [],
   "source": [
    "#Fill in missing values if empty with nulls (\"NA\" or \"NaN\")"
   ]
  },
  {
   "cell_type": "code",
   "execution_count": 110,
   "id": "55e62774",
   "metadata": {},
   "outputs": [
    {
     "data": {
      "text/plain": [
       "'\\nAlready Cleared\\n\\n    - age: all values between 28 and 66\\n    - cp: categorical data with no outliers (values between 1 and 4)\\n    - restecg: categorical data with no outliers (values between 1 and 2)\\n    \\n    -All others are boolean\\n    \\nNeeds Checking:\\n    - trestbps\\n    - chol\\n    - thaldur\\n    - met\\n    - thalach, thalrest, tpeakbps, tpeakbpd, trestbpd\\n    - oldpeak\\n    - rldv5 & rldv5e\\n'"
      ]
     },
     "execution_count": 110,
     "metadata": {},
     "output_type": "execute_result"
    }
   ],
   "source": [
    "#Deal with outliers, perhaps by removing them (box/whiskers plot)\n",
    "\"\"\"\n",
    "Already Cleared\n",
    "\n",
    "    - age: all values between 28 and 66\n",
    "    - cp: categorical data with no outliers (values between 1 and 4)\n",
    "    - restecg: categorical data with no outliers (values between 1 and 2)\n",
    "    \n",
    "    -All others are boolean\n",
    "    \n",
    "Needs Checking:\n",
    "    - trestbps\n",
    "    - chol\n",
    "    - thaldur\n",
    "    - met\n",
    "    - thalach, thalrest, tpeakbps, tpeakbpd, trestbpd\n",
    "    - oldpeak\n",
    "    - rldv5 & rldv5e\n",
    "\"\"\""
   ]
  },
  {
   "cell_type": "code",
   "execution_count": 111,
   "id": "f6a01b33",
   "metadata": {},
   "outputs": [
    {
     "data": {
      "image/png": "[encoded data removed]",
      "text/plain": [
       "<Figure size 432x288 with 3 Axes>"
      ]
     },
     "metadata": {
      "needs_background": "light"
     },
     "output_type": "display_data"
    }
   ],
   "source": [
    "fig, ax = plt.subplots(1,3)\n",
    "\n",
    "ax[0].boxplot(df[\"chol\"], whis=3, capprops = {\"linestyle\":\"-\", \"linewidth\":5, \"color\":\"black\"}, flierprops={\"marker\": \"o\", \"markersize\": 9, \"markerfacecolor\":\"yellow\"})\n",
    "ax[0].boxplot(df[\"chol\"], whis=1.5, capprops = {\"linestyle\":\"-\", \"linewidth\":2, \"color\":\"black\"}, flierprops={\"marker\": \"o\", \"markersize\": 5, \"markerfacecolor\": \"red\"})\n",
    "ax[0].set_title(\"chol\")\n",
    "\n",
    "ax[1].boxplot(df[\"trestbps\"], whis=3, capprops = {\"linestyle\":\"-\", \"linewidth\":5, \"color\":\"black\"}, flierprops={\"marker\": \"o\", \"markersize\": 9, \"markerfacecolor\":\"yellow\"})\n",
    "ax[1].boxplot(df[\"trestbps\"], whis=1.5, capprops = {\"linestyle\":\"-\", \"linewidth\":2, \"color\":\"black\"}, flierprops={\"marker\": \"o\", \"markersize\": 5, \"markerfacecolor\": \"red\"})\n",
    "ax[1].set_title(\"trestbps\")\n",
    "\n",
    "ax[2].boxplot(df[\"oldpeak\"], whis=3, capprops = {\"linestyle\":\"-\", \"linewidth\":5, \"color\":\"black\"}, flierprops={\"marker\": \"o\", \"markersize\": 9, \"markerfacecolor\":\"yellow\"})\n",
    "ax[2].boxplot(df[\"oldpeak\"], whis=1.5, capprops = {\"linestyle\":\"-\", \"linewidth\":2, \"color\":\"black\"}, flierprops={\"marker\": \"o\", \"markersize\": 5, \"markerfacecolor\": \"red\"})\n",
    "ax[2].set_title(\"oldpeak\")\n",
    "\n",
    "plt.subplots_adjust(wspace=0.4)\n",
    "plt.show()"
   ]
  },
  {
   "cell_type": "code",
   "execution_count": null,
   "id": "20ab14f5",
   "metadata": {},
   "outputs": [],
   "source": [
    "\n"
   ]
  },
  {
   "cell_type": "code",
   "execution_count": 112,
   "id": "481262ac",
   "metadata": {},
   "outputs": [
    {
     "name": "stdout",
     "output_type": "stream",
     "text": [
      "count    293.000000\n",
      "mean     132.583618\n",
      "std       17.626568\n",
      "min       92.000000\n",
      "25%      120.000000\n",
      "50%      130.000000\n",
      "75%      140.000000\n",
      "max      200.000000\n",
      "Name: trestbps, dtype: float64 \n",
      "\n",
      "     age  sex  painloc  painexer  relrest  cp  trestbps  htn  chol  fbs  ...  \\\n",
      "109   39    1        1         0        0   2       190    0   241    0  ...   \n",
      "123   58    0        1         0        0   2       180    0   393    0  ...   \n",
      "190   53    1        1         1        1   4       180    1   285    0  ...   \n",
      "191   46    1        1         1        1   4       180    1   280    0  ...   \n",
      "242   54    1        1         1        1   4       200    1   198    0  ...   \n",
      "275   45    0        0         0        0   2       180    0   234    0  ...   \n",
      "276   59    1        1         0        1   3       180    1   213    0  ...   \n",
      "279   57    0        1         1        1   4       180    0   347    0  ...   \n",
      "\n",
      "     thalach  thalrest  tpeakbps  tpeakbpd  trestbpd  exang  oldpeak  rldv5  \\\n",
      "109      106        90       190       100       100      0      0.0     18   \n",
      "123      110        78       220       110        90      1      1.0     13   \n",
      "190      120        67       210       108       100      1      1.5     15   \n",
      "191      120        67       210       108       100      0      0.0     17   \n",
      "242      142        90       170       100       100      1      2.0     15   \n",
      "275      180       110       120        80        80      0      0.0      9   \n",
      "276      100        60       200       110       100      0      0.0     21   \n",
      "279      126        98       180       105       105      1      0.8     16   \n",
      "\n",
      "     rldv5e  num  \n",
      "109      18    0  \n",
      "123       6    1  \n",
      "190      15    1  \n",
      "191      13    0  \n",
      "242      14    1  \n",
      "275       7    0  \n",
      "276      18    0  \n",
      "279      19    0  \n",
      "\n",
      "[8 rows x 26 columns]\n"
     ]
    },
    {
     "data": {
      "text/plain": [
       "\"\\n    - We have decided against removing these outliers or imputing them because higher blood pressures correlate strongly to \\n    heart problems\\n    - These figures are possible figures and aren't certainly misinputs \\n\""
      ]
     },
     "execution_count": 112,
     "metadata": {},
     "output_type": "execute_result"
    }
   ],
   "source": [
    "#Check outliers for trestbps\n",
    "col = \"trestbps\"\n",
    "print(df[col].describe(),\"\\n\")\n",
    "\n",
    "\"\"\"\n",
    "    - IQR = UQ - LQ = 140 - 120 = 20\n",
    "    - LF = LQ - 1.5(IQR) = 120 - 1.5(20) = 90, min value of 92 so no outliers here\n",
    "    - UF = UQ + 1.5(IQR) = 140 + 1.5(20) = 170, some outliers here since max is 200\n",
    "\"\"\"\n",
    "\n",
    "print(df.loc[df[col] > 170])\n",
    "\n",
    "\"\"\"\n",
    "    - We have decided against removing these outliers or imputing them because higher blood pressures correlate strongly to \n",
    "    heart problems\n",
    "    - These figures are possible figures and aren't certainly misinputs \n",
    "\"\"\""
   ]
  },
  {
   "cell_type": "code",
   "execution_count": 113,
   "id": "3a7688a7",
   "metadata": {},
   "outputs": [
    {
     "name": "stdout",
     "output_type": "stream",
     "text": [
      "count    293.000000\n",
      "mean     249.303754\n",
      "std       65.137157\n",
      "min       85.000000\n",
      "25%      211.000000\n",
      "50%      237.000000\n",
      "75%      277.000000\n",
      "max      603.000000\n",
      "Name: chol, dtype: float64 \n",
      "\n",
      "     age  sex  painloc  painexer  relrest  cp  trestbps  htn  chol  fbs  ...  \\\n",
      "28    53    0        1         0        0   2       113    0   468    0  ...   \n",
      "30    53    1        1         1        0   3       145    1   518    0  ...   \n",
      "69    44    1        1         1        1   4       150    1   412    0  ...   \n",
      "76    32    1        1         1        1   4       118    0   529    0  ...   \n",
      "102   40    0        1         1        1   4       150    1   392    0  ...   \n",
      "103   40    1        1         1        1   4       120    0   466    0  ...   \n",
      "123   58    0        1         0        0   2       180    0   393    0  ...   \n",
      "132   56    1        1         1        1   4       170    1   388    0  ...   \n",
      "149   54    1        1         1        1   4       130    1   603    1  ...   \n",
      "183   52    1        1         1        1   4       140    0   404    0  ...   \n",
      "251   44    1        1         1        1   4       135    1   491    0  ...   \n",
      "257   55    0        0         0        0   2       130    1   394    0  ...   \n",
      "\n",
      "     thalach  thalrest  tpeakbps  tpeakbpd  trestbpd  exang  oldpeak  rldv5  \\\n",
      "28       127        85       170       100        80      0      0.0      9   \n",
      "30       130        64       230       115        90      0      0.0     15   \n",
      "69       170        90       230       110       100      0      0.0      5   \n",
      "76       130        74       180        70        70      0      0.0     28   \n",
      "102      130        92       200       100        80      0      2.0     24   \n",
      "103      152        70       200        98        80      1      1.0     16   \n",
      "123      110        78       220       110        90      1      1.0     13   \n",
      "132      122       100       190       110        98      1      2.0     19   \n",
      "149      125        68       160        90        80      1      1.0      4   \n",
      "183      124        78       170        80        80      1      2.0      3   \n",
      "251      135        93       220       115        95      0      0.0     10   \n",
      "257      150       100       200       100        90      0      0.0      4   \n",
      "\n",
      "     rldv5e  num  \n",
      "28       10    0  \n",
      "30       12    1  \n",
      "69        5    0  \n",
      "76       28    1  \n",
      "102      20    1  \n",
      "103      11    1  \n",
      "123       6    1  \n",
      "132      19    1  \n",
      "149       3    1  \n",
      "183       5    1  \n",
      "251      11    1  \n",
      "257       5    0  \n",
      "\n",
      "[12 rows x 26 columns]\n"
     ]
    },
    {
     "data": {
      "text/plain": [
       "\"\\n    - We have decided against removing these outliers or imputing them because higher cholesterol levels strongly correlate \\n    to heart problems by directly narrowing major blood vessels of the heart (it is a key estimator)\\n    - These figures are possible figures and aren't certainly misinputs \\n\""
      ]
     },
     "execution_count": 113,
     "metadata": {},
     "output_type": "execute_result"
    }
   ],
   "source": [
    "#Check outliers for chol\n",
    "col = \"chol\"\n",
    "print(df[col].describe(),\"\\n\")\n",
    "\n",
    "\"\"\"\n",
    "    - IQR = UQ - LQ = 277 - 211 = 66\n",
    "    - LF = LQ - 1.5(IQR) = 211 - 1.5(66) = 112 \n",
    "    - UF = UQ + 1.5(IQR) = 277 + 1.5(66) = 376 \n",
    "    \n",
    "\"\"\"\n",
    "\n",
    "print(df.loc[df[col] > 376])\n",
    "\n",
    "\"\"\"\n",
    "    - We have decided against removing these outliers or imputing them because higher cholesterol levels strongly correlate \n",
    "    to heart problems by directly narrowing major blood vessels of the heart (it is a key estimator)\n",
    "    - These figures are possible figures and aren't certainly misinputs \n",
    "\"\"\""
   ]
  },
  {
   "cell_type": "code",
   "execution_count": 114,
   "id": "a0af6580",
   "metadata": {},
   "outputs": [
    {
     "name": "stdout",
     "output_type": "stream",
     "text": [
      "count    293.000000\n",
      "mean      10.624573\n",
      "std        4.635222\n",
      "min        1.000000\n",
      "25%        7.000000\n",
      "50%       10.000000\n",
      "75%       13.000000\n",
      "max       24.000000\n",
      "Name: thaldur, dtype: float64 \n",
      "\n",
      "     age  sex  painloc  painexer  relrest  cp  trestbps  htn  chol  fbs  ...  \\\n",
      "119   34    1        0         0        0   1       140    0   156    0  ...   \n",
      "\n",
      "     thalach  thalrest  tpeakbps  tpeakbpd  trestbpd  exang  oldpeak  rldv5  \\\n",
      "119      180        76       200        90        90      0      0.0     22   \n",
      "\n",
      "     rldv5e  num  \n",
      "119      22    1  \n",
      "\n",
      "[1 rows x 26 columns]\n"
     ]
    }
   ],
   "source": [
    "#Check outliers for thaldur\n",
    "col = \"thaldur\"\n",
    "print(df[col].describe(),\"\\n\")\n",
    "\n",
    "\"\"\"\n",
    "    - IQR = UQ - LQ = 13 - 7 = 6\n",
    "    - LF = LQ - 1.5(IQR) = 7 - 1.5(6) < 0 so all good here \n",
    "    - UF = UQ + 1.5(IQR) = 13 + 1.5(6) = 21 \n",
    "    \n",
    "\"\"\"\n",
    "\n",
    "print(df.loc[df[col] > 21])\n",
    "\n",
    "\"\"\"\n",
    "    - We have decided to remove this as it is just one instance\n",
    "\"\"\"\n",
    "remove = [119]"
   ]
  },
  {
   "cell_type": "code",
   "execution_count": 115,
   "id": "32dd0dc8",
   "metadata": {},
   "outputs": [
    {
     "name": "stdout",
     "output_type": "stream",
     "text": [
      "count    293.000000\n",
      "mean       5.698635\n",
      "std        1.861193\n",
      "min        2.000000\n",
      "25%        5.000000\n",
      "50%        6.000000\n",
      "75%        7.000000\n",
      "max       11.000000\n",
      "Name: met, dtype: float64 \n",
      "\n",
      "    age  sex  painloc  painexer  relrest  cp  trestbps  htn  chol  fbs  ...  \\\n",
      "25   36    1        1         0        1   3       130    0   209    0  ...   \n",
      "\n",
      "    thalach  thalrest  tpeakbps  tpeakbpd  trestbpd  exang  oldpeak  rldv5  \\\n",
      "25      178        74       200        90        80      0      0.0     23   \n",
      "\n",
      "    rldv5e  num  \n",
      "25      20    0  \n",
      "\n",
      "[1 rows x 26 columns]\n"
     ]
    }
   ],
   "source": [
    "#Check outliers for met\n",
    "col = \"met\"\n",
    "print(df[col].describe(),\"\\n\")\n",
    "\n",
    "\"\"\"\n",
    "    - IQR = UQ - LQ = 7 - 5 = 2\n",
    "    - LF = LQ - 1.5(IQR) = 5 - 1.5(2) = 2 \n",
    "    - UF = UQ + 1.5(IQR) = 7 + 1.5(2) = 10\n",
    "    \n",
    "\"\"\"\n",
    "\n",
    "print(df.loc[df[col] > 10])\n",
    "\n",
    "\"\"\"\n",
    "    - We have decided to remove this as it is just one instance\n",
    "\"\"\"\n",
    "remove.append(25)"
   ]
  },
  {
   "cell_type": "code",
   "execution_count": 116,
   "id": "36f1dca3",
   "metadata": {},
   "outputs": [
    {
     "name": "stdout",
     "output_type": "stream",
     "text": [
      "count    293.000000\n",
      "mean     139.129693\n",
      "std       23.589749\n",
      "min       82.000000\n",
      "25%      122.000000\n",
      "50%      140.000000\n",
      "75%      155.000000\n",
      "max      190.000000\n",
      "Name: thalach, dtype: float64 \n",
      "\n"
     ]
    },
    {
     "data": {
      "text/plain": [
       "'\\n    - No outliers present\\n'"
      ]
     },
     "execution_count": 116,
     "metadata": {},
     "output_type": "execute_result"
    }
   ],
   "source": [
    "#Check outliers for thalach\n",
    "col = \"thalach\"\n",
    "print(df[col].describe(),\"\\n\")\n",
    "\n",
    "\"\"\"\n",
    "    - IQR = UQ - LQ = 155 - 122 = 33\n",
    "    - LF = LQ - 1.5(IQR) = 122 - 1.5(33) = 72.5\n",
    "    - UF = UQ + 1.5(IQR) = 155 + 1.5(33) = 204.5\n",
    "    \n",
    "\"\"\"\n",
    "\n",
    "#print(df.loc[df[col] > 10])\n",
    "\n",
    "\"\"\"\n",
    "    - No outliers present\n",
    "\"\"\""
   ]
  },
  {
   "cell_type": "code",
   "execution_count": 117,
   "id": "66cee42d",
   "metadata": {},
   "outputs": [
    {
     "name": "stdout",
     "output_type": "stream",
     "text": [
      "count    293.000000\n",
      "mean      81.034130\n",
      "std       15.534943\n",
      "min       46.000000\n",
      "25%       70.000000\n",
      "50%       80.000000\n",
      "75%       92.000000\n",
      "max      134.000000\n",
      "Name: thalrest, dtype: float64 \n",
      "\n",
      "    age  sex  painloc  painexer  relrest  cp  trestbps  htn  chol  fbs  ...  \\\n",
      "48   36    1        1         0        0   3       112    0   340    0  ...   \n",
      "\n",
      "    thalach  thalrest  tpeakbps  tpeakbpd  trestbpd  exang  oldpeak  rldv5  \\\n",
      "48      184       134       150        82        70      0      1.0     24   \n",
      "\n",
      "    rldv5e  num  \n",
      "48      28    0  \n",
      "\n",
      "[1 rows x 26 columns]\n"
     ]
    }
   ],
   "source": [
    "#Check outliers for thalrest\n",
    "col = \"thalrest\"\n",
    "print(df[col].describe(),\"\\n\")\n",
    "\n",
    "\"\"\"\n",
    "    - IQR = UQ - LQ = 92 - 70 = 22\n",
    "    - LF = LQ - 1.5(IQR) = 70 - 1.5(22) = 37\n",
    "    - UF = UQ + 1.5(IQR) = 92 + 1.5(22) = 125\n",
    "    \n",
    "\"\"\"\n",
    "\n",
    "print(df.loc[df[col] > 125])\n",
    "\n",
    "\"\"\"\n",
    "    - We have decided to remove this as it is just one instance\n",
    "\"\"\"\n",
    "remove.append(48)"
   ]
  },
  {
   "cell_type": "code",
   "execution_count": 118,
   "id": "4e8bf3d7",
   "metadata": {},
   "outputs": [
    {
     "name": "stdout",
     "output_type": "stream",
     "text": [
      "count    293.000000\n",
      "mean     181.279863\n",
      "std       25.615776\n",
      "min      120.000000\n",
      "25%      160.000000\n",
      "50%      180.000000\n",
      "75%      200.000000\n",
      "max      240.000000\n",
      "Name: tpeakbps, dtype: float64 \n",
      "\n"
     ]
    },
    {
     "data": {
      "text/plain": [
       "'\\n    - No outliers\\n'"
      ]
     },
     "execution_count": 118,
     "metadata": {},
     "output_type": "execute_result"
    }
   ],
   "source": [
    "#Check outliers for tpeakbps\n",
    "col = \"tpeakbps\"\n",
    "print(df[col].describe(),\"\\n\")\n",
    "\n",
    "\"\"\"\n",
    "    - IQR = UQ - LQ = 200 - 160 = 40\n",
    "    - LF = LQ - 1.5(IQR) = 160 - 1.5(40) = 100\n",
    "    - UF = UQ + 1.5(IQR) = 200 + 1.5(40) = 260\n",
    "    \n",
    "\"\"\"\n",
    "\n",
    "#print(df.loc[df[col] > 125])\n",
    "\n",
    "\"\"\"\n",
    "    - No outliers\n",
    "\"\"\"\n"
   ]
  },
  {
   "cell_type": "code",
   "execution_count": 119,
   "id": "c72cae41",
   "metadata": {},
   "outputs": [
    {
     "name": "stdout",
     "output_type": "stream",
     "text": [
      "count    293.000000\n",
      "mean      95.713311\n",
      "std       12.369859\n",
      "min       60.000000\n",
      "25%       90.000000\n",
      "50%       95.000000\n",
      "75%      100.000000\n",
      "max      134.000000\n",
      "Name: tpeakbpd, dtype: float64 \n",
      "\n",
      "     age  sex  painloc  painexer  relrest  cp  trestbps  htn  chol  fbs  ...  \\\n",
      "7     54    1        1         0        0   2       110    0   208    0  ...   \n",
      "49    41    1        1         1        1   4       110    0   289    0  ...   \n",
      "76    32    1        1         1        1   4       118    0   529    0  ...   \n",
      "80    55    1        1         0        1   3       110    1   277    0  ...   \n",
      "107   34    1        1         0        0   2       150    0   214    0  ...   \n",
      "151   48    1        1         0        0   2       100    0   237    0  ...   \n",
      "162   47    1        1         0        0   2       160    0   263    0  ...   \n",
      "234   41    1        1         1        1   4       112    0   250    0  ...   \n",
      "\n",
      "     thalach  thalrest  tpeakbps  tpeakbpd  trestbpd  exang  oldpeak  rldv5  \\\n",
      "7        142        56       220        70        70      0      0.0     11   \n",
      "49       170        92       200        70        70      0      0.0     11   \n",
      "76       130        74       180        70        70      0      0.0     28   \n",
      "80       160        60       190        70        70      0      0.0     14   \n",
      "107      168        98       200        60        90      0      0.0     10   \n",
      "151      100        57       130        70        70      0      0.0     13   \n",
      "162      174        72       196        70        80      0      0.0     23   \n",
      "234      142        90       150        74        78      0      0.0     10   \n",
      "\n",
      "     rldv5e  num  \n",
      "7        11    0  \n",
      "49       13    1  \n",
      "76       28    1  \n",
      "80       16    0  \n",
      "107       5    0  \n",
      "151      11    0  \n",
      "162      20    0  \n",
      "234       7    0  \n",
      "\n",
      "[8 rows x 26 columns]\n"
     ]
    },
    {
     "data": {
      "text/plain": [
       "'\\n    - Lots of outliers but we dont want to remove all of them and lose a significant amount of data, and we dont want to impute\\n    them to the median because we believe these values are not mis inputs, and together with tpeakbps (s for systolic, d for\\n    diastolic) they can be used to determine healthy heart function or not\\n'"
      ]
     },
     "execution_count": 119,
     "metadata": {},
     "output_type": "execute_result"
    }
   ],
   "source": [
    "#Check outliers for tpeakbpd\n",
    "col = \"tpeakbpd\"\n",
    "print(df[col].describe(),\"\\n\")\n",
    "\n",
    "\"\"\"\n",
    "    - IQR = UQ - LQ = 100 - 90 = 10\n",
    "    - LF = LQ - 1.5(IQR) = 90 - 1.5(10) = 75\n",
    "    - UF = UQ + 1.5(IQR) = 100 + 1.5(10) = 115\n",
    "    \n",
    "\"\"\"\n",
    "\n",
    "print(df.loc[df[col] < 75])\n",
    "\n",
    "\"\"\"\n",
    "    - Lots of outliers but we dont want to remove all of them and lose a significant amount of data, and we dont want to impute\n",
    "    them to the median because we believe these values are not mis inputs, and together with tpeakbps (s for systolic, d for\n",
    "    diastolic) they can be used to determine healthy heart function or not\n",
    "\"\"\""
   ]
  },
  {
   "cell_type": "code",
   "execution_count": 120,
   "id": "d0d084a9",
   "metadata": {},
   "outputs": [
    {
     "name": "stdout",
     "output_type": "stream",
     "text": [
      "count    293.000000\n",
      "mean      84.395904\n",
      "std        9.267722\n",
      "min       50.000000\n",
      "25%       80.000000\n",
      "50%       80.000000\n",
      "75%       90.000000\n",
      "max      110.000000\n",
      "Name: trestbpd, dtype: float64 \n",
      "\n",
      "     age  sex  painloc  painexer  relrest  cp  trestbps  htn  chol  fbs  ...  \\\n",
      "142   47    1        1         1        1   4       160    1   291    0  ...   \n",
      "243   55    1        1         0        0   2       160    1   292    1  ...   \n",
      "266   54    1        1         0        0   2       160    1   305    0  ...   \n",
      "\n",
      "     thalach  thalrest  tpeakbps  tpeakbpd  trestbpd  exang  oldpeak  rldv5  \\\n",
      "142      158        86       140        82       106      1      3.0     20   \n",
      "243      143        96       200       120       110      1      2.0     12   \n",
      "266      175       100       210       110       110      0      0.0      6   \n",
      "\n",
      "     rldv5e  num  \n",
      "142      17    1  \n",
      "243      17    1  \n",
      "266       7    0  \n",
      "\n",
      "[3 rows x 26 columns]\n"
     ]
    },
    {
     "data": {
      "text/plain": [
       "'\\n    - A few outliers but we dont want to remove them and lose data, and we dont want to impute\\n    them to the median because we believe these values are not mis inputs. These are possible values of blood pressure that\\n    we want our models to account for\\n'"
      ]
     },
     "execution_count": 120,
     "metadata": {},
     "output_type": "execute_result"
    }
   ],
   "source": [
    "#Check outliers for trestbpd\n",
    "col = \"trestbpd\"\n",
    "print(df[col].describe(),\"\\n\")\n",
    "\n",
    "\"\"\"\n",
    "    - IQR = UQ - LQ = 90 - 80 = 10\n",
    "    - LF = LQ - 1.5(IQR) = 80 - 1.5(10) = 65\n",
    "    - UF = UQ + 1.5(IQR) = 90 + 1.5(10) = 105\n",
    "    \n",
    "\"\"\"\n",
    "\n",
    "print(df.loc[df[col] > 105])\n",
    "\n",
    "\"\"\"\n",
    "    - A few outliers but we dont want to remove them and lose data, and we dont want to impute\n",
    "    them to the median because we believe these values are not mis inputs. These are possible values of blood pressure that\n",
    "    we want our models to account for\n",
    "\"\"\""
   ]
  },
  {
   "cell_type": "code",
   "execution_count": 121,
   "id": "aaaf38af",
   "metadata": {},
   "outputs": [
    {
     "name": "stdout",
     "output_type": "stream",
     "text": [
      "count    293.000000\n",
      "mean       0.581229\n",
      "std        0.906421\n",
      "min        0.000000\n",
      "25%        0.000000\n",
      "50%        0.000000\n",
      "75%        1.000000\n",
      "max        5.000000\n",
      "Name: oldpeak, dtype: float64 \n",
      "\n",
      "     age  sex  painloc  painexer  relrest  cp  trestbps  htn  chol  fbs  ...  \\\n",
      "19    36    1        1         0        0   2       120    0   267    0  ...   \n",
      "23    44    1        1         0        0   2       150    0   288    0  ...   \n",
      "26    53    1        1         1        1   4       124    0   260    0  ...   \n",
      "68    52    1        1         1        1   4       160    1   246    0  ...   \n",
      "111   57    1        1         1        1   4       150    1   255    0  ...   \n",
      "142   47    1        1         1        1   4       160    1   291    0  ...   \n",
      "155   56    1        1         1        1   4       155    1   342    1  ...   \n",
      "167   50    1        1         1        1   4       140    0   231    0  ...   \n",
      "237   41    1        1         1        1   4       120    1   336    0  ...   \n",
      "240   48    1        1         1        1   4       160    1   193    0  ...   \n",
      "273   55    1        1         1        1   4       140    1   201    0  ...   \n",
      "\n",
      "     thalach  thalrest  tpeakbps  tpeakbpd  trestbpd  exang  oldpeak  rldv5  \\\n",
      "19       160        82       170        82        80      0      3.0     13   \n",
      "23       150        64       170        95       100      1      3.0     27   \n",
      "26       112        84       150        80        80      1      3.0      7   \n",
      "68        82        60       160        80        80      1      4.0     10   \n",
      "111       92        64       170       100       100      1      3.0     17   \n",
      "142      158        86       140        82       106      1      3.0     20   \n",
      "155      150        90       220       110       100      1      3.0     14   \n",
      "167      140        65       170       105        80      1      5.0     23   \n",
      "237      118       102       160        90        80      1      3.0     12   \n",
      "240      102        81       160        95        95      1      3.0     15   \n",
      "273      130        98       210       105        80      1      3.0     10   \n",
      "\n",
      "     rldv5e  num  \n",
      "19        9    1  \n",
      "23       25    1  \n",
      "26        7    0  \n",
      "68       10    1  \n",
      "111      18    1  \n",
      "142      17    1  \n",
      "155       4    1  \n",
      "167      27    1  \n",
      "237      10    1  \n",
      "240      15    1  \n",
      "273      15    1  \n",
      "\n",
      "[11 rows x 26 columns]\n"
     ]
    },
    {
     "data": {
      "text/plain": [
       "\"\\n    - A lot of outliers present above 2.5, but these are possible values and large ST dperessions relative to rest can be a sign\\n    of myocardial ischemia. We won't be removing these\\n\""
      ]
     },
     "execution_count": 121,
     "metadata": {},
     "output_type": "execute_result"
    }
   ],
   "source": [
    "#Check outliers for oldpeak\n",
    "col = \"oldpeak\"\n",
    "print(df[col].describe(),\"\\n\")\n",
    "\n",
    "\"\"\"\n",
    "    - IQR = UQ - LQ = 1 - 0 = 1\n",
    "    - LF = LQ - 1.5(IQR) = 0 - 1.5(1) < 0 so no outliers\n",
    "    - UF = UQ + 1.5(IQR) = 1 + 1.5(1) = 2.5\n",
    "    \n",
    "\"\"\"\n",
    "\n",
    "print(df.loc[df[col] > 2.5])\n",
    "\n",
    "\"\"\"\n",
    "    - A lot of outliers present above 2.5, but these are possible values and large ST dperessions relative to rest can be a sign\n",
    "    of myocardial ischemia. We won't be removing these\n",
    "\"\"\""
   ]
  },
  {
   "cell_type": "code",
   "execution_count": 122,
   "id": "8353075f",
   "metadata": {},
   "outputs": [
    {
     "name": "stdout",
     "output_type": "stream",
     "text": [
      "count    293.000000\n",
      "mean      13.672355\n",
      "std        5.580220\n",
      "min        3.000000\n",
      "25%       10.000000\n",
      "50%       13.000000\n",
      "75%       17.000000\n",
      "max       31.000000\n",
      "Name: rldv5, dtype: float64 \n",
      "\n",
      "     age  sex  painloc  painexer  relrest  cp  trestbps  htn  chol  fbs  ...  \\\n",
      "50    50    1        1         1        1   4       130    0   233    0  ...   \n",
      "76    32    1        1         1        1   4       118    0   529    0  ...   \n",
      "137   39    1        1         0        0   2       120    0   231    0  ...   \n",
      "\n",
      "     thalach  thalrest  tpeakbps  tpeakbpd  trestbpd  exang  oldpeak  rldv5  \\\n",
      "50       121        98       170       100        90      1      2.0     31   \n",
      "76       130        74       180        70        70      0      0.0     28   \n",
      "137      146        84       210       100        80      0      2.0     28   \n",
      "\n",
      "     rldv5e  num  \n",
      "50       26    1  \n",
      "76       28    1  \n",
      "137      30    0  \n",
      "\n",
      "[3 rows x 26 columns]\n"
     ]
    }
   ],
   "source": [
    "#Check outliers for rldv5\n",
    "col = \"rldv5\"\n",
    "print(df[col].describe(),\"\\n\")\n",
    "\n",
    "\"\"\"\n",
    "    - IQR = UQ - LQ = 17 - 10 = 7\n",
    "    - LF = LQ - 1.5(IQR) = 10 - 1.5(7) < 0 so no outliers\n",
    "    - UF = UQ + 1.5(IQR) = 17 + 1.5(7) = 27.5\n",
    "    \n",
    "\"\"\"\n",
    "\n",
    "print(df.loc[df[col] > 27.5])\n"
   ]
  },
  {
   "cell_type": "code",
   "execution_count": 123,
   "id": "b04b4578",
   "metadata": {},
   "outputs": [
    {
     "name": "stdout",
     "output_type": "stream",
     "text": [
      "count    293.000000\n",
      "mean      13.296928\n",
      "std        5.354926\n",
      "min        2.000000\n",
      "25%        9.000000\n",
      "50%       13.000000\n",
      "75%       17.000000\n",
      "max       30.000000\n",
      "Name: rldv5e, dtype: float64 \n",
      "\n",
      "     age  sex  painloc  painexer  relrest  cp  trestbps  htn  chol  fbs  ...  \\\n",
      "137   39    1        1         0        0   2       120    0   231    0  ...   \n",
      "\n",
      "     thalach  thalrest  tpeakbps  tpeakbpd  trestbpd  exang  oldpeak  rldv5  \\\n",
      "137      146        84       210       100        80      0      2.0     28   \n",
      "\n",
      "     rldv5e  num  \n",
      "137      30    0  \n",
      "\n",
      "[1 rows x 26 columns]\n"
     ]
    }
   ],
   "source": [
    "#Check outliers for rldv5e\n",
    "col = \"rldv5e\"\n",
    "print(df[col].describe(),\"\\n\")\n",
    "\n",
    "\"\"\"\n",
    "    - IQR = UQ - LQ = 17 - 9 = 8\n",
    "    - LF = LQ - 1.5(IQR) = 9 - 1.5(8) < 0 so no outliers\n",
    "    - UF = UQ + 1.5(IQR) = 17 + 1.5(8) = 29\n",
    "    \n",
    "\"\"\"\n",
    "\n",
    "print(df.loc[df[col] > 29])\n",
    "\n",
    "\"\"\"\n",
    "    - In combination with rldv5 above, we have decided to remove just subject 137, keeping the rest to avoid too much skew \n",
    "    towards the outliers\n",
    "\"\"\"\n",
    "remove.append(137)"
   ]
  },
  {
   "cell_type": "code",
   "execution_count": 124,
   "id": "8f326302",
   "metadata": {},
   "outputs": [
    {
     "name": "stdout",
     "output_type": "stream",
     "text": [
      "[119, 25, 48, 137]\n",
      "293\n",
      "289\n"
     ]
    }
   ],
   "source": [
    "print(remove)\n",
    "print(len(df))\n",
    "df = df.drop(remove)\n",
    "print(len(df))"
   ]
  },
  {
   "cell_type": "code",
   "execution_count": 125,
   "id": "5d384ec1",
   "metadata": {},
   "outputs": [],
   "source": [
    "#Clean strings"
   ]
  },
  {
   "cell_type": "code",
   "execution_count": 126,
   "id": "1af1f7ec",
   "metadata": {},
   "outputs": [],
   "source": [
    "#Change levels in categorical data"
   ]
  },
  {
   "cell_type": "code",
   "execution_count": 127,
   "id": "7c752200",
   "metadata": {},
   "outputs": [],
   "source": [
    "#Cast attributes between numeric and string"
   ]
  },
  {
   "cell_type": "code",
   "execution_count": 128,
   "id": "350740f9",
   "metadata": {},
   "outputs": [
    {
     "data": {
      "text/plain": [
       "'\\n#    - Using sklearn standardscalar to do standardization (z-score normalization)\\n\\nfrom sklearn.preprocessing import StandardScaler\\nscaler = StandardScaler()\\ncolumns = df.columns.values\\nprint(columns)\\nprint(df)\\n\\nscaler.fit(df)\\n\\ndf = pd.DataFrame(scaler.transform(df), columns=columns)\\nf = df[\"num\"]\\nnormF = (f - f.min()) / (f.max() - f.min())\\ndf[\"num\"] = normF\\nprint(df)\\n'"
      ]
     },
     "execution_count": 128,
     "metadata": {},
     "output_type": "execute_result"
    }
   ],
   "source": [
    "\"\"\"\n",
    "    - Adjust the scale of the data (chol 600 but boolean attributes are 0 or 1)    \n",
    "        - age, cp, trestbps, chol, restecg, thaldur, met, thalach, thalrest,\n",
    "        tpeakbps, tpeakbpd, trestbpd, oldpeak, rldv5 and rldv5e\n",
    "        \n",
    "    -We have decided to do min-max normalisation feauture scaling to keep all of the values in line with our boolean features\n",
    "\"\"\"\n",
    "\n",
    "for i in [\"age\", \"cp\", \"trestbps\", \"chol\", \"restecg\", \"thaldur\", \"met\", \"thalach\", \"thalrest\", \"tpeakbps\", \"tpeakbpd\", \"trestbpd\", \"oldpeak\", \"rldv5\", \"rldv5e\"]:\n",
    "    f = df[i]\n",
    "    normF = (f - f.min()) / (f.max() - f.min())\n",
    "    df[i] = normF\n",
    "\n",
    "\n",
    "\"\"\"\n",
    "#    - Using sklearn standardscalar to do standardization (z-score normalization)\n",
    "\n",
    "from sklearn.preprocessing import StandardScaler\n",
    "scaler = StandardScaler()\n",
    "columns = df.columns.values\n",
    "print(columns)\n",
    "print(df)\n",
    "\n",
    "scaler.fit(df)\n",
    "\n",
    "df = pd.DataFrame(scaler.transform(df), columns=columns)\n",
    "f = df[\"num\"]\n",
    "normF = (f - f.min()) / (f.max() - f.min())\n",
    "df[\"num\"] = normF\n",
    "print(df)\n",
    "\"\"\""
   ]
  },
  {
   "cell_type": "code",
   "execution_count": 129,
   "id": "9605d508",
   "metadata": {},
   "outputs": [],
   "source": [
    "#Write this new, preprocessed file to a text file\n",
    "df = df.reset_index()\n",
    "df.to_csv('dataML.csv')"
   ]
  },
  {
   "cell_type": "code",
   "execution_count": null,
   "id": "6188da2a",
   "metadata": {},
   "outputs": [],
   "source": []
  }
 ],
 "metadata": {
  "kernelspec": {
   "display_name": "Python 3 (ipykernel)",
   "language": "python",
   "name": "python3"
  },
  "language_info": {
   "codemirror_mode": {
    "name": "ipython",
    "version": 3
   },
   "file_extension": ".py",
   "mimetype": "text/x-python",
   "name": "python",
   "nbconvert_exporter": "python",
   "pygments_lexer": "ipython3",
   "version": "3.9.7"
  }
 },
 "nbformat": 4,
 "nbformat_minor": 5
}
