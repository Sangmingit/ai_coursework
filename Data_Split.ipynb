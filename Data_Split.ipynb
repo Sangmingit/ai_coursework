{
 "cells": [
  {
   "cell_type": "code",
   "execution_count": 1,
   "id": "d384766a",
   "metadata": {},
   "outputs": [
    {
     "name": "stdout",
     "output_type": "stream",
     "text": [
      "Training set: \n",
      "(173, 25)\n",
      "(173, 1)\n",
      "Counter({0: 110, 1: 63}) \n",
      "\n",
      "Validation set: \n",
      "(43, 25)\n",
      "(43, 1)\n",
      "Counter({0: 27, 1: 16}) \n",
      "\n",
      "Test set: \n",
      "(73, 25)\n",
      "(73, 1)\n",
      "Counter({0: 47, 1: 26}) \n",
      "\n"
     ]
    }
   ],
   "source": [
    "import numpy as np\n",
    "import pandas as pd\n",
    "from sklearn.model_selection import train_test_split\n",
    "from collections import Counter\n",
    "\n",
    "#Import the data after preprocessing\n",
    "df = pd.read_csv(\"dataML.csv\")\n",
    "df = df.iloc[:,2:]\n",
    "\n",
    "#Split the data into X and y, input and output features\n",
    "x = df.iloc[:,:-1]\n",
    "y = df.iloc[:,-1:]\n",
    "\n",
    "#Create Train - Test split, stratified on \"num\" \n",
    "xTrain, xTestD, yTrain, yTestD = train_test_split(x, y, test_size = 0.4, random_state = 21, stratify = y)\n",
    "\n",
    "#Now split the Test set into Validation and Test set\n",
    "xValid, xTest, yValid, yTest = train_test_split(xTestD, yTestD, test_size = 0.625, random_state = 21, stratify = yTestD)\n",
    "\n",
    "print(\"Training set: \")\n",
    "print(xTrain.shape)\n",
    "print(yTrain.shape)\n",
    "print(Counter(yTrain.iloc[:,0]),\"\\n\")\n",
    "\n",
    "print(\"Validation set: \")\n",
    "print(xValid.shape)\n",
    "print(yValid.shape)\n",
    "print(Counter(yValid.iloc[:,0]),\"\\n\")\n",
    "\n",
    "print(\"Test set: \")\n",
    "print(xTest.shape)\n",
    "print(yTest.shape)\n",
    "print(Counter(yTest.iloc[:,0]),\"\\n\")"
   ]
  },
  {
   "cell_type": "code",
   "execution_count": 2,
   "id": "7f694b92",
   "metadata": {},
   "outputs": [],
   "source": [
    "trainingSet = pd.concat([xTrain, yTrain], axis=1, ignore_index=False)\n",
    "validationSet = pd.concat([xValid, yValid], axis=1, ignore_index=False)\n",
    "testSet = pd.concat([xTest, yTest], axis=1, ignore_index=False)\n",
    "\n",
    "trainingSet.to_csv(\"training.csv\")\n",
    "validationSet.to_csv(\"validation.csv\")\n",
    "testSet.to_csv(\"test.csv\")"
   ]
  }
 ],
 "metadata": {
  "kernelspec": {
   "display_name": "Python 3 (ipykernel)",
   "language": "python",
   "name": "python3"
  },
  "language_info": {
   "codemirror_mode": {
    "name": "ipython",
    "version": 3
   },
   "file_extension": ".py",
   "mimetype": "text/x-python",
   "name": "python",
   "nbconvert_exporter": "python",
   "pygments_lexer": "ipython3",
   "version": "3.9.7"
  }
 },
 "nbformat": 4,
 "nbformat_minor": 5
}
